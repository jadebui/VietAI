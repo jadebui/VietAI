{
  "nbformat": 4,
  "nbformat_minor": 0,
  "metadata": {
    "accelerator": "GPU",
    "colab": {
      "name": "1.Solution_Logistic_Regression_&_Softmax_Regression.ipynb",
      "provenance": [],
      "collapsed_sections": [
        "Rul5BLAlOMOC",
        "bzRsJ5bWoGt9",
        "MSU-sZg3oM7N",
        "LRCYuQCfpl1T",
        "GwSNZlg2qFCv",
        "5bgGyuw7rJWg",
        "hPll6bewuoqH",
        "BODXyv9Hu8gm",
        "QhgYv_vEyNI2",
        "fobSVpxdzJCK",
        "akV674wBzsi6",
        "PpjrfpjT0W85",
        "Sh9WycsLLocE",
        "GpHPICzyL7eW",
        "8KLXKJ_IM301",
        "ZmqEjanxNUt_",
        "wrP0xiO8NvzD",
        "jz8g3el2Ork0",
        "4e3JORB8PEfL",
        "Pqz8CAHLQdYY",
        "FZmlnIx6QlPu",
        "ukKgfwZtRH8y",
        "enKFoBSRRNQw",
        "NnNefuNHSyvw",
        "WkG26LWSSdDg",
        "xOa0GhPRTTFd",
        "69rProsfTYWS",
        "Yy_5nMf7mOTW",
        "2Oz_NZPmmp4V",
        "8wm4-xOlnVMZ",
        "SSvZIuG-oUwn",
        "x-NMfsp0o0Ja",
        "gHzTgKgeqLMM",
        "VpXPqYoQzOod"
      ],
      "toc_visible": true
    },
    "kernelspec": {
      "display_name": "Python 3",
      "language": "python",
      "name": "python3"
    },
    "language_info": {
      "codemirror_mode": {
        "name": "ipython",
        "version": 3
      },
      "file_extension": ".py",
      "mimetype": "text/x-python",
      "name": "python",
      "nbconvert_exporter": "python",
      "pygments_lexer": "ipython3",
      "version": "3.7.3"
    }
  },
  "cells": [
    {
      "cell_type": "markdown",
      "metadata": {
        "colab_type": "text",
        "id": "3LGpbq4tSiOw"
      },
      "source": [
        "# Bài tập về nhà 1\n",
        "# Logistic Regression & Softmax Regression"
      ]
    },
    {
      "cell_type": "markdown",
      "metadata": {
        "colab_type": "text",
        "id": "1e8vwb3zTACs"
      },
      "source": [
        "## Tóm tắt nội dung\n",
        "Trong bài tập này, các bạn sẽ sử dụng kiến thức đã học về logistic regression và softmax regression để giải quyết bài toán phân lớp."
      ]
    },
    {
      "cell_type": "markdown",
      "metadata": {
        "colab_type": "text",
        "id": "TbebJwTgTC9a"
      },
      "source": [
        "## Giới thiệu"
      ]
    },
    {
      "cell_type": "markdown",
      "metadata": {
        "colab_type": "text",
        "id": "kESB1ROATIF7"
      },
      "source": [
        "Để có thể hoàn tất bài tập này, các bạn cần nắm rõ những kiến thức sau: \n",
        "- Logistic regression là gì, nguyên tắc hoạt động ra sao.\n",
        "- Softmax regression là gì và nguyên tắc hoạt động.\n",
        "- Cách lấy đạo hàm cho các tham số trong hai mô hình trên.\n",
        "- Giải thuật gradient descent.\n",
        "\n",
        "Bạn có thể tham khảo lại bài giảng của lớp để nắm vững các nội dung này. Ngoài ra, các bạn có thể đặt câu hỏi cho đội ngũ giảng dạy nếu có thắc mắc.\n",
        "\n",
        "Bài tập này sẽ gồm có hai bài chính:\n",
        "- Bài 1: phân loại hai lớp dùng **logistic regression**.\n",
        "- Bài 2: phân loại 10 lớp dùng **softmax regression**.\n",
        "\n",
        "Yêu cầu dành cho các bạn trong là giải quyết hai bài trên bằng **cả numpy và TensorFlow**.\n",
        "\n",
        "*Lưu ý: để tiện cho việc phân biệt giữa lớp python và lớp trong bài toán phân loại, người viết qui ước rằng khi viết **class** nghĩa là đang nói về python class, khi viết lớp nghĩa là đang ám chỉ **lớp** của dữ liệu cần phân loại*"
      ]
    },
    {
      "cell_type": "markdown",
      "metadata": {
        "colab_type": "text",
        "id": "eLgPOx1DpSwb"
      },
      "source": [
        "## Hướng dẫn làm và nộp bài\n",
        "Ở mỗi bài tập, các bạn sẽ được yêu cầu điền phần còn thiếu vào trong hàm, các cell để thực hiện phần bài làm sẽ có dòng đầu tiên như sau:\n",
        "```python\n",
        "# GRADED FUNCTION: <tên hàm>\n",
        "...\n",
        "```\n",
        "Trong cell đó, các bạn sẽ code phần đáp án của mình giữa 2 phần:\n",
        "```python\n",
        "### START CODE HERE ###\n",
        "<phần bài làm>\n",
        "### END CODE HERE ###\n",
        "```\n",
        "\n",
        "Sau khi thực hiện xong các bạn cần để chung file notebook và file `submit.py` vào cùng một thư mục trước khi nộp"
      ]
    },
    {
      "cell_type": "markdown",
      "metadata": {
        "colab_type": "text",
        "id": "pJ1iE641TaNY"
      },
      "source": [
        "## Tải dữ liệu và các hàm cần thiết"
      ]
    },
    {
      "cell_type": "markdown",
      "metadata": {
        "colab_type": "text",
        "id": "Gq7TH8EETxtM"
      },
      "source": [
        "Các bạn chạy cell bên dưới để tải bộ dữ liệu cũng như các hàm dùng để test cách cài đặt của các bạn:"
      ]
    },
    {
      "cell_type": "code",
      "metadata": {
        "colab_type": "code",
        "id": "QxnfQZEGTw2k",
        "colab": {
          "base_uri": "https://localhost:8080/",
          "height": 51
        },
        "outputId": "3afe8d3a-d3d1-4291-d4b3-6a04e8b6618c"
      },
      "source": [
        "from google_drive_downloader import GoogleDriveDownloader as gdd\n",
        "gdd.download_file_from_google_drive(file_id='1I0S1vp6RxDtphOwVynpfPPfMzcvmC8OC', dest_path='./Assignment1.zip', unzip=True)\n",
        "!rm Assignment1.zip"
      ],
      "execution_count": null,
      "outputs": [
        {
          "output_type": "stream",
          "text": [
            "Downloading 1I0S1vp6RxDtphOwVynpfPPfMzcvmC8OC into ./Assignment1.zip... Done.\n",
            "Unzipping...Done.\n"
          ],
          "name": "stdout"
        }
      ]
    },
    {
      "cell_type": "code",
      "metadata": {
        "id": "KagfCteWLUEu",
        "colab_type": "code",
        "colab": {
          "base_uri": "https://localhost:8080/",
          "height": 34
        },
        "outputId": "25010db3-f08d-49e7-a3f4-5b0fdf3aaae6"
      },
      "source": [
        "!ls Assignment1"
      ],
      "execution_count": null,
      "outputs": [
        {
          "output_type": "stream",
          "text": [
            "fashion-mnist  logistic_unittest.npy  softmax_unittest.npy  vehicles.dat\n"
          ],
          "name": "stdout"
        }
      ]
    },
    {
      "cell_type": "markdown",
      "metadata": {
        "colab_type": "text",
        "id": "caPRYRLnVwu8"
      },
      "source": [
        "## Các hàm bổ trợ dùng để đọc dữ liệu\n",
        "\n",
        "Nhóm TA sẽ giúp bạn định nghĩa các hàm bổ trợ trong việc đọc dữ liệu, các bạn không cần chỉnh sửa các hàm này:"
      ]
    },
    {
      "cell_type": "code",
      "metadata": {
        "colab_type": "code",
        "id": "1gHJ1OZONpud",
        "colab": {
          "base_uri": "https://localhost:8080/",
          "height": 34
        },
        "outputId": "84e2386e-3bdd-4774-d32b-2e92c4373874"
      },
      "source": [
        "# GRADED FUNCTION\n",
        "import pickle\n",
        "import gzip\n",
        "import glob\n",
        "import numpy as np\n",
        "import tensorflow as tf\n",
        "import sys\n",
        "import inspect\n",
        "print(\"Tensorflow version: \", tf.__version__)"
      ],
      "execution_count": null,
      "outputs": [
        {
          "output_type": "stream",
          "text": [
            "Tensorflow version:  2.2.0\n"
          ],
          "name": "stdout"
        }
      ]
    },
    {
      "cell_type": "code",
      "metadata": {
        "colab_type": "code",
        "id": "1JV27SB0l0fD",
        "colab": {
          "base_uri": "https://localhost:8080/",
          "height": 105
        },
        "outputId": "63531786-d561-4a36-aa29-ae681088e11f"
      },
      "source": [
        "%pylab inline\n",
        "import matplotlib.pyplot as plt\n",
        "import matplotlib.image as mpimg"
      ],
      "execution_count": null,
      "outputs": [
        {
          "output_type": "stream",
          "text": [
            "Populating the interactive namespace from numpy and matplotlib\n"
          ],
          "name": "stdout"
        },
        {
          "output_type": "stream",
          "text": [
            "/usr/local/lib/python3.6/dist-packages/IPython/core/magics/pylab.py:161: UserWarning: pylab import has clobbered these variables: ['test']\n",
            "`%matplotlib` prevents importing * from pylab and numpy\n",
            "  \"\\n`%matplotlib` prevents importing * from pylab and numpy\"\n"
          ],
          "name": "stderr"
        }
      ]
    },
    {
      "cell_type": "code",
      "metadata": {
        "colab_type": "code",
        "id": "LGG6cXOPVPB2",
        "colab": {}
      },
      "source": [
        "\"\"\"\n",
        "These functions help you read data from data files.\n",
        "Author: Kien Huynh\n",
        "\"\"\"\n",
        "\n",
        "\n",
        "def load_npy(file_name):\n",
        "    \"\"\"load_npy\n",
        "    Load numpy data file. This is needed as python 2.7 pickle uses ascii as default encoding method but python 3.x uses utf-8.abs.\n",
        "\n",
        "    :param file_name: npy file path\n",
        "    \n",
        "    :return obj: loaded numpy object\n",
        "    \"\"\"\n",
        "    \n",
        "    if (sys.version_info[0] >= 3):\n",
        "        obj = np.load(file_name, encoding='latin1')\n",
        "    elif (sys.version_info[0] >=2):\n",
        "        obj = np.load(file_name)\n",
        "    \n",
        "    return obj\n",
        "\n",
        "\n",
        "def load_list(file_name):\n",
        "    \"\"\"load_list\n",
        "    Load a list object to file_name.\n",
        "\n",
        "    :param file_name: string, file name\n",
        "    \"\"\"\n",
        "    end_of_file = False\n",
        "    list_obj = [] \n",
        "    f = open(file_name, 'rb')\n",
        "    python_version = sys.version_info[0]\n",
        "    while (not end_of_file):\n",
        "        try:\n",
        "            if (python_version >= 3):\n",
        "                list_obj.append(pickle.load(f, encoding='latin1'))\n",
        "            elif (python_version >=2):\n",
        "                list_obj.append(pickle.load(f))\n",
        "        except EOFError:\n",
        "            end_of_file = True\n",
        "            print(\"EOF Reached\")\n",
        "\n",
        "    f.close()\n",
        "    return list_obj \n",
        "\n",
        "\n",
        "def save_list(list_obj, file_name):\n",
        "    \"\"\"save_list\n",
        "    Save a list object to file_name\n",
        "    \n",
        "    :param list_obj: List of objects to be saved\n",
        "    :param file_name: file name.\n",
        "    \"\"\"\n",
        "\n",
        "    f = open(file_name, 'wb')\n",
        "    for obj in list_obj:\n",
        "        pickle.dump(obj, f, pickle.HIGHEST_PROTOCOL)\n",
        "    f.close() \n",
        "\n",
        "\n",
        "def get_vehicle_data():\n",
        "    \"\"\"\n",
        "    Load vehicle data and return it as a list: [train_x, train_y, test_x, test_y].\n",
        "    \"\"\"\n",
        "    print('Reading vehicle data...')\n",
        "    train_x, train_y, test_x, test_y = load_list('./Assignment1/vehicles.dat')\n",
        "    train_x = np.transpose(train_x, (2,0,1))\n",
        "    test_x = np.transpose(test_x, (2,0,1)) \n",
        "\n",
        "    print('Done reading')\n",
        "    return train_x, train_y, test_x, test_y\n",
        "\n",
        "\n",
        "def read_mnist_gz(data_path, offset):\n",
        "    with gzip.open(data_path, 'rb') as f:\n",
        "        dataset = np.frombuffer(f.read(), dtype=np.uint8, offset=offset)\n",
        "\n",
        "    return dataset\n",
        "\n",
        "\n",
        "def get_mnist_data(sampling_step=20):\n",
        "    print('Reading fashion MNIST data...')\n",
        "    train_x = read_mnist_gz('./Assignment1/fashion-mnist/train-images-idx3-ubyte.gz', 16)\n",
        "    train_y = read_mnist_gz('./Assignment1/fashion-mnist/train-labels-idx1-ubyte.gz', 8)\n",
        "    test_x = read_mnist_gz('./Assignment1/fashion-mnist/t10k-images-idx3-ubyte.gz', 16)\n",
        "    test_y = read_mnist_gz('./Assignment1/fashion-mnist/t10k-labels-idx1-ubyte.gz', 8)\n",
        "    num_train = len(train_y)\n",
        "    num_test = len(test_y)\n",
        "\n",
        "    train_x = train_x.reshape((num_train, 28*28))\n",
        "    test_x = test_x.reshape((num_test, 28*28))\n",
        "\n",
        "    val_x = train_x[50000:,:]\n",
        "    val_y = train_y[50000:]\n",
        "    train_x = train_x[:50000,:]\n",
        "    train_y = train_y[:50000]\n",
        "\n",
        "    train_x = train_x[0::sampling_step,:]\n",
        "    train_y = train_y[0::sampling_step]\n",
        "    val_x = val_x[0::sampling_step,:]\n",
        "    val_y = val_y[0::sampling_step]\n",
        "    test_x = test_x[0::sampling_step,:]\n",
        "    test_y = test_y[0::sampling_step]\n",
        "    return train_x.astype(np.float32), train_y, val_x.astype(np.float32), val_y, test_x.astype(np.float32), test_y"
      ],
      "execution_count": null,
      "outputs": []
    },
    {
      "cell_type": "markdown",
      "metadata": {
        "colab_type": "text",
        "id": "7yzZpItjWqe4"
      },
      "source": [
        "# Bài 1: Phân loại hai lớp dùng logistic regression"
      ]
    },
    {
      "cell_type": "markdown",
      "metadata": {
        "colab_type": "text",
        "id": "ecv42PtbW2YX"
      },
      "source": [
        "## Dữ liệu Vehicles"
      ]
    },
    {
      "cell_type": "markdown",
      "metadata": {
        "colab_type": "text",
        "id": "3cPITStuW6wW"
      },
      "source": [
        "Tập dữ liệu Vehicles là tập gồm có 2 lớp: xe hơi và xe máy, được gán nhãn lớp 0 (xe hơi) và 1 (xe máy). Ta có thể đọc tập dữ liệu này bằng hàm `get_vehicle_data()`:"
      ]
    },
    {
      "cell_type": "code",
      "metadata": {
        "colab_type": "code",
        "id": "qwTC-jzcWiFS",
        "colab": {
          "base_uri": "https://localhost:8080/",
          "height": 68
        },
        "outputId": "e35b965a-6f54-4a9d-89ae-2179f2e7da33"
      },
      "source": [
        "train_x, train_y, test_x, test_y = get_vehicle_data()"
      ],
      "execution_count": null,
      "outputs": [
        {
          "output_type": "stream",
          "text": [
            "Reading vehicle data...\n",
            "EOF Reached\n",
            "Done reading\n"
          ],
          "name": "stdout"
        }
      ]
    },
    {
      "cell_type": "markdown",
      "metadata": {
        "colab_type": "text",
        "id": "oJOUX3RsXH6k"
      },
      "source": [
        "Ở đây, `train_x` là một numpy tensor có kích thước `2400 × 64 × 64` (ý nghĩa: tập dữ liệu huấn luyện `train_x` có 2400 mẫu, mỗi mẫu là 1 ảnh có chiều cao (height) và rộng (width) bằng 64)."
      ]
    },
    {
      "cell_type": "code",
      "metadata": {
        "colab_type": "code",
        "id": "ygeWwMeLXCVG",
        "colab": {
          "base_uri": "https://localhost:8080/",
          "height": 34
        },
        "outputId": "394fca89-f19c-4215-d40a-01b09d2c5ab6"
      },
      "source": [
        "train_x.shape"
      ],
      "execution_count": null,
      "outputs": [
        {
          "output_type": "execute_result",
          "data": {
            "text/plain": [
              "(2400, 64, 64)"
            ]
          },
          "metadata": {
            "tags": []
          },
          "execution_count": 14
        }
      ]
    },
    {
      "cell_type": "markdown",
      "metadata": {
        "colab_type": "text",
        "id": "sjePyisfXPES"
      },
      "source": [
        "`train_y` là ma trận chứa nhãn ứng với mẫu dữ liệu trong `train_x`."
      ]
    },
    {
      "cell_type": "code",
      "metadata": {
        "colab_type": "code",
        "id": "rkUDMyxrXOCZ",
        "colab": {
          "base_uri": "https://localhost:8080/",
          "height": 34
        },
        "outputId": "20813613-251c-408d-b60e-7aecef0245f7"
      },
      "source": [
        "train_y.shape"
      ],
      "execution_count": null,
      "outputs": [
        {
          "output_type": "execute_result",
          "data": {
            "text/plain": [
              "(2400, 1)"
            ]
          },
          "metadata": {
            "tags": []
          },
          "execution_count": 15
        }
      ]
    },
    {
      "cell_type": "markdown",
      "metadata": {
        "colab_type": "text",
        "id": "Ain-QssjXl_6"
      },
      "source": [
        "Tương tự, `test_x` có kích thước `600 × 64 × 64`, mỗi hàng trong `test_y` biểu diễn cho nhãn của mỗi mẫu trong `test_x`."
      ]
    },
    {
      "cell_type": "code",
      "metadata": {
        "colab_type": "code",
        "id": "R_ceIkDBXWkp",
        "colab": {
          "base_uri": "https://localhost:8080/",
          "height": 51
        },
        "outputId": "bd81955a-6953-43e6-a958-47a3f3dc6cd7"
      },
      "source": [
        "print(test_x.shape)\n",
        "print(test_y.shape)"
      ],
      "execution_count": null,
      "outputs": [
        {
          "output_type": "stream",
          "text": [
            "(600, 64, 64)\n",
            "(600, 1)\n"
          ],
          "name": "stdout"
        }
      ]
    },
    {
      "cell_type": "markdown",
      "metadata": {
        "colab_type": "text",
        "id": "o_rh0p9xYF5S"
      },
      "source": [
        "Hai tensor `train_x` và `train_y` được dùng cho việc huấn luyện mô hình phân loại; hai tensor `test_x` và `test_y` được dùng cho quá trình đánh giá (test)."
      ]
    },
    {
      "cell_type": "markdown",
      "metadata": {
        "colab_type": "text",
        "id": "03loyD0hYUrJ"
      },
      "source": [
        "Tập dữ liệu này gồm các ảnh xám (gray images), mỗi ảnh chứa một trong hai loại phương tiện di chuyển: xe máy và xe hơi. Mỗi ảnh có thể chứa trọn vẹn hoặc một phần phương tiện. Cần lưu ý là dữ liệu ảnh ở đây chưa được chuẩn hóa, nên các giá trị vẫn nằm trong khoảng từ 0 đến 255."
      ]
    },
    {
      "cell_type": "code",
      "metadata": {
        "colab_type": "code",
        "id": "GwY_Zi5VX7Hr",
        "colab": {
          "base_uri": "https://localhost:8080/",
          "height": 268
        },
        "outputId": "16893b76-c009-4e03-b03d-060d9b0380e0"
      },
      "source": [
        "imgplot = plt.imshow(train_x[0])\n",
        "plt.show()"
      ],
      "execution_count": null,
      "outputs": [
        {
          "output_type": "display_data",
          "data": {
            "image/png": "[encoded data removed]",
            "text/plain": [
              "<Figure size 432x288 with 1 Axes>"
            ]
          },
          "metadata": {
            "tags": [],
            "needs_background": "light"
          }
        }
      ]
    },
    {
      "cell_type": "code",
      "metadata": {
        "colab_type": "code",
        "id": "FzGjMBfurRIQ",
        "colab": {
          "base_uri": "https://localhost:8080/",
          "height": 268
        },
        "outputId": "c1c1ca5b-304b-4b1c-adcc-299bb905a4a5"
      },
      "source": [
        "imgplot = plt.imshow(train_x[2399])\n",
        "plt.show()"
      ],
      "execution_count": null,
      "outputs": [
        {
          "output_type": "display_data",
          "data": {
            "image/png": "[encoded data removed]",
            "text/plain": [
              "<Figure size 432x288 with 1 Axes>"
            ]
          },
          "metadata": {
            "tags": [],
            "needs_background": "light"
          }
        }
      ]
    },
    {
      "cell_type": "markdown",
      "metadata": {
        "colab_type": "text",
        "id": "Rul5BLAlOMOC"
      },
      "source": [
        "## Chuẩn hóa dữ liệu ảnh\n",
        "Như đã kể trên, ảnh đầu vào có giá trị từ 0 đến 255. Nếu ta đưa trực tiếp bộ ảnh vào quá trình huấn luyện sẽ làm cho gradient lớn. Vì vậy, trước khi huấn luyện, ta có thể sử dụng phương pháp chuẩn hóa dữ liệu để đưa trung bình (mean) của tập train về 0 và độ lệch chuẩn (standard deviation - std) của nó về 1.\n",
        "\n",
        "Đối với việc xử lý hình ảnh, ta có hai cách chuẩn hóa khác nhau:\n",
        "*   (a) Xem mỗi pixel trong ảnh là một đặc trưng riêng rẽ. Ví dụ, pixel [1, 3] và pixel [4, 2] là hai đặc trưng khác nhau, được tính mean và std riêng.\n",
        "*   (b) Xem các pixel khác nhau trong ảnh là cùng 1 loại đặc trưng. Lúc này, pixel [1, 3] và pixel [4, 2] được xem là cùng 1 loại đặc trưng, được tính mean và std chung.\n",
        "\n",
        "Trong mục này, bạn cần hiện thực cách chuẩn hóa (a) trong hàm ```normalize_per_pixel``` và cách (b) trong hàm ```normalize_all_pixel```. Giả sử ta có ```m``` ảnh train ```x_0..xm−1```, mỗi ảnh train có R hàng và C cột, thì mean và std tính theo cách (a) sẽ là:\n",
        "\n",
        "\\begin{equation}\n",
        "\\overline{x}_{rc}=\\frac{1}{m}\\sum_{i=0}^{m-1}x_{rc}^{(i)}, 0 \\le r \\le R-1,0 \\le c \\le C-1 \\tag{1}\n",
        "\\end{equation}\n",
        "\n",
        "\\begin{equation}\n",
        "\\sigma_{rc}=\\sqrt{\\frac{1}{m}\\sum_{i=0}^{m-1}{(x_{rc}^{(i)}-\\overline{x}_{rc})^2}} \\tag{2}\n",
        "\\end{equation}\n",
        "\n",
        "Đối với cách (b) ta sẽ có:\n",
        "\n",
        "\\begin{equation}\n",
        "\\overline{x} = \\frac{1}{mRC}\\sum_{i=0}^{m-1}{\\sum_{r=0}^{R-1}{\\sum_{c=0}^{C-1}{x_{rc}^{(i)}}}} \\tag{3}\n",
        "\\end{equation}\n",
        "\n",
        "\\begin{equation}\n",
        "\\sigma=\\sqrt{\\frac{1}{mRC}\\sum_{i=0}^{m-1}{\\sum_{r=0}^{R-1}{\\sum_{c=0}^{C-1}{(x_{rc}^{(i)}-\\overline{x})^2}}}} \\tag{4}\n",
        "\\end{equation}\n",
        "\n",
        "Sau khi có được mean và std trên toàn bộ data huấn luyện, ta chuẩn hóa các mẫu trong tập huấn luyện theo cách sau:\n",
        "\n",
        "\\begin{equation}\n",
        "x^{(i)} = \\frac{x^{(i)}-\\overline{x}}{\\sigma} \\tag{5}\n",
        "\\end{equation} \n",
        "\n",
        "Đối với cách (a), việc này sẽ được áp dụng riêng cho từng pixel trong số $R\\times{C}$. Với cách (b), thì ta dùng chung $\\overline{x}$ và $\\sigma$ trong công thức (3) và (4) cho toàn bộ tất cả các pixel.\n",
        "\n",
        "Cần lưu ý rằng $\\overline{x}$ và $\\sigma$ chỉ được tính trên $m$ mẫu dữ liệu huấn luyện. Sau đó, hai giá trị này sẽ được dùng lại để chuẩn hóa các mẫu dữ liệu test (và validation nếu có). Việc tính $\\overline{x}$ và $\\sigma$ mà có sử dụng các dữ liệu trong tập test là vi phạm nguyên tắc đánh giá các mô hình học máy. \n",
        "\n"
      ]
    },
    {
      "cell_type": "markdown",
      "metadata": {
        "colab_type": "text",
        "id": "bzRsJ5bWoGt9"
      },
      "source": [
        "#### TODO 1: normalize_per_pixel "
      ]
    },
    {
      "cell_type": "code",
      "metadata": {
        "colab_type": "code",
        "id": "NB53DTTQmqCA",
        "colab": {}
      },
      "source": [
        "# GRADED FUNCTION: normalize_per_pixel\n",
        "def normalize_per_pixel(train_x, test_x):\n",
        "    \"\"\"normalize_per_pixel\n",
        "    This function computes the mean and standard deviation of the pixels located at the same coordinates across all training images \n",
        "    and performs data scaling on train_x and test_x using these computed values.\n",
        "\n",
        "    :param train_x: training images, shape=(num_train, image_height, image_width)\n",
        "    :param test_x: test images, shape=(num_test, image_height, image_width)\n",
        "    \"\"\"\n",
        "    # The shape of train_mean and train_std should be (1, image_height, image_width).\n",
        "    ### START CODE HERE ### (≈4 lines)\n",
        "    train_mean = np.mean(train_x, axis=0, dtype=np.float64, keepdims=True)\n",
        "    train_std = np.std(train_x, axis=0, dtype=np.float64, keepdims=True)\n",
        "\n",
        "    train_x = (train_x-train_mean)/train_std\n",
        "    test_x = (test_x-train_mean)/train_std\n",
        "    ### END CODE HERE ###\n",
        "    \n",
        "    return train_x, test_x\n",
        "\n",
        "train_x = np.arange(2*2*3).reshape(2,2,3)\n",
        "assert np.sum(normalize_per_pixel(train_x, train_x)) == 0, \"Wrong\""
      ],
      "execution_count": null,
      "outputs": []
    },
    {
      "cell_type": "markdown",
      "metadata": {
        "colab_type": "text",
        "id": "MSU-sZg3oM7N"
      },
      "source": [
        "#### TODO 2: normalize_all_pixel"
      ]
    },
    {
      "cell_type": "code",
      "metadata": {
        "colab_type": "code",
        "id": "yguGEWe1msRo",
        "colab": {}
      },
      "source": [
        "# GRADED FUNCTION: normalize_per_pixel\n",
        "def normalize_all_pixels(train_x, test_x):\n",
        "    \"\"\"normalize_all_pixels\n",
        "    This function computes the mean and standard deviation of all pixels and performs data scaling on train_x and test_x using these computed values.\n",
        "\n",
        "    :param train_x: training images, shape=(num_train, image_height, image_width)\n",
        "    :param test_x: test images, shape=(num_test, image_height, image_width)\n",
        "    \"\"\"\n",
        "    # The shape of train_mean and train_std should be (1, 1, 1).\n",
        "    ### START CODE HERE ### (≈4 lines)\n",
        "    train_mean = np.mean(train_x, axis=(0,1,2), dtype=np.float64, keepdims=True)\n",
        "    train_std = np.std(train_x, axis=(0,1,2), dtype=np.float64, keepdims=True)\n",
        "\n",
        "    train_x = (train_x-train_mean)/train_std\n",
        "    test_x = (test_x-train_mean)/train_std\n",
        "    ### END CODE HERE ###\n",
        "    \n",
        "    return train_x, test_x\n",
        "\n",
        "train_x = np.arange(2*2*3).reshape(2,2,3)\n",
        "assert np.sum(normalize_all_pixels(train_x, train_x)) > 0, \"Wrong\""
      ],
      "execution_count": null,
      "outputs": []
    },
    {
      "cell_type": "markdown",
      "metadata": {
        "colab_type": "text",
        "id": "c-nakFutobwo"
      },
      "source": [
        "## Duỗi dữ liệu\n",
        "\n",
        "Dữ liệu ở bước trên vẫn còn ở dạng tensor 3D ($2400 \\times 64 \\times 64$). Để có thể thực hiện các phép nhân ma trận trong bài toán logistic regression, ta cần chuẩn chúng về dạng tensor 2D ($2400 \\times 4096$). Các bạn cần thực hiện bước này trong hàm `reshape2D`."
      ]
    },
    {
      "cell_type": "markdown",
      "metadata": {
        "colab_type": "text",
        "id": "fZP6cBp5osT5"
      },
      "source": [
        "#### TODO 3: reshape2D"
      ]
    },
    {
      "cell_type": "code",
      "metadata": {
        "colab_type": "code",
        "id": "EWQ-uSJdtMzK",
        "colab": {}
      },
      "source": [
        "# GRADED FUNCTION: reshape2D\n",
        "def reshape2D(tensor):\n",
        "    \"\"\"reshape_2D\n",
        "    Reshape our 3D tensors to 2D. A 3D tensor of shape (num_samples, image_height, image_width) must be reshaped into (num_samples, image_height*image_width).\n",
        "    \"\"\"\n",
        "    result = None\n",
        "    ### START CODE HERE ### (≈1 line)\n",
        "    result = np.reshape(tensor, (tensor.shape[0], -1))\n",
        "    ### END CODE HERE ###\n",
        "    return result\n",
        "\n",
        "tensor = np.arange(2*3*4).reshape(2,3,4)\n",
        "assert sum(reshape2D(tensor).shape)==14, \"Wrong\""
      ],
      "execution_count": null,
      "outputs": []
    },
    {
      "cell_type": "markdown",
      "metadata": {
        "colab_type": "text",
        "id": "LRCYuQCfpl1T"
      },
      "source": [
        "## Thêm đặc trưng 1 vào dữ liệu\n",
        "Để tính tích vô hướng dễ dàng, nối thêm một cột có giá trị bằng 1 vào `train_x` và `test_x` (concatenate có axis=1). Trong file có sẵn hàm `add_one` và ta nên thực hiện code trong hàm này. Sau bước này, dữ liệu huấn luyện sẽ có kích thước $2400 \\times 4097$."
      ]
    },
    {
      "cell_type": "markdown",
      "metadata": {
        "colab_type": "text",
        "id": "GwSNZlg2qFCv"
      },
      "source": [
        "#### TODO 4: add_one"
      ]
    },
    {
      "cell_type": "code",
      "metadata": {
        "colab_type": "code",
        "id": "0d732mHkqDWn",
        "colab": {}
      },
      "source": [
        "# GRADED FUNCTION: add_one\n",
        "def add_one(x):\n",
        "    \"\"\"add_one\n",
        "    This function add ones as an additional feature for x.\n",
        "\n",
        "    :param x: input data\n",
        "    \"\"\"\n",
        "    ### START CODE HERE ### (≈1 line)\n",
        "    x = np.concatenate((x, np.ones((x.shape[0], 1))), axis=1)\n",
        "    ### END CODE HERE ###\n",
        "    return x\n",
        "\n",
        "x = np.arange(2*3).reshape(2,3)\n",
        "assert add_one(x).sum() == 17, \"Wrong\""
      ],
      "execution_count": null,
      "outputs": []
    },
    {
      "cell_type": "markdown",
      "metadata": {
        "colab_type": "text",
        "id": "5bgGyuw7rJWg"
      },
      "source": [
        "## Class LogisticClassifier\n",
        "\n",
        "Nhằm hỗ trợ cho việc lập trình, đội ngũ TA cung cấp sẵn cho các bạn class **LogisticClassifier**. Một trong các thành phần chính của class LogisticClassifier là `w`, tham số mà ta cần tìm khi huấn luyện. Tham số này là một mảng có số hàng bằng số đặc trưng của dữ liệu đầu vào, số cột bằng 1. Cụ thể trong bài toán phân loại ảnh xe này, `w` sẽ là một ma trận $4097\\times{1}$. `w` được khởi tạo ngẫu nhiên trong hàm `__init__(w_shape)`. Để truy xuất `w` từ bên trong class, ta dùng `self.w`, ví dụ:\n",
        "```python\n",
        "class logistic_classifier(object):\n",
        "    def feed_forward(self, x):\n",
        "        print(self.w)\n",
        "```"
      ]
    },
    {
      "cell_type": "markdown",
      "metadata": {
        "colab_type": "text",
        "id": "bvCZwnjktV88"
      },
      "source": [
        "Để truy xuất w từ bên ngoài class, ta cần có một thực thể của class và gọi thông qua thực thể này, ví dụ:\n",
        "```python\n",
        "if __name__ == \"__main__\":\n",
        "    num_feature = train_x.shape[1]\n",
        "    bin_classifier = LogisticClassifier((num_feature, 1))\n",
        "    print(bin_classifier.w)\n",
        "```"
      ]
    },
    {
      "cell_type": "markdown",
      "metadata": {
        "colab_type": "text",
        "id": "EDSIBJPatljC"
      },
      "source": [
        "Đối với các hàm thuộc class **LogisticClassifier**, việc truy xuất cũng hoàn toàn giống với `w`. Chúng sẽ được mô tả chi tiết trong mục tiếp theo."
      ]
    },
    {
      "cell_type": "code",
      "metadata": {
        "colab_type": "code",
        "id": "-HvKyAwnteLa",
        "colab": {}
      },
      "source": [
        "# GRADED FUNCTION\n",
        "class LogisticClassifier(object):\n",
        "    def __init__(self, w_shape):\n",
        "        \"\"\"__init__\n",
        "        \n",
        "        :param w_shape: create w with shape w_shape using normal distribution\n",
        "        \"\"\"\n",
        "\n",
        "        mean = 0\n",
        "        std = 1\n",
        "        self.w = np.random.normal(0, np.sqrt(2./np.sum(w_shape)), w_shape)\n",
        "\n",
        "\n",
        "    def feed_forward(self, x):\n",
        "        \"\"\"TODO 5: feed_forward\n",
        "        This function computes the output of your logistic classification model.\n",
        "        \n",
        "        :param x: input\n",
        "        \"\"\"\n",
        "        result = None\n",
        "        \n",
        "        ### START CODE HERE ### (≈2 lines)\n",
        "        result = np.dot(x, self.w)\n",
        "        result = 1. / (1. + np.exp(-result))\n",
        "        ### END CODE HERE ###\n",
        "        \n",
        "        return result\n",
        "\n",
        "\n",
        "    def compute_loss(self, y, y_hat):\n",
        "        \"\"\"TODO 6: compute_loss\n",
        "        Compute the loss using y (label) and y_hat (predicted class).\n",
        "\n",
        "        :param y:  the label, the actual class of the sample data\n",
        "        :param y_hat: the probabilities that the given sample data belong to class 1\n",
        "        \"\"\"\n",
        "        loss = 0\n",
        "        \n",
        "        ### START CODE HERE ### (≈2 lines)\n",
        "        loss = -(y*np.log(y_hat) + (1-y)*np.log(1-y_hat))\n",
        "        loss = np.mean(loss)\n",
        "        ### END CODE HERE ###\n",
        "        \n",
        "        return loss\n",
        "\n",
        "\n",
        "    def get_grad(self, x, y, y_hat):\n",
        "        \"\"\"TODO 7: get_grad\n",
        "        Compute and return the gradient of w.\n",
        "\n",
        "        :param x: input\n",
        "        :param y: the label, the actual class of the sample data\n",
        "        :param y_hat: predicted y\n",
        "        \"\"\" \n",
        "        w_grad = None\n",
        "        \n",
        "        ### START CODE HERE ### (≈2 lines)\n",
        "        w_grad = np.mean(x*(y_hat-y), axis=0)\n",
        "        w_grad = w_grad.reshape((w_grad.shape[0], 1))\n",
        "        ### END CODE HERE ###\n",
        "        \n",
        "        return w_grad\n",
        "\n",
        "\n",
        "    def update_weight(self, grad, learning_rate):\n",
        "        \"\"\"TODO 8: update_weight\n",
        "        Update w using the computed gradient.\n",
        "\n",
        "        :param grad: gradient computed from the loss\n",
        "        :param learning_rate: float, learning rate\n",
        "        \"\"\"\n",
        "        ### START CODE HERE ### (≈1 line)\n",
        "        self.w = self.w - learning_rate*grad \n",
        "        ### END CODE HERE ###\n",
        "        return self.w\n",
        "\n",
        "\n",
        "    def update_weight_momentum(self, grad, learning_rate, momentum, momentum_rate):\n",
        "        \"\"\"update_weight with momentum\n",
        "        BONUS:[YC1.8]\n",
        "        Update w using the algorithm with momentum\n",
        "\n",
        "        :param grad: gradient computed from the loss\n",
        "        :param learning_rate: float, learning rate\n",
        "        :param momentum: the array storing momentum for training w, should have the same shape as that of w\n",
        "        :param momentum_rate: float, how much momentum to reuse after each loop\n",
        "        \"\"\"\n",
        "        ### START CODE HERE ### (≈3 lines)\n",
        "        momentum *= momentum_rate\n",
        "        momentum += learning_rate*grad\n",
        "        self.w = self.w - momentum\n",
        "        ### END CODE HERE ###\n",
        "        return self.w\n",
        "\n",
        "\n",
        "    def numerical_check(self, x, y, grad):\n",
        "        eps = 0.000005\n",
        "        w_test0 = np.copy(self.w)\n",
        "        w_test1 = np.copy(self.w)\n",
        "        w_test0[2] = w_test0[2] - eps\n",
        "        w_test1[2] = w_test1[2] + eps\n",
        "\n",
        "        y_hat0 = np.dot(x, w_test0)\n",
        "        y_hat0 = 1. / (1. + np.exp(-y_hat0))\n",
        "        loss0 = self.compute_loss(y, y_hat0) \n",
        "\n",
        "        y_hat1 = np.dot(x, w_test1)\n",
        "        y_hat1 = 1. / (1. + np.exp(-y_hat1))\n",
        "        loss1 = self.compute_loss(y, y_hat1) \n",
        "\n",
        "        numerical_grad = (loss1 - loss0)/(2*eps)\n",
        "        print(numerical_grad)\n",
        "        print(grad[2])\n",
        "\n",
        "# SANITY CHECK\n",
        "eps = 0.001        \n",
        "classifer = LogisticClassifier((3,1))\n",
        "classifer.w = np.arange(3*1).reshape(3,1)\n",
        "x = np.ones(2*3).reshape(2,3)\n",
        "y = np.ones(2).reshape(2,1)\n",
        "y_hat = classifer.feed_forward(x)\n",
        "assert abs(sum(y_hat) - 1.905) < eps, \"Wrong\"\n",
        "loss = classifer.compute_loss(y, y_hat)\n",
        "assert abs(loss - 0.048) < eps, \"Wrong\"\n",
        "grad = classifer.get_grad(x, y, y_hat)\n",
        "assert abs(sum(grad) + 0.142) < eps, \"Wrong\"\n",
        "updateweight = classifer.update_weight(grad, 0.1)\n",
        "assert abs(sum(updateweight) - 3.014) < eps, \"Wrong\"\n",
        "updatemomen = classifer.update_weight_momentum(grad, 0.1, 0.1, 0.1)\n",
        "assert abs(sum(updatemomen) - 2.998) < eps, \"Wrong\""
      ],
      "execution_count": null,
      "outputs": []
    },
    {
      "cell_type": "markdown",
      "metadata": {
        "colab_type": "text",
        "id": "hPll6bewuoqH"
      },
      "source": [
        "## Tính các giá trị phân loại\n",
        "\n",
        "Các giá trị phân loại, $\\hat{y}$, sẽ được tính trong hàm `feed_forward` của class `LogisticClassifier`. Công thức tính như sau:\n",
        "\n",
        "\\begin{equation}\n",
        "z = xw  \\tag{6}\n",
        "\\end{equation}\n",
        "\\begin{equation}\n",
        "\\hat{y} = \\frac{1}{1+e^{-z}} \\tag{7}\n",
        "\\end{equation}\n",
        "\n",
        "Ở đây, $w = [w_0, w_1,.., w_{4096}]^T$ là các tham số cần học (lưu trong biến `self.w` trong class `LogisticClassifier`). Lẽ ra công thức (6) được viết là $z=xw+w_{4096}$, tuy nhiên ở bước trên ta đã thêm 1 vào làm đặc trưng cuối cho tất cả các mẫu. Việc này giúp cho quá trình nhân ma trận và quản lý các biến gọn hơn."
      ]
    },
    {
      "cell_type": "markdown",
      "metadata": {
        "colab_type": "text",
        "id": "BODXyv9Hu8gm"
      },
      "source": [
        "#### TODO 5: feed_forward\n",
        "\n",
        "Các bạn làm bài vào phần class [ở trên](https://colab.research.google.com/drive/12bld2e7lqbyihWx5v2qzKNiuTOlXMCkc?authuser=2#scrollTo=-HvKyAwnteLa)"
      ]
    },
    {
      "cell_type": "markdown",
      "metadata": {
        "colab_type": "text",
        "id": "QhgYv_vEyNI2"
      },
      "source": [
        "## Tính độ lỗi\n",
        "\n",
        "Việc tính độ lỗi được thực hiện trong hàm `compute_loss` của class `LogisticClassifier`. Công thức tính độ lỗi như sau:\n",
        "\n",
        "\\begin{equation}\n",
        "J(w) = -\\frac{1}{m}\\sum_{i=0}^{m-1}(y^{(i)}\\log{\\hat{y}^{(i)}} + (1-y^{(i)})\\log(1-\\hat{y}^{(i)})) \\tag{8}\n",
        "\\end{equation}\n",
        "\n",
        "Trong đó:\n",
        "-  $y^{(i)}$ là nhãn của mẫu thứ $i$, mẫu thuộc lớp 0 sẽ có $y^{(i)}=0$, mẫu thuộc lớp 1 sẽ có $y^{(i)}=1$. Ta có thể truy cập các nhãn này thông qua biến `train_y` và `test_y`.\n",
        "- $\\hat{y}^{(i)} \\in (0, 1)$ là phần tử thứ $i$ trong vector $\\hat{y}$.\n",
        "- $m=2400$ là tổng số mẫu huấn luyện.\n",
        "\n",
        "\n",
        "Để tính trung bình trên ma trận theo hàng hoặc cột, ta có thể sử dụng hàm `np.mean()` với tham số axis tương ứng."
      ]
    },
    {
      "cell_type": "markdown",
      "metadata": {
        "colab_type": "text",
        "id": "fobSVpxdzJCK"
      },
      "source": [
        "#### TODO 6: compute_loss\n",
        "\n",
        "Các bạn làm bài vào phần class [ở trên](https://colab.research.google.com/drive/12bld2e7lqbyihWx5v2qzKNiuTOlXMCkc?authuser=2#scrollTo=-HvKyAwnteLa)"
      ]
    },
    {
      "cell_type": "markdown",
      "metadata": {
        "colab_type": "text",
        "id": "akV674wBzsi6"
      },
      "source": [
        "## Tính đạo hàm\n",
        "Để tính đạo hàm riêng cho thành phần $w_j$ trong $w$ trong hàm `get_grad`, ta dùng công thức sau:\n",
        "\\begin{equation}\n",
        "\\frac{\\partial  J(w_j)}{\\partial w_j} = \\frac{1}{m}\\sum_{i=1}^{m}(\\hat{y}^{(i)} - y^{(i)})x^{(i)}_j \\tag{9}\n",
        "\\end{equation}\n",
        "\n",
        "Trong trường hợp này, sau khi thêm 1 vào `train_x` thì ta sẽ có $0 \\le j \\le 4096$."
      ]
    },
    {
      "cell_type": "markdown",
      "metadata": {
        "colab_type": "text",
        "id": "PpjrfpjT0W85"
      },
      "source": [
        "#### TODO 7: get_grad\n",
        "Các bạn làm bài vào phần class [ở trên](https://colab.research.google.com/drive/12bld2e7lqbyihWx5v2qzKNiuTOlXMCkc?authuser=2#scrollTo=-HvKyAwnteLa)"
      ]
    },
    {
      "cell_type": "markdown",
      "metadata": {
        "colab_type": "text",
        "id": "Sh9WycsLLocE"
      },
      "source": [
        "## Cập nhật $w$\n",
        "Để huấn luyện được mô hình phân loại trong hàm `update_weight`, ta cần cập nhật $w$ theo công thức sau:\n",
        "\\begin{equation}\n",
        "w = w - \\alpha\\times\\frac{\\partial  J(w)}{\\partial w} \\tag{10}\n",
        "\\end{equation}\n",
        "\n",
        "Với $\\alpha$ là hệ số học (`learning_rate`)."
      ]
    },
    {
      "cell_type": "markdown",
      "metadata": {
        "colab_type": "text",
        "id": "GpHPICzyL7eW"
      },
      "source": [
        "#### TODO 8: update_weight\n",
        "Các bạn làm bài vào phần class [ở trên](https://colab.research.google.com/drive/12bld2e7lqbyihWx5v2qzKNiuTOlXMCkc?authuser=2#scrollTo=-HvKyAwnteLa)"
      ]
    },
    {
      "cell_type": "markdown",
      "metadata": {
        "colab_type": "text",
        "id": "8KLXKJ_IM301"
      },
      "source": [
        "## Cập nhật $w$ dùng momentum\n",
        "\n",
        "Giải thuật cập nhật trình bày trong phần trước có điểm yếu là chậm và dễ rơi vào tối ưu cục bộ. Tuy trong bài này, giải thuật đó cũng đủ để giải quyết, nhưng ta vẫn có thể sử dụng giải thuật có quán tính để việc huấn luyện diễn ra nhanh hơn.\n",
        "\n",
        "Khởi tạo ma trận quán tính trước khi vào vòng lặp chính:\n",
        "\\begin{equation}\n",
        "\\Delta w = 0 \\tag{11}\n",
        "\\end{equation}\n",
        "\n",
        "Ở đây, $\\Delta w$ là ma trận có kích thước bằng chính kích thước của $w$. Quá trình cập nhật $w$ sẽ được diễn ra như sau:\n",
        "\\begin{equation}\n",
        "\\Delta w = \\gamma\\Delta w + \\alpha\\frac{\\partial  J(w)}{\\partial w} \\tag{12}\n",
        "\\end{equation}\n",
        "\n",
        "\\begin{equation}\n",
        "w = w - \\Delta w \\tag{13}\n",
        "\\end{equation}\n",
        "\n",
        "Với $\\gamma$ là hệ số quán tính (thường được đặt là 0.9)."
      ]
    },
    {
      "cell_type": "markdown",
      "metadata": {
        "colab_type": "text",
        "id": "ZmqEjanxNUt_"
      },
      "source": [
        "#### TODO 9: update_weight_momentum\n",
        "\n",
        "Các bạn làm bài vào phần class [ở trên](https://colab.research.google.com/drive/12bld2e7lqbyihWx5v2qzKNiuTOlXMCkc?authuser=2#scrollTo=-HvKyAwnteLa)"
      ]
    },
    {
      "cell_type": "markdown",
      "metadata": {
        "colab_type": "text",
        "id": "wrP0xiO8NvzD"
      },
      "source": [
        "## Đánh giá mô hình phân loại\n",
        "Để đánh giá mô hình phân loại trên tập kiểm thử (`test_x` và `test_y`), trước tiên, ta cần thực hiện tính các giá trị phân loại trên`test_x`. Sau khi đã có các giá trị này, ta sử dụng các tiêu chí sau để đánh giá mô hình:\n",
        "\n",
        "\\begin{equation}\n",
        "Precision = \\frac{TP}{TP+FP} \\tag{14}\n",
        "\\end{equation}\n",
        "\n",
        "\\begin{equation}\n",
        "Recall = \\frac{TP}{P} \\tag{15}\n",
        "\\end{equation}\n",
        "\n",
        "\\begin{equation}\n",
        "F_1-score = 2\\times\\frac{Precision\\times Recall}{Precision+Recall} \\tag{16}\n",
        "\\end{equation}\n",
        "\n",
        "Trong đó:\n",
        "- Lớp positive là lớp có giá trị y = 1.\n",
        "- TP (true positive) là tổng số các mẫu mà mô hình dự đoán là positive ($\\hat{y}=1$) và thực sự có nhãn là positive ($y=1$)\n",
        "- FP (false positive) là tổng số các mẫu mô hình dự đoán là positive ($\\hat{y}=1$) nhưng thực chất có nhãn là negative ($y=0$)\n",
        "- P là tổng số mẫu positive trong tập test\n",
        "\\end{itemize}\n",
        "\n",
        "Nhiệm vụ của bạn trong bước này là tính các thông số trên trong hàm `test`. Khi tiến hành kiểm thử, người ra đề đã tính được các giá trị $Precision=0.766$, $Recall=0.830$ và $F_1-score=0.797$. Bạn hãy cố gắng hoàn thiện bài làm của mình để đạt kết quả tương tự hoặc tốt hơn."
      ]
    },
    {
      "cell_type": "markdown",
      "metadata": {
        "colab_type": "text",
        "id": "jz8g3el2Ork0"
      },
      "source": [
        "#### TODO 10: test"
      ]
    },
    {
      "cell_type": "code",
      "metadata": {
        "colab_type": "code",
        "id": "8dYywqX6tOS9",
        "colab": {}
      },
      "source": [
        "# GRADED FUNCTION\n",
        "def test(y_hat, test_y, thres=0.5):\n",
        "    \"\"\"test\n",
        "    Compute precision, recall and F1-score based on predicted test values\n",
        "\n",
        "    :param y_hat: predicted values, output of classifier.feed_forward\n",
        "    :param test_y: test labels\n",
        "    :param thres: \n",
        "    \"\"\"\n",
        "    \n",
        "    # [TODO 1.10]\n",
        "    # Compute test scores using test_y and y_hat\n",
        "\n",
        "    precision = 0\n",
        "    recall = 0\n",
        "    f1 = 0\n",
        "    ### START CODE HERE ### (≈7 lines)\n",
        "    pos_ind = y_hat > thres\n",
        "    true_pos = test_y[pos_ind] == 1\n",
        "    false_pos = test_y[pos_ind] == 0\n",
        "    precision = float(np.sum(true_pos)) / float((np.sum(true_pos) + np.sum(false_pos)))\n",
        "    \n",
        "    true = test_y == 1\n",
        "    recall = float(np.sum(true_pos)) / float(np.sum(true))\n",
        "    f1 = (2*precision*recall/(precision+recall))\n",
        "    ### END CODE HERE ###\n",
        "\n",
        "    return precision, recall, f1\n",
        "\n",
        "\n",
        "y_hat = np.array([0.4, 0.7, 0.8, 0.3, 0.2])\n",
        "test_y = np.array([0, 1, 1, 0, 0])\n",
        "assert sum(test(y_hat, test_y)) == 3, \"Wrong\"\n"
      ],
      "execution_count": null,
      "outputs": []
    },
    {
      "cell_type": "markdown",
      "metadata": {
        "colab_type": "text",
        "id": "4e3JORB8PEfL"
      },
      "source": [
        "## Vòng lặp huấn luyện\n",
        "\n",
        "Vòng lặp của quá trình huấn luyện được xây dựng trong đoạn code sau đây. Tất cả khung sườn cho việc thực thi đã được lập trình sẵn. Ta có thể thay đổi hai tham số tác động đến quá trình huấn luyện như sau:\n",
        "\n",
        "- `num_epoch`: số lượng vòng lặp cho quá trình huấn luyện.\n",
        "- `learning_rate`: hệ số học $\\alpha$.\n",
        "- `momentum_rate`: hệ số momentum $\\gamma$.\n",
        "- `epochs_to_draw`: số lượng epochs cần đạt được để vẽ đồ thị độ lỗi trong lúc huấn luyện."
      ]
    },
    {
      "cell_type": "code",
      "metadata": {
        "colab_type": "code",
        "id": "HEoEEijecqXi",
        "colab": {}
      },
      "source": [
        "def plot_loss(all_loss):\n",
        "    plt.figure(1)\n",
        "    plt.clf()\n",
        "    plt.plot(all_loss)"
      ],
      "execution_count": null,
      "outputs": []
    },
    {
      "cell_type": "code",
      "metadata": {
        "colab_type": "code",
        "id": "zkrzCU6lPak7",
        "colab": {
          "base_uri": "https://localhost:8080/",
          "height": 1000
        },
        "outputId": "81698f7e-8c89-4596-faf4-4113ebf8ad80"
      },
      "source": [
        "#@title Training { display-mode: \"both\" }\n",
        "normalize_method = \"all_pixels\" #@param [\"all_pixels\", \"per_pixel\"]\n",
        "update_weight_method = \"normal\" #@param [\"normal\", \"momentum\"]\n",
        "num_epoch = 1000 #@param {type:\"integer\"}\n",
        "learning_rate = 0.01 #@param {type:\"number\"}\n",
        "momentum_rate = 0.9 #@param {type:\"number\"}\n",
        "epochs_to_draw = 100 #@param {type:\"integer\"}\n",
        "\n",
        "np.random.seed(2020)\n",
        "\n",
        "# Load data from file\n",
        "# Make sure that vehicles.dat is in data/\n",
        "train_x, train_y, test_x, test_y = get_vehicle_data()\n",
        "num_train = train_x.shape[0]\n",
        "num_test = test_x.shape[0]\n",
        "\n",
        "# Normalize our data: choose one of the two methods before training\n",
        "if normalize_method == \"all_pixels\":\n",
        "    train_x, test_x = normalize_all_pixels(train_x, test_x) \n",
        "else:\n",
        "    train_x, test_x = normalize_per_pixel(train_x, test_x) \n",
        "\n",
        "# Reshape our data\n",
        "# train_x: shape=(2400, 64, 64) -> shape=(2400, 64*64)\n",
        "# test_x: shape=(600, 64, 64) -> shape=(600, 64*64)\n",
        "train_x = reshape2D(train_x)\n",
        "test_x = reshape2D(test_x)\n",
        "\n",
        "# Pad 1 as the last feature of train_x and test_x\n",
        "train_x = add_one(train_x) \n",
        "test_x = add_one(test_x)\n",
        "\n",
        "# Create classifier\n",
        "num_feature = train_x.shape[1]\n",
        "bin_classifier = LogisticClassifier((num_feature, 1))\n",
        "momentum = np.zeros_like(bin_classifier.w)\n",
        "\n",
        "# Define hyper-parameters and train-related parameters\n",
        "all_loss = []\n",
        "plt.ion()\n",
        "for e in range(num_epoch):    \n",
        "    y_hat = bin_classifier.feed_forward(train_x)\n",
        "    loss = bin_classifier.compute_loss(train_y, y_hat)\n",
        "    grad = bin_classifier.get_grad(train_x, train_y, y_hat)\n",
        "\n",
        "    # Updating weight: choose either normal GD or GD with momentum\n",
        "    if update_weight_method == \"normal\":\n",
        "        bin_classifier.update_weight(grad, learning_rate)\n",
        "    else: \n",
        "        bin_classifier.update_weight_momentum(grad, learning_rate, momentum, momentum_rate)\n",
        "\n",
        "    all_loss.append(loss) \n",
        "\n",
        "    if (e % epochs_to_draw == epochs_to_draw-1):\n",
        "        plot_loss(all_loss)\n",
        "        plt.show()\n",
        "        plt.pause(0.1)     \n",
        "        print(\"Epoch %d: loss is %.5f\" % (e+1, loss))\n",
        "\n",
        "y_hat = bin_classifier.feed_forward(test_x)\n",
        "precision, recall, f1 = test(y_hat, test_y)\n",
        "print(\"Precision: %.3f\" % precision)\n",
        "print(\"Recall: %.3f\" % recall)\n",
        "print(\"F1-score: %.3f\" % f1)"
      ],
      "execution_count": null,
      "outputs": [
        {
          "output_type": "stream",
          "text": [
            "Reading vehicle data...\n",
            "EOF Reached\n",
            "Done reading\n"
          ],
          "name": "stdout"
        },
        {
          "output_type": "display_data",
          "data": {
            "image/png": "[encoded data removed]",
            "text/plain": [
              "<Figure size 432x288 with 1 Axes>"
            ]
          },
          "metadata": {
            "tags": [],
            "needs_background": "light"
          }
        },
        {
          "output_type": "stream",
          "text": [
            "Epoch 100: loss is 0.28703\n"
          ],
          "name": "stdout"
        },
        {
          "output_type": "display_data",
          "data": {
            "image/png": "[encoded data removed]",
            "text/plain": [
              "<Figure size 432x288 with 1 Axes>"
            ]
          },
          "metadata": {
            "tags": [],
            "needs_background": "light"
          }
        },
        {
          "output_type": "stream",
          "text": [
            "Epoch 200: loss is 0.24972\n"
          ],
          "name": "stdout"
        },
        {
          "output_type": "display_data",
          "data": {
            "image/png": "[encoded data removed]",
            "text/plain": [
              "<Figure size 432x288 with 1 Axes>"
            ]
          },
          "metadata": {
            "tags": [],
            "needs_background": "light"
          }
        },
        {
          "output_type": "stream",
          "text": [
            "Epoch 300: loss is 0.22577\n"
          ],
          "name": "stdout"
        },
        {
          "output_type": "display_data",
          "data": {
            "image/png": "[encoded data removed]",
            "text/plain": [
              "<Figure size 432x288 with 1 Axes>"
            ]
          },
          "metadata": {
            "tags": [],
            "needs_background": "light"
          }
        },
        {
          "output_type": "stream",
          "text": [
            "Epoch 400: loss is 0.20798\n"
          ],
          "name": "stdout"
        },
        {
          "output_type": "display_data",
          "data": {
            "image/png": "[encoded data removed]",
            "text/plain": [
              "<Figure size 432x288 with 1 Axes>"
            ]
          },
          "metadata": {
            "tags": [],
            "needs_background": "light"
          }
        },
        {
          "output_type": "stream",
          "text": [
            "Epoch 500: loss is 0.19385\n"
          ],
          "name": "stdout"
        },
        {
          "output_type": "display_data",
          "data": {
            "image/png": "[encoded data removed]",
            "text/plain": [
              "<Figure size 432x288 with 1 Axes>"
            ]
          },
          "metadata": {
            "tags": [],
            "needs_background": "light"
          }
        },
        {
          "output_type": "stream",
          "text": [
            "Epoch 600: loss is 0.18213\n"
          ],
          "name": "stdout"
        },
        {
          "output_type": "display_data",
          "data": {
            "image/png": "[encoded data removed]",
            "text/plain": [
              "<Figure size 432x288 with 1 Axes>"
            ]
          },
          "metadata": {
            "tags": [],
            "needs_background": "light"
          }
        },
        {
          "output_type": "stream",
          "text": [
            "Epoch 700: loss is 0.17214\n"
          ],
          "name": "stdout"
        },
        {
          "output_type": "display_data",
          "data": {
            "image/png": "[encoded data removed]",
            "text/plain": [
              "<Figure size 432x288 with 1 Axes>"
            ]
          },
          "metadata": {
            "tags": [],
            "needs_background": "light"
          }
        },
        {
          "output_type": "stream",
          "text": [
            "Epoch 800: loss is 0.16345\n"
          ],
          "name": "stdout"
        },
        {
          "output_type": "display_data",
          "data": {
            "image/png": "[encoded data removed]",
            "text/plain": [
              "<Figure size 432x288 with 1 Axes>"
            ]
          },
          "metadata": {
            "tags": [],
            "needs_background": "light"
          }
        },
        {
          "output_type": "stream",
          "text": [
            "Epoch 900: loss is 0.15578\n"
          ],
          "name": "stdout"
        },
        {
          "output_type": "display_data",
          "data": {
            "image/png": "[encoded data removed]",
            "text/plain": [
              "<Figure size 432x288 with 1 Axes>"
            ]
          },
          "metadata": {
            "tags": [],
            "needs_background": "light"
          }
        },
        {
          "output_type": "stream",
          "text": [
            "Epoch 1000: loss is 0.14892\n",
            "Precision: 0.791\n",
            "Recall: 0.707\n",
            "F1-score: 0.746\n"
          ],
          "name": "stdout"
        }
      ]
    },
    {
      "cell_type": "markdown",
      "metadata": {
        "colab_type": "text",
        "id": "2ZvVpS7iPvVr"
      },
      "source": [
        "**Sau khi hoàn thành bài tập trên với numpy, các bạn tiến hành cài đặt lại với tensorflow. **"
      ]
    },
    {
      "cell_type": "markdown",
      "metadata": {
        "colab_type": "text",
        "id": "FZmlnIx6QlPu"
      },
      "source": [
        "## Định Nghĩa Lớp LogisticRegressionTF"
      ]
    },
    {
      "cell_type": "markdown",
      "metadata": {
        "colab_type": "text",
        "id": "pVi-LxozARSO"
      },
      "source": [
        "Chúng ta sử dụng tensorflow eager execution để cài đặt mô hình logistic regression. Với tf eager execution, giá trị của các biến được tính toán ngay lập tức thay vì xây dựng computational graph để chạy sau đó. Một trong những lợi ích thiết thực nhất là giúp chúng ta dễ dàng debug mô hình, xây dựng được dynamic model.\n",
        "\n",
        "Để xây dựng mô hình bằng eager execution, chúng ta thường định nghĩa một lớp đối tượng như mình họa ở dưới.\n",
        "\n",
        "Chúng ta kế thừa lớp Model và cài đặt 2 hàm chính:\n",
        "- init: khởi tạo tất cả các tham số. \n",
        "- call: hàm dùng cho feedforward."
      ]
    },
    {
      "cell_type": "code",
      "metadata": {
        "colab_type": "code",
        "id": "s5BdlvtmE6Li",
        "colab": {}
      },
      "source": [
        "class LogisticRegressionTF(tf.keras.Model):\n",
        "\n",
        "    def __init__(self, num_class):\n",
        "        super(LogisticRegressionTF, self).__init__()\n",
        "        # init all weights here\n",
        "        self.dense = tf.keras.layers.Dense(num_class)\n",
        "\n",
        "    def call(self, inputs, training=None, mask=None):\n",
        "        output = self.dense(inputs)\n",
        "        \n",
        "        # softmax op does not exist on the gpu\n",
        "        with tf.device('/cpu:0'):\n",
        "            output = tf.nn.softmax(output)        \n",
        "        return output\n"
      ],
      "execution_count": null,
      "outputs": []
    },
    {
      "cell_type": "markdown",
      "metadata": {
        "colab_type": "text",
        "id": "O4s4l4aqreJX"
      },
      "source": [
        "#### TODO 11: Định nghĩa one hot encoder"
      ]
    },
    {
      "cell_type": "code",
      "metadata": {
        "colab_type": "code",
        "id": "HQu3SvkzrdkK",
        "colab": {}
      },
      "source": [
        "# GRADED FUNCTION: create_one_hot\n",
        "def create_one_hot(labels, num_k=10):\n",
        "    \"\"\"create_one_hot\n",
        "    This function creates a one-hot (one-of-k) matrix based on the given labels\n",
        "\n",
        "    :param labels: list of labels, each label is one of 0, 1, 2,... , num_k - 1\n",
        "    :param num_k: number of classes we want to classify\n",
        "    \"\"\"\n",
        "    eye_mat = None\n",
        "    ### START CODE HERE ### (≈2 lines)\n",
        "    eye_mat = np.eye(num_k)\n",
        "    eye_mat = eye_mat[labels, :].astype(np.float32)\n",
        "    ### END CODE HERE ###\n",
        "    return eye_mat\n",
        "\n",
        "x = [1, 2, 3]\n",
        "y = create_one_hot(x, 4)\n",
        "assert y.shape == (3,4), \"Wrong\"\n",
        "assert sum(np.argmax(y, axis=0)) == 3, \"Wrong\""
      ],
      "execution_count": null,
      "outputs": []
    },
    {
      "cell_type": "markdown",
      "metadata": {
        "colab_type": "text",
        "id": "1qTPLe3RZERS"
      },
      "source": [
        "### Huấn luyện mô hình với tensorflow"
      ]
    },
    {
      "cell_type": "code",
      "metadata": {
        "colab_type": "code",
        "id": "D4bYf9IBZJHY",
        "colab": {
          "base_uri": "https://localhost:8080/",
          "height": 612
        },
        "outputId": "e5d8dff7-150a-467b-d064-f9417c74eebe"
      },
      "source": [
        "#@title Training { display-mode: \"both\" }\n",
        "normalize_method = \"all_pixels\" #@param [\"all_pixels\", \"per_pixel\"]\n",
        "num_epoch = 14 #@param {type:\"integer\"}\n",
        "learning_rate = 0.001 #@param {type:\"number\"}\n",
        "batch_size = 32\n",
        "num_classes = 2\n",
        "np.random.seed(2020)\n",
        "tf.random.set_seed(2020)\n",
        "\n",
        "# Load data from file\n",
        "# Make sure that vehicles.dat is in data/\n",
        "train_x, train_y, test_x, test_y = get_vehicle_data()\n",
        "num_train = train_x.shape[0]\n",
        "num_test = test_x.shape[0]  \n",
        "\n",
        "#generate_unit_testcase(train_x.copy(), train_y.copy()) \n",
        "#logistic_unit_test()\n",
        "\n",
        "# Normalize our data: choose one of the two methods before training\n",
        "if normalize_method == \"all_pixels\":\n",
        "    train_x, test_x = normalize_all_pixels(train_x, test_x) \n",
        "else:\n",
        "    train_x, test_x = normalize_per_pixel(train_x, test_x) \n",
        "\n",
        "# Reshape our data\n",
        "# train_x: shape=(2400, 64, 64) -> shape=(2400, 64*64)\n",
        "# test_x: shape=(600, 64, 64) -> shape=(600, 64*64)\n",
        "train_x = reshape2D(train_x)\n",
        "test_x = reshape2D(test_x)\n",
        "train_y = create_one_hot(train_y.astype('int32').flatten().tolist(), num_k=2)\n",
        "test_y = create_one_hot(test_y.astype('int32').flatten().tolist(), num_k=2)\n",
        "\n",
        "device = '/cpu:0' if len(tf.config.experimental.list_physical_devices('GPU')) == 0 else '/gpu:0'\n",
        "\n",
        "with tf.device(device):\n",
        "    # build model and optimizer\n",
        "    model = LogisticRegressionTF(num_classes)\n",
        "    model.compile(optimizer=tf.optimizers.Adam(learning_rate), loss='binary_crossentropy',\n",
        "                  metrics=['accuracy'])\n",
        "    \n",
        "\n",
        "    # train\n",
        "    model.fit(train_x, train_y, batch_size=batch_size, epochs=num_epoch,\n",
        "              validation_data=(test_x, test_y), verbose=2)\n",
        "\n",
        "    # evaluate on test set\n",
        "    scores = model.evaluate(test_x, test_y, 32, verbose=2)\n",
        "    \n",
        "    y_hat = model.predict(test_x)\n",
        "    precision, recall, f1 = test(y_hat, test_y)\n",
        "    print(\"Precision: %.3f\" % precision)\n",
        "    print(\"Recall: %.3f\" % recall)\n",
        "    print(\"F1-score: %.3f\" % f1)"
      ],
      "execution_count": null,
      "outputs": [
        {
          "output_type": "stream",
          "text": [
            "Reading vehicle data...\n",
            "EOF Reached\n",
            "Done reading\n",
            "Epoch 1/14\n",
            "75/75 - 0s - loss: 0.4812 - accuracy: 0.8158 - val_loss: 0.6600 - val_accuracy: 0.7583\n",
            "Epoch 2/14\n",
            "75/75 - 0s - loss: 0.3372 - accuracy: 0.8667 - val_loss: 0.6574 - val_accuracy: 0.7333\n",
            "Epoch 3/14\n",
            "75/75 - 0s - loss: 0.3048 - accuracy: 0.8733 - val_loss: 0.6737 - val_accuracy: 0.7383\n",
            "Epoch 4/14\n",
            "75/75 - 0s - loss: 0.2503 - accuracy: 0.9017 - val_loss: 0.6858 - val_accuracy: 0.7400\n",
            "Epoch 5/14\n",
            "75/75 - 0s - loss: 0.2136 - accuracy: 0.9142 - val_loss: 0.6384 - val_accuracy: 0.7600\n",
            "Epoch 6/14\n",
            "75/75 - 0s - loss: 0.2121 - accuracy: 0.9167 - val_loss: 0.7269 - val_accuracy: 0.7533\n",
            "Epoch 7/14\n",
            "75/75 - 0s - loss: 0.1774 - accuracy: 0.9317 - val_loss: 0.6967 - val_accuracy: 0.7350\n",
            "Epoch 8/14\n",
            "75/75 - 0s - loss: 0.1541 - accuracy: 0.9388 - val_loss: 0.6950 - val_accuracy: 0.7733\n",
            "Epoch 9/14\n",
            "75/75 - 0s - loss: 0.1604 - accuracy: 0.9358 - val_loss: 0.8010 - val_accuracy: 0.7450\n",
            "Epoch 10/14\n",
            "75/75 - 0s - loss: 0.1558 - accuracy: 0.9417 - val_loss: 0.7299 - val_accuracy: 0.7533\n",
            "Epoch 11/14\n",
            "75/75 - 0s - loss: 0.1134 - accuracy: 0.9617 - val_loss: 0.7261 - val_accuracy: 0.7500\n",
            "Epoch 12/14\n",
            "75/75 - 0s - loss: 0.1090 - accuracy: 0.9663 - val_loss: 0.7809 - val_accuracy: 0.7367\n",
            "Epoch 13/14\n",
            "75/75 - 0s - loss: 0.1045 - accuracy: 0.9625 - val_loss: 0.7644 - val_accuracy: 0.7717\n",
            "Epoch 14/14\n",
            "75/75 - 0s - loss: 0.1024 - accuracy: 0.9671 - val_loss: 0.8319 - val_accuracy: 0.7483\n",
            "19/19 - 0s - loss: 0.8319 - accuracy: 0.7483\n",
            "Precision: 0.748\n",
            "Recall: 0.748\n",
            "F1-score: 0.748\n"
          ],
          "name": "stdout"
        }
      ]
    },
    {
      "cell_type": "markdown",
      "metadata": {
        "colab_type": "text",
        "id": "9U9Se7dsfv9P"
      },
      "source": [
        "# Bài 2: Phân loại mười lớp"
      ]
    },
    {
      "cell_type": "markdown",
      "metadata": {
        "colab_type": "text",
        "id": "cLYyjVEzf-6A"
      },
      "source": [
        "## Dữ liệu fashion MNIST\n",
        "\n",
        "Ta có thể đọc tập dữ liệu này bằng hàm `get_mnist_data()`:"
      ]
    },
    {
      "cell_type": "code",
      "metadata": {
        "colab_type": "code",
        "id": "jOMEH7P8enH1",
        "colab": {
          "base_uri": "https://localhost:8080/",
          "height": 34
        },
        "outputId": "a4cae4d6-690b-405b-b289-2d3ad445e0e0"
      },
      "source": [
        "train_x, train_y, val_x, val_y, test_x, test_y = get_mnist_data()"
      ],
      "execution_count": null,
      "outputs": [
        {
          "output_type": "stream",
          "text": [
            "Reading fashion MNIST data...\n"
          ],
          "name": "stdout"
        }
      ]
    },
    {
      "cell_type": "markdown",
      "metadata": {
        "colab_type": "text",
        "id": "23aegpJ3gOVJ"
      },
      "source": [
        "Tập dữ liệu này gồm các ảnh xám kích thước $28 \\times 28$. Có tất cả 50000 ảnh train, 10000 ảnh validation và 10000 ảnh test. Mỗi ảnh thuộc một trong 10 loại quần, áo, giày, túi xách, v.v. Tuy nhiên trong bài tập này ta chỉ lấy 2500 ảnh train, 500 ảnh validation và 500 ảnh test.\n"
      ]
    },
    {
      "cell_type": "code",
      "metadata": {
        "colab_type": "code",
        "id": "F1pvh-JTgK2q",
        "colab": {
          "base_uri": "https://localhost:8080/",
          "height": 119
        },
        "outputId": "94152aa8-d487-4ad8-95ee-909d9d409d1e"
      },
      "source": [
        "print(train_x.shape)\n",
        "print(train_y.shape)\n",
        "print(val_x.shape)\n",
        "print(val_y.shape)\n",
        "print(test_x.shape)\n",
        "print(test_y.shape)"
      ],
      "execution_count": null,
      "outputs": [
        {
          "output_type": "stream",
          "text": [
            "(2500, 784)\n",
            "(2500,)\n",
            "(500, 784)\n",
            "(500,)\n",
            "(500, 784)\n",
            "(500,)\n"
          ],
          "name": "stdout"
        }
      ]
    },
    {
      "cell_type": "code",
      "metadata": {
        "colab_type": "code",
        "id": "mE7g9Yt4gxDB",
        "colab": {
          "base_uri": "https://localhost:8080/",
          "height": 265
        },
        "outputId": "58a8a1ca-aa12-4511-93b1-4d48cda60c1e"
      },
      "source": [
        "imgplot = plt.imshow(train_x[0].reshape(28,28))\n",
        "plt.show()"
      ],
      "execution_count": null,
      "outputs": [
        {
          "output_type": "display_data",
          "data": {
            "image/png": "[encoded data removed]",
            "text/plain": [
              "<Figure size 432x288 with 1 Axes>"
            ]
          },
          "metadata": {
            "tags": [],
            "needs_background": "light"
          }
        }
      ]
    },
    {
      "cell_type": "code",
      "metadata": {
        "colab_type": "code",
        "id": "lKyk9vYKhLik",
        "colab": {
          "base_uri": "https://localhost:8080/",
          "height": 265
        },
        "outputId": "9f19f6e6-2980-49ac-bfee-4091938af122"
      },
      "source": [
        "imgplot = plt.imshow(train_x[100].reshape(28,28))\n",
        "plt.show()"
      ],
      "execution_count": null,
      "outputs": [
        {
          "output_type": "display_data",
          "data": {
            "image/png": "[encoded data removed]",
            "text/plain": [
              "<Figure size 432x288 with 1 Axes>"
            ]
          },
          "metadata": {
            "tags": [],
            "needs_background": "light"
          }
        }
      ]
    },
    {
      "cell_type": "markdown",
      "metadata": {
        "colab_type": "text",
        "id": "eRUHcjC2hkEv"
      },
      "source": [
        "Lưu ý là giá trị của `train_y` và `test_y` sẽ có thể là 0, 1, ..., 9 thay vì 0 và 1 như bài 1. Ngoài ra, dữ liệu này khi được đọc lên đã có dạng tensor 2D ($3500 \\times 784$)."
      ]
    },
    {
      "cell_type": "markdown",
      "metadata": {
        "colab_type": "text",
        "id": "1_9FgB3Jh8iV"
      },
      "source": [
        "## Class SoftmaxClassifier\n",
        "\n",
        "Class này thừa kế lại một số thuộc tính từ class LogisticClassifier như `__init__`, `w`. Riêng với các hàm `feed_forward`, `compute_loss` và `get_grad` ta cần phải hiện thực lại."
      ]
    },
    {
      "cell_type": "code",
      "metadata": {
        "colab_type": "code",
        "id": "jKsh9eo5hOMq",
        "colab": {}
      },
      "source": [
        "# GRADED FUNCTION\n",
        "class SoftmaxClassifier(LogisticClassifier):\n",
        "    def __init__(self, w_shape):\n",
        "        \"\"\"__init__\n",
        "        \n",
        "        :param w_shape: create w with shape w_shape using normal distribution\n",
        "        \"\"\"\n",
        "        super(SoftmaxClassifier, self).__init__(w_shape)\n",
        "\n",
        "\n",
        "    def softmax(self, x):\n",
        "        \"\"\"TODO 20: softmax\n",
        "\n",
        "        :param x: input\n",
        "        \"\"\"\n",
        "        result = None\n",
        "        ### START CODE HERE ### (≈4 lines)\n",
        "        max_x = np.max(x, axis=1, keepdims=True)\n",
        "        x -= max_x\n",
        "        x_exp = np.exp(x)\n",
        "        result = x_exp / np.sum(x_exp, axis=1, keepdims=True)\n",
        "        ### END CODE HERE ###\n",
        "        return result\n",
        "\n",
        "\n",
        "    def feed_forward(self, x):\n",
        "        \"\"\"TODO 19: feed_forward\n",
        "        This function computes the output of your softmax regression model\n",
        "        \n",
        "        :param x: input\n",
        "        \"\"\"\n",
        "        result = None\n",
        "        ### START CODE HERE ### (≈2 lines)\n",
        "        x_out = np.dot(x, self.w)\n",
        "        result = self.softmax(x_out)\n",
        "        ### END CODE HERE ###\n",
        "        return result\n",
        "\n",
        "\n",
        "    def compute_loss(self, y, y_hat):\n",
        "        \"\"\"TODO 21: compute_loss\n",
        "        Compute the loss using y (label) and y_hat (predicted class)\n",
        "\n",
        "        :param y:  the label, the actual class of the sample data\n",
        "        :param y_hat: the classifying probabilities of all sample data\n",
        "        \"\"\"\n",
        "        loss = 0\n",
        "        ### START CODE HERE ### (≈3 lines)\n",
        "        loss = -np.log(y_hat) \n",
        "        loss = np.sum(loss*y, axis=1)\n",
        "        loss = np.mean(loss)\n",
        "        ### END CODE HERE ###\n",
        "        return loss\n",
        "\n",
        "\n",
        "    def get_grad(self, x, y, y_hat):\n",
        "        \"\"\"TODO 22: get_grad\n",
        "        Compute and return the gradient of w\n",
        "\n",
        "        :param loss: computed loss between y_hat and y in the train dataset\n",
        "        :param y_hat: predicted y\n",
        "        \"\"\" \n",
        "        w_grad = None\n",
        "        ### START CODE HERE ### (≈2 lines)\n",
        "        num_x = x.shape[0]\n",
        "        w_grad = np.dot(x.T, -(y - y_hat))/num_x\n",
        "        ### END CODE HERE ###\n",
        "        return w_grad\n",
        "   \n",
        "\n",
        "    def numerical_check(self, x, y, grad):\n",
        "        i = 3\n",
        "        j = 0\n",
        "        eps = 0.000005\n",
        "        w_test0 = np.copy(self.w)\n",
        "        w_test1 = np.copy(self.w)\n",
        "        w_test0[i,j] = w_test0[i,j] - eps\n",
        "        w_test1[i,j] = w_test1[i,j] + eps\n",
        "\n",
        "        y_hat0 = np.dot(x, w_test0)\n",
        "        y_hat0 = self.softmax(y_hat0)\n",
        "        loss0 = self.compute_loss(y, y_hat0) \n",
        "\n",
        "        y_hat1 = np.dot(x, w_test1)\n",
        "        y_hat1 = self.softmax(y_hat1)\n",
        "        loss1 = self.compute_loss(y, y_hat1) \n",
        "\n",
        "        numerical_grad = (loss1 - loss0)/(2*eps)\n",
        "        print(numerical_grad)\n",
        "        print(grad[i,j])\n",
        "        \n",
        "\n",
        "eps = 0.001        \n",
        "classifier = SoftmaxClassifier((3,1))\n",
        "classifier.w = np.arange(3*1).reshape(3,1)\n",
        "x = np.ones(2*3).reshape(2,3)/2\n",
        "y = 0\n",
        "y_hat = classifier.feed_forward(x)\n",
        "assert sum(y_hat)==2, \"Wrong\"\n",
        "loss = classifier.compute_loss(y, y_hat)\n",
        "assert loss==0, \"Wrong\"\n",
        "grad = classifier.get_grad(x, y, y_hat)\n",
        "assert sum(grad)==1.5, \"Wrong\"\n",
        "updateweight = classifier.update_weight(grad, 0.1)\n",
        "assert sum(updateweight) - 2.849 < eps, \"Wrong\"\n",
        "updatemomen = classifier.update_weight_momentum(grad, 0.1, 0.1, 0.1)\n",
        "assert sum(updatemomen) - 2.67 < eps, \"Wrong\""
      ],
      "execution_count": null,
      "outputs": []
    },
    {
      "cell_type": "markdown",
      "metadata": {
        "colab_type": "text",
        "id": "9fRHnz3FizC0"
      },
      "source": [
        "## Chuẩn hóa dữ liệu\n",
        "Trong bước này, ta sẽ chuẩn hóa dữ liệu `train_x`, `val_x` và `test_x` theo cách (b) đã đề cập trong phần trước. Tuy nhiên, do tập dữ liệu MNIST khi load đã được đặt dưới dạng tensor 2D, nên trong công thức tính tổng chỉ còn $m$ và $R=784$."
      ]
    },
    {
      "cell_type": "markdown",
      "metadata": {
        "colab_type": "text",
        "id": "IGDUBrGmjand"
      },
      "source": [
        "#### TODO 12: normalize"
      ]
    },
    {
      "cell_type": "code",
      "metadata": {
        "colab_type": "code",
        "id": "BfgkYMdLivKW",
        "colab": {}
      },
      "source": [
        "# GRADED FUNCTION: normalize\n",
        "def normalize(train_x, val_x, test_x):\n",
        "    \"\"\"normalize\n",
        "    This function computes the mean and standard deviation of all pixels and performs data scaling on train_x, val_x and test_x using these computed values.\n",
        "    Note that in this classification problem, the shape of the data is (num_samples, image_width * image_height).\n",
        "\n",
        "    :param train_x: train images, shape=(num_train, image_height * image_width)\n",
        "    :param val_x: validation images, shape=(num_val, image_height * image_width)\n",
        "    :param test_x: test images, shape=(num_test, image_height * image_width)\n",
        "    \"\"\"\n",
        "    # The shape of train_mean and train_std should be (1, 1)\n",
        "    ### START CODE HERE ### (≈5 lines)\n",
        "    train_mean = np.mean(train_x, axis=(0,1), dtype=np.float64, keepdims=True)\n",
        "    train_std = np.std(train_x, axis=(0,1), dtype=np.float64, keepdims=True)\n",
        "\n",
        "    train_x = (train_x-train_mean)/train_std\n",
        "    val_x = (val_x-train_mean)/train_std\n",
        "    test_x = (test_x-train_mean)/train_std\n",
        "    ### END CODE HERE ###\n",
        "    return train_x, val_x, test_x\n",
        "\n",
        "train_x = np.arange(2*4).reshape(2, 4)\n",
        "x, y, z = normalize(train_x, train_x, train_x)\n",
        "assert np.sum((x, y, z)) == 0, \"Wrong\""
      ],
      "execution_count": null,
      "outputs": []
    },
    {
      "cell_type": "markdown",
      "metadata": {
        "colab_type": "text",
        "id": "RlidH1M6jjOe"
      },
      "source": [
        "## Tiền xử lý vector label thành dạng one-hot\n",
        "\n",
        "Các biến `train_y`, `val_y`, `test_y` lúc này là một vector chứa các giá trị 0, 1, ..., 9; nhưng để tính hàm lỗi của softmax regression, ta nên chuyển chúng về dạng ma trận one-hot (one-of-k). Giả sử ta có vector label có 6 phần tử, mỗi phần tử nằm trong khoảng từ 0 đến 4:\n",
        "\n",
        "\\begin{equation}\n",
        "\ty = [3,4,0,0,2,1]^T \\tag{17}\n",
        "\\end{equation}\n",
        "\n",
        "Ta sẽ có biến đổi one-hot tương ứng của nó là:\n",
        "\\begin{equation}\n",
        "y = \\begin{bmatrix}\n",
        "\t0 & 0 & 0 & \\color{red}1 & 0\\\\\n",
        "\t0 & 0 & 0 & 0 & \\color{red}1\\\\\n",
        "\t\\color{red}1 & 0 & 0 & 0 & 0\\\\\n",
        "\t\\color{red}1 & 0 & 0 & 0 & 0\\\\\n",
        "\t0 & 0 & \\color{red}1 & 0 & 0\\\\\n",
        "\t0 & \\color{red}1 & 0 & 0 & 0\n",
        "\\end{bmatrix} \\tag{18}\n",
        "\\end{equation}\n",
        "\n",
        "Label thứ nhất có giá trị là 3, vì vậy nên trong hàng thứ nhất ở ma trận trên cột 3 có giá trị 1, tất cả các cột khác trong hàng này là 0. Tương tự cho hàng thứ 2, label là 4, nên cột 4 trong hàng 2 có giá trị là 1.\n",
        "\n",
        "\n",
        "Để việc biến đổi giá trị của mảng sang dạng one-hot được nhanh chóng, ta nên sử dụng index array hay index vector trên ma trận đơn vị. Tham khảo thêm ở đây: [Numpy basic indexing - Index arrays](https://docs.scipy.org/doc/numpy-1.13.0/user/basics.indexing.html#index-arrays)."
      ]
    },
    {
      "cell_type": "markdown",
      "metadata": {
        "colab_type": "text",
        "id": "fGlHfM_lkgVT"
      },
      "source": [
        "## Tính các giá trị phân loại\n",
        "\n",
        "Để tính các giá trị phân loại trong bài này, ta hiện thực các công thức sau trong hàm `feed_forward` và `softmax`:\n",
        "\n",
        "\\begin{equation}\n",
        "z = xw \\space, \\quad x \\in R^{m\\times D}, w \\in R^{D \\times K} \\tag{19}\n",
        "\\end{equation}\n",
        "\n",
        "Trong đó, $m$ là số lượng mẫu dữ liệu, $D$ là số lượng đặc trưng của dữ liệu đầu vào (785 sau khi thêm 1 vào cuối), $K$ là số lượng nhãn trong bài toán ta đang làm (10).\n",
        "\n",
        "\\begin{equation}\n",
        "z_{max} = [max(z^{(0)}), max(z^{(1)}),.., max(z^{(m-1)})]^T  \\tag{20}\n",
        "\\end{equation}\n",
        "\n",
        "Tại đây, $z_{max}$ là một vector cột (kích thước $m \\times 1$).\n",
        "\n",
        "\\begin{equation}\n",
        "z' = e^{z - z_{max}} \\tag{21}\n",
        "\\end{equation}\n",
        "\n",
        "Trong biểu thức trên, ta sẽ dùng cột thứ nhất của $z$ trừ cho $z_{max}$, cột thứ 2 của $z$ trừ cho $z_{max}$, v.v. Sau đó, ta tính lũy thừa cho từng phần tử trên hiệu đã tính. Kết quả tại bước này là một ma trận $z'$ có kích thước $m \\times K$.\n",
        "\n",
        "Kế tiếp, ta cần tính tổng sau:\n",
        "\n",
        "\\begin{equation}\n",
        "s = \\sum^{K-1}_{k=0}z'^{(i)}_{k} ,\\quad 0\\le i \\le m-1\\tag{22}\n",
        "\\end{equation}\n",
        "\n",
        "Như vậy, $s$ sẽ là vector chứa tổng từng hàng của ma trận $z'$. $s$ có kích thước $m \\times 1$. Sau cùng, ta có thể tính softmax bằng cách lấy mỗi phần tử trong $z'$ chia cho tổng hàng tương ứng:\n",
        "\n",
        "\\begin{equation}\n",
        "\\hat{y}^{(i)}_{k} = \\frac{z'^{(i)}_{k}}{s^{(i)}}, \\quad 0\\le i \\le m-1, 0\\le k \\le K-1 \\tag{23}\n",
        "\\end{equation}\n",
        "\n",
        "Sau khi tổng hợp lại toàn bộ các phần tử $i, k$ của $\\hat{y}$, ta sẽ có ma trận có kích thước $m \\times K$. Trong ma trận này, mỗi hàng thứ $i$ biểu diễn vector xác suất lớp của mẫu ảnh thứ $i$. Vì vậy, tổng của mỗi hàng luôn bằng 1."
      ]
    },
    {
      "cell_type": "markdown",
      "metadata": {
        "colab_type": "text",
        "id": "Yy_5nMf7mOTW"
      },
      "source": [
        "#### TODO 13: feed_forward\n",
        "\n",
        "Các bạn hoàn thành hàm `feed_forward` ở phần class [SoftmaxClassifier](https://colab.research.google.com/drive/1_DcdsXqPkAM3UB4GCHZHf_JlJRRRCA9T#scrollTo=jKsh9eo5hOMq&line=77&uniqifier=1)"
      ]
    },
    {
      "cell_type": "markdown",
      "metadata": {
        "colab_type": "text",
        "id": "2Oz_NZPmmp4V"
      },
      "source": [
        "#### TODO 14: softmax\n",
        "\n",
        "Các bạn hoàn thành hàm `softmax` ở phần class [SoftmaxClassifier](https://colab.research.google.com/drive/1_DcdsXqPkAM3UB4GCHZHf_JlJRRRCA9T#scrollTo=jKsh9eo5hOMq&line=77&uniqifier=1)"
      ]
    },
    {
      "cell_type": "markdown",
      "metadata": {
        "colab_type": "text",
        "id": "8wm4-xOlnVMZ"
      },
      "source": [
        "## Tính độ lỗi\n",
        "Công thức tính độ lỗi category như sau:\n",
        "\n",
        "\\begin{equation}\n",
        "J(w) = -\\frac{1}{m}\\sum_{i=0}^{m-1}\\sum_{k=0}^{K-1} y^{(i)}_k \\log\\hat{y}^{(i)}_k \\tag{24}\n",
        "\\end{equation}\n",
        "\n",
        "Trong đó:\n",
        "- $y^{(i)}_k$ là phần tử hàng $i$ cột $k$ trong ma trận nhãn one-hot $y$ (đã đề cập trong phần trước).\n",
        "- $\\hat{y}^{(i)} \\in (0, 1)$ là hàng $i$ cột $k$ trong ma trận $\\hat{y}$."
      ]
    },
    {
      "cell_type": "markdown",
      "metadata": {
        "colab_type": "text",
        "id": "SSvZIuG-oUwn"
      },
      "source": [
        "#### TODO 15: compute_loss\n",
        "Các bạn hoàn thành hàm `compute_loss` ở phần class [SoftmaxClassifier](https://colab.research.google.com/drive/1_DcdsXqPkAM3UB4GCHZHf_JlJRRRCA9T#scrollTo=jKsh9eo5hOMq&line=77&uniqifier=1)"
      ]
    },
    {
      "cell_type": "markdown",
      "metadata": {
        "colab_type": "text",
        "id": "x-NMfsp0o0Ja"
      },
      "source": [
        "## Tính đạo hàm\n",
        "Công thức tính đạo hàm theo từng tham số $w_{jk}$ được biểu diễn như sau:\n",
        "\n",
        "\\begin{equation}\n",
        "\\frac{\\partial  J(w_{jk})}{\\partial w_{jk}} = \\frac{1}{m}\\sum_{i=0}^{m-1} x^{(i)}_j (\\hat{y}^{(i)}_k - y^{(i)}_k) \\tag{25}\n",
        "\\end{equation}\n",
        "\n",
        "Với $0 \\le j \\le D-1$. Viết lại dưới dạng ma trận ta có được:\n",
        "\n",
        "\\begin{equation}\n",
        "\\frac{\\partial  J(w)}{\\partial w} = \\frac{1}{m}x^T(\\hat{y} - y) \\tag{26}\n",
        "\\end{equation}"
      ]
    },
    {
      "cell_type": "markdown",
      "metadata": {
        "colab_type": "text",
        "id": "gHzTgKgeqLMM"
      },
      "source": [
        "#### TODO 16: get_grad\n",
        "Các bạn hoàn thành hàm `get_grad` ở phần class [SoftmaxClassifier](https://colab.research.google.com/drive/1_DcdsXqPkAM3UB4GCHZHf_JlJRRRCA9T#scrollTo=jKsh9eo5hOMq&line=77&uniqifier=1)\n"
      ]
    },
    {
      "cell_type": "markdown",
      "metadata": {
        "colab_type": "text",
        "id": "bysiSaSEqiae"
      },
      "source": [
        "## Đề xuất điều kiện dùng vòng lặp huấn luyện\n",
        "\n",
        "Trong bài này, ngoài việc sử dụng `train_x`, `train_y` để huấn luyện, file mẫu còn cung cấp cho các bạn các biến `val_x`, `val_y` để thực hiện việc validation. Toàn bộ các giá trị lỗi validation được lưu trong biến `all_val_loss`. Trong phần này, nhiệm vụ của các bạn là đề xuất ra điều kiện dừng khác (ngoài việc `e` đạt `num_epoch`) trong quá trình huấn luyện. Dựa vào độ lỗi validation, bạn có thể sử dụng các tiêu chí mình tự đề ra để tránh việc quá trình huấn luyện bị overfitting"
      ]
    },
    {
      "cell_type": "markdown",
      "metadata": {
        "colab_type": "text",
        "id": "i1qjvU6MrE3G"
      },
      "source": [
        "#### TODO 17: is_stop_training\n",
        "\n",
        "Các bạn hoàn thành hàm `is_stop_training` nhận vào mảng `all_val_loss` và trả về giá trị boolean True hoặc False quyết định có dừng việc huấn luyện không. Nếu loss trên tập validation tăng hơn n (patience) lần liên tiếp thì trả về True, ngược lại thì False"
      ]
    },
    {
      "cell_type": "code",
      "metadata": {
        "colab_type": "code",
        "id": "_Xc5fXhhkfUC",
        "colab": {}
      },
      "source": [
        "# GRADED FUNCTION: is_stop_training\n",
        "def is_stop_training(all_val_loss, patience=5):\n",
        "    \"\"\"TODO 17:  is_stop_training\n",
        "    Check whether training need to be stopped\n",
        "\n",
        "    :param all_val_loss: list of all validation loss values during training\n",
        "    \"\"\"\n",
        "    is_stopped = False\n",
        "    ### START CODE HERE ###\n",
        "    num_val_increase = 0\n",
        "    if (len(all_val_loss) < 2):\n",
        "        return False\n",
        "    for i in range(len(all_val_loss) - 1,0, -1):\n",
        "        if all_val_loss[i] > all_val_loss[i-1]:\n",
        "            num_val_increase += 1\n",
        "        if num_val_increase >= patience:\n",
        "            return True\n",
        "    ### END CODE HERE ###\n",
        "    return is_stopped\n",
        "\n",
        "assert is_stop_training([1, 2, 3, 4, 5, 6]) == True, \"Wrong\"\n",
        "assert is_stop_training([1, 2, 3]) == False, \"Wrong\""
      ],
      "execution_count": null,
      "outputs": []
    },
    {
      "cell_type": "markdown",
      "metadata": {
        "colab_type": "text",
        "id": "SaMfOmffvslM"
      },
      "source": [
        "## Đánh giá mô hình trên dữ liệu test\n",
        "\n",
        "Để đánh giá mô hình phân loại nhiều lớp, ta cần sử dụng một khái niệm gọi là confusion matrix. Giả sử ta có bài toán phân loại 3 lớp, thì confusion matrix có dạng sau:\n",
        "\n",
        "<table>\n",
        "    <th>\n",
        "        <td>Lớp 1</td>\n",
        "        <td>Lớp 2</td>\n",
        "        <td>Lớp 3</td>\n",
        "    </th>\n",
        "    <tr>\n",
        "        <td>Lớp 1</td>\n",
        "        <td>$N_{11}$</td>\n",
        "        <td>$N_{12}$</td>\n",
        "        <td>$N_{13}$</td>\n",
        "    </tr>\n",
        "    <tr>\n",
        "        <td>Lớp 2</td>\n",
        "        <td>$N_{21}$</td>\n",
        "        <td>$N_{22}$</td>\n",
        "        <td>$N_{23}$</td>\n",
        "    </tr>\n",
        "    <tr>\n",
        "        <td>Lớp 3</td>\n",
        "        <td>$N_{31}$</td>\n",
        "        <td>$N_{32}$</td>\n",
        "        <td>$N_{33}$</td>\n",
        "    </tr>\n",
        "</table>\n",
        "\n",
        "Trong đó, $N_{kl}$ là tổng số mẫu thực chất thuộc lớp $k$ và bộ phân loại phân loại thành lớp $l$ chia cho tổng số mẫu trong lớp k. Bộ phân loại càng tốt thì các ô trên đường chéo chính sẽ càng cao hơn so với các ô xung quanh. Khi tiến hành kiểm thử, người ra đề đã tính được confusion matrix như sau:\n",
        "\n",
        "<table>\n",
        "    <tr>\n",
        "        <td>0.93</td>\n",
        "        <td>0</td>\n",
        "        <td>0</td>\n",
        "        <td>0.02</td>\n",
        "        <td>0</td>\n",
        "        <td>0</td>\n",
        "        <td>0.05</td>\n",
        "        <td>0</td>\n",
        "        <td>0</td>\n",
        "        <td>0</td>\n",
        "    </tr>\n",
        "    <tr>\n",
        "        <td>0</td>\n",
        "        <td>0.95</td>\n",
        "        <td>0</td>\n",
        "        <td>0.05</td>\n",
        "        <td>0</td>\n",
        "        <td>0</td>\n",
        "        <td>0</td>\n",
        "        <td>0</td>\n",
        "        <td>0</td>\n",
        "        <td>0</td>\n",
        "    </tr>\n",
        "    <tr>\n",
        "        <td>0.02</td>\n",
        "        <td>0.02</td>\n",
        "        <td>0.59</td>\n",
        "        <td>0.02</td>\n",
        "        <td>0.22</td>\n",
        "        <td>0</td>\n",
        "        <td>0.13</td>\n",
        "        <td>0</td>\n",
        "        <td>0</td>\n",
        "        <td>0</td>\n",
        "    </tr>\n",
        "    <tr>\n",
        "        <td>0.05</td>\n",
        "        <td>0.03</td>\n",
        "        <td>0.03</td>\n",
        "        <td>0.82</td>\n",
        "        <td>0.05</td>\n",
        "        <td>0</td>\n",
        "        <td>0.03</td>\n",
        "        <td>0</td>\n",
        "        <td>0</td>\n",
        "        <td>0</td>\n",
        "    </tr>\n",
        "    <tr>\n",
        "        <td>0</td>\n",
        "        <td>0</td>\n",
        "        <td>0.07</td>\n",
        "        <td>0.05</td>\n",
        "        <td>0.77</td>\n",
        "        <td>0</td>\n",
        "        <td>0.12</td>\n",
        "        <td>0</td>\n",
        "        <td>0</td>\n",
        "        <td>0</td>\n",
        "    </tr>\n",
        "    <tr>\n",
        "        <td>0</td>\n",
        "        <td>0</td>\n",
        "        <td>0</td>\n",
        "        <td>0</td>\n",
        "        <td>0</td>\n",
        "        <td>0.89</td>\n",
        "        <td>0</td>\n",
        "        <td>0.09</td>\n",
        "        <td>0.02</td>\n",
        "        <td>0</td>\n",
        "    </tr>\n",
        "    <tr>\n",
        "        <td>0.21</td>\n",
        "        <td>0</td>\n",
        "        <td>0.08</td>\n",
        "        <td>0.02</td>\n",
        "        <td>0.17</td>\n",
        "        <td>0</td>\n",
        "        <td>0.51</td>\n",
        "        <td>0</td>\n",
        "        <td>0.02</td>\n",
        "        <td>0</td>\n",
        "    </tr>\n",
        "    <tr>\n",
        "        <td>0</td>\n",
        "        <td>0</td>\n",
        "        <td>0</td>\n",
        "        <td>0</td>\n",
        "        <td>0</td>\n",
        "        <td>0.04</td>\n",
        "        <td>0</td>\n",
        "        <td>0.86</td>\n",
        "        <td>0</td>\n",
        "        <td>0.1</td>\n",
        "    </tr>\n",
        "    <tr>\n",
        "        <td>0</td>\n",
        "        <td>0</td>\n",
        "        <td>0</td>\n",
        "        <td>0.02</td>\n",
        "        <td>0</td>\n",
        "        <td>0.04</td>\n",
        "        <td>0</td>\n",
        "        <td>0.02</td>\n",
        "        <td>0.93</td>\n",
        "        <td>0</td>\n",
        "    </tr>\n",
        "    <tr>\n",
        "        <td>0</td>\n",
        "        <td>0</td>\n",
        "        <td>0</td>\n",
        "        <td>0</td>\n",
        "        <td>0</td>\n",
        "        <td>0.02</td>\n",
        "        <td>0</td>\n",
        "        <td>0</td>\n",
        "        <td>0</td>\n",
        "        <td>0.98</td>\n",
        "    </tr>\n",
        "</table>\n",
        "\n",
        "Bạn cần đạt được kết quả tương tự hoặc tốt hơn sau khi hoàn tất bài tập 2 này."
      ]
    },
    {
      "cell_type": "markdown",
      "metadata": {
        "colab_type": "text",
        "id": "jcf1mHx80syW"
      },
      "source": [
        "#### TODO 18: softmax_test"
      ]
    },
    {
      "cell_type": "code",
      "metadata": {
        "colab_type": "code",
        "id": "w7todI-yvOCS",
        "colab": {}
      },
      "source": [
        "# GRADED FUNCTION: softmax_test\n",
        "def softmax_test(y_hat, test_y):\n",
        "    \"\"\"test\n",
        "    Compute the confusion matrix based on labels and predicted values \n",
        "\n",
        "    :param classifier: the trained classifier\n",
        "    :param y_hat: predicted probabilites, output of classifier.feed_forward\n",
        "    :param test_y: test labels\n",
        "    \"\"\"\n",
        "\n",
        "    y_hat = np.argmax(y_hat, axis=1)\n",
        "    test_y = np.argmax(test_y, axis=1)\n",
        "    confusion_mat = np.zeros((10,10))\n",
        "    ### START CODE HERE ###\n",
        "    for i in range(10):\n",
        "        class_i_idx = test_y == i\n",
        "        num_class_i = np.sum(class_i_idx)\n",
        "        y_hat_i = y_hat[class_i_idx]\n",
        "        for j in range(10):\n",
        "            confusion_mat[i,j] = 1.0*np.sum(y_hat_i == j)/num_class_i\n",
        "    ### END CODE HERE ###\n",
        "    return confusion_mat\n",
        "\n",
        "y_hat = np.eye(20, 10)\n",
        "test_y = y_hat > 0.5\n",
        "assert np.trace(softmax_test(y_hat, test_y)) == 10, \"Wrong\""
      ],
      "execution_count": null,
      "outputs": []
    },
    {
      "cell_type": "markdown",
      "metadata": {
        "colab_type": "text",
        "id": "VpXPqYoQzOod"
      },
      "source": [
        "## Vòng lặp huấn luyện"
      ]
    },
    {
      "cell_type": "code",
      "metadata": {
        "colab_type": "code",
        "id": "Kk6MG4qp0LYg",
        "colab": {}
      },
      "source": [
        "def plot_softmax_loss(train_loss, val_loss):\n",
        "    plt.figure(1)\n",
        "    plt.clf()\n",
        "    plt.plot(train_loss, color='b')\n",
        "    plt.plot(val_loss, color='g')\n",
        "\n",
        "\n",
        "def draw_weight(w):\n",
        "    label_names = ['T-shirt', 'Trouser', 'Pullover', 'Dress', 'Coat', 'Sandal', 'Shirt', 'Sneaker', 'Bag', 'Ankle boot']\n",
        "    plt.figure(2, figsize=(8, 6))\n",
        "    plt.clf()\n",
        "    w = w[0:(28*28),:].reshape(28, 28, 10)\n",
        "    for i in range(10):\n",
        "        ax = plt.subplot(3, 4, i+1)\n",
        "        plt.imshow(w[:,:,i], interpolation='nearest')\n",
        "        plt.axis('off')\n",
        "        ax.set_title(label_names[i])"
      ],
      "execution_count": null,
      "outputs": []
    },
    {
      "cell_type": "code",
      "metadata": {
        "colab_type": "code",
        "id": "bvi8LlauvQvr",
        "colab": {
          "base_uri": "https://localhost:8080/",
          "height": 859
        },
        "outputId": "15b813f8-295a-494e-feac-d7ce4e201bc0"
      },
      "source": [
        "#@title Training { display-mode: \"both\" }\n",
        "num_epoch = 10000 #@param {type:\"integer\"}\n",
        "learning_rate = 0.01 #@param {type:\"number\"}\n",
        "momentum_rate = 0.9 #@param {type:\"number\"}\n",
        "epochs_to_draw = 10 #@param {type:\"integer\"}\n",
        "update_weight_method = \"normal\" #@param [\"normal\", \"momentum\"]\n",
        "\n",
        "np.random.seed(2020)\n",
        "\n",
        "# Load data from file\n",
        "# Make sure that fashion-mnist/*.gz files is in data/\n",
        "train_x, train_y, val_x, val_y, test_x, test_y = get_mnist_data()\n",
        "num_train = train_x.shape[0]\n",
        "num_val = val_x.shape[0]\n",
        "num_test = test_x.shape[0]  \n",
        "\n",
        "# Convert label lists to one-hot (one-of-k) encoding\n",
        "train_y = create_one_hot(train_y)\n",
        "val_y = create_one_hot(val_y)\n",
        "test_y = create_one_hot(test_y)\n",
        "\n",
        "# Normalize our data\n",
        "train_x, val_x, test_x = normalize(train_x, val_x, test_x)\n",
        "\n",
        "# Pad 1 as the last feature of train_x and test_x\n",
        "train_x = add_one(train_x) \n",
        "val_x = add_one(val_x)\n",
        "test_x = add_one(test_x)\n",
        "\n",
        "# Create classifier\n",
        "num_feature = train_x.shape[1]\n",
        "dec_classifier = SoftmaxClassifier((num_feature, 10))\n",
        "momentum = np.zeros_like(dec_classifier.w)\n",
        "\n",
        "# Define hyper-parameters and train-related parameters\n",
        "all_train_loss = []\n",
        "all_val_loss = []\n",
        "plt.ion()\n",
        "\n",
        "for e in range(num_epoch):    \n",
        "    train_y_hat = dec_classifier.feed_forward(train_x)\n",
        "    val_y_hat = dec_classifier.feed_forward(val_x)\n",
        "\n",
        "    train_loss = dec_classifier.compute_loss(train_y, train_y_hat)\n",
        "    val_loss = dec_classifier.compute_loss(val_y, val_y_hat)\n",
        "\n",
        "    grad = dec_classifier.get_grad(train_x, train_y, train_y_hat)\n",
        "\n",
        "    # dec_classifier.numerical_check(train_x, train_y, grad)\n",
        "    # Updating weight: choose either normal GD or GD with momentum\n",
        "    if update_weight_method == \"normal\":\n",
        "        dec_classifier.update_weight(grad, learning_rate)\n",
        "    else:\n",
        "        dec_classifier.update_weight_momentum(grad, learning_rate, momentum, momentum_rate)\n",
        "\n",
        "    all_train_loss.append(train_loss) \n",
        "    all_val_loss.append(val_loss)\n",
        "    \n",
        "    if is_stop_training(all_val_loss):\n",
        "        break\n",
        "\n",
        "    if (e % epochs_to_draw == epochs_to_draw-1):\n",
        "        from IPython.display import clear_output\n",
        "        clear_output(wait=True)\n",
        "        plot_softmax_loss(all_train_loss, all_val_loss)\n",
        "        draw_weight(dec_classifier.w)\n",
        "        plt.show()\n",
        "        plt.pause(0.1) \n",
        "        print(\"Epoch %d: train loss: %.5f || val loss: %.5f\" % (e+1, train_loss, val_loss))\n",
        "\n",
        "y_hat = dec_classifier.feed_forward(test_x)\n",
        "np.set_printoptions(precision=2)\n",
        "confusion_mat = softmax_test(y_hat, test_y)\n",
        "print('Confusion matrix:')\n",
        "print(confusion_mat)\n",
        "print('Diagonal values:')\n",
        "print(confusion_mat.flatten()[0::11])"
      ],
      "execution_count": null,
      "outputs": [
        {
          "output_type": "display_data",
          "data": {
            "image/png": "[encoded data removed]",
            "text/plain": [
              "<Figure size 432x288 with 1 Axes>"
            ]
          },
          "metadata": {
            "tags": [],
            "needs_background": "light"
          }
        },
        {
          "output_type": "display_data",
          "data": {
            "image/png": "[encoded data removed]",
            "text/plain": [
              "<Figure size 576x432 with 10 Axes>"
            ]
          },
          "metadata": {
            "tags": [],
            "needs_background": "light"
          }
        },
        {
          "output_type": "stream",
          "text": [
            "Epoch 3400: train loss: 0.28363 || val loss: 0.54099\n",
            "Confusion matrix:\n",
            "[[0.93 0.   0.02 0.04 0.   0.   0.02 0.   0.   0.  ]\n",
            " [0.02 0.95 0.   0.03 0.   0.   0.   0.   0.   0.  ]\n",
            " [0.02 0.   0.61 0.04 0.22 0.   0.11 0.   0.   0.  ]\n",
            " [0.07 0.05 0.   0.8  0.03 0.   0.05 0.   0.   0.  ]\n",
            " [0.   0.   0.09 0.05 0.74 0.   0.12 0.   0.   0.  ]\n",
            " [0.   0.   0.   0.   0.   0.92 0.   0.08 0.   0.  ]\n",
            " [0.23 0.   0.09 0.02 0.19 0.   0.45 0.   0.02 0.  ]\n",
            " [0.   0.   0.   0.   0.   0.06 0.   0.84 0.   0.1 ]\n",
            " [0.   0.   0.   0.02 0.02 0.04 0.   0.   0.93 0.  ]\n",
            " [0.   0.   0.   0.   0.   0.02 0.   0.   0.   0.98]]\n",
            "Diagonal values:\n",
            "[0.93 0.95 0.61 0.8  0.74 0.92 0.45 0.84 0.93 0.98]\n"
          ],
          "name": "stdout"
        }
      ]
    },
    {
      "cell_type": "markdown",
      "metadata": {
        "colab_type": "text",
        "id": "o-5Ot3UI05wM"
      },
      "source": [
        "** Thực hiện bài 2 với Tensorflow**"
      ]
    },
    {
      "cell_type": "markdown",
      "metadata": {
        "colab_type": "text",
        "id": "iGmLYGhr1AET"
      },
      "source": [
        "## Định nghĩa mô hình Softmax Regression bằng Tensorflow eager execution\n",
        "\n"
      ]
    },
    {
      "cell_type": "markdown",
      "metadata": {
        "colab_type": "text",
        "id": "BINeWJlQAxiF"
      },
      "source": [
        "Tại đây, các bạn cần định nghĩa mô hình SoftmaxRegressionTF. Để định nghĩa mô hình này, các bạn nên tham khảo ví dụ ở mô hình LogisticRegressionTF ở trên."
      ]
    },
    {
      "cell_type": "code",
      "metadata": {
        "colab_type": "code",
        "id": "0RU3mpbEyPZ6",
        "colab": {}
      },
      "source": [
        "class SoftmaxRegressionTF(tf.keras.Model):\n",
        "    def __init__(self, num_class):\n",
        "        super(SoftmaxRegressionTF, self).__init__()\n",
        "        # TODO 19: init all weights \n",
        "        self.dense = tf.keras.layers.Dense(num_class)\n",
        "\n",
        "    def call(self, inputs, training=None, mask=None):\n",
        "        # TODO 20: implement your feedforward \n",
        "        \n",
        "        output = self.dense(inputs)\n",
        "        \n",
        "        try:\n",
        "          output = tf.nn.softmax(output)\n",
        "        except: # if softmax op does not exist on the gpu\n",
        "          with tf.device('/cpu:0'):\n",
        "              output = tf.nn.softmax(output) \n",
        "\n",
        "        return output\n",
        "\n",
        "logistic_regressor = SoftmaxRegressionTF(10)\n",
        "dummy_x = tf.zeros((1, 13))\n",
        "assert logistic_regressor(dummy_x).numpy().sum() == 1, \"Wrong\""
      ],
      "execution_count": null,
      "outputs": []
    },
    {
      "cell_type": "markdown",
      "metadata": {
        "colab_type": "text",
        "id": "fx6PKo9OBN-v"
      },
      "source": [
        "#### TODO 19: cài đặt hàm __init__ \n",
        "Các bạn cần khởi tạo tất cả các trọng số ở hàm init của lớp SoftmaxRegressionTF."
      ]
    },
    {
      "cell_type": "markdown",
      "metadata": {
        "colab_type": "text",
        "id": "j4GbtrTdBV7Z"
      },
      "source": [
        "#### TODO 20: cài đặt hàm call\n",
        "Cài đặt feedforward trong hàm call ở lớp SoftmaxRegressionTF."
      ]
    },
    {
      "cell_type": "markdown",
      "metadata": {
        "colab_type": "text",
        "id": "N7dHYqGc6aax"
      },
      "source": [
        "## Huấn luyện với tensorflow"
      ]
    },
    {
      "cell_type": "code",
      "metadata": {
        "colab_type": "code",
        "id": "mEqbmm1M6Zu8",
        "colab": {
          "base_uri": "https://localhost:8080/",
          "height": 1000
        },
        "outputId": "98045be7-96ed-458d-eba7-c632c81eeab6"
      },
      "source": [
        "#@title Training { display-mode: \"both\" }\n",
        "num_epoch = 100 #@param {type:\"integer\"}\n",
        "learning_rate = 0.001 #@param {type:\"number\"}\n",
        "num_classes = 10\n",
        "\n",
        "tf.random.set_seed(2020)\n",
        "\n",
        "# Load data from file\n",
        "# Make sure that fashion-mnist/*.gz files is in data/\n",
        "train_x, train_y, val_x, val_y, test_x, test_y = get_mnist_data()\n",
        "num_train = train_x.shape[0]\n",
        "num_val = val_x.shape[0]\n",
        "num_test = test_x.shape[0]  \n",
        "\n",
        "\n",
        "# Convert label lists to one-hot (one-of-k) encoding\n",
        "train_y = create_one_hot(train_y)\n",
        "val_y = create_one_hot(val_y)\n",
        "test_y = create_one_hot(test_y)\n",
        "\n",
        "# Normalize our data\n",
        "train_x, val_x, test_x = normalize(train_x, val_x, test_x)\n",
        "\n",
        "device = '/cpu:0' if len(tf.config.experimental.list_physical_devices('GPU')) == 0 else '/gpu:0'\n",
        "\n",
        "with tf.device(device):\n",
        "    # build model and optimizer\n",
        "    model = SoftmaxRegressionTF(num_classes)\n",
        "    model.compile(optimizer=tf.optimizers.Adam(learning_rate), loss='binary_crossentropy',\n",
        "                  metrics=['accuracy'])\n",
        "    \n",
        "\n",
        "    # train\n",
        "    model.fit(train_x, train_y, batch_size=batch_size, epochs=num_epoch,\n",
        "              validation_data=(val_x, val_y), verbose=2)\n",
        "\n",
        "    # evaluate on test set\n",
        "    scores = model.evaluate(test_x, test_y, 32, verbose=2)\n",
        "    \n",
        "    y_hat = model.predict(test_x)\n",
        "\n",
        "\n",
        "    confusion_mat = softmax_test(y_hat, test_y)\n",
        "    print('Confusion matrix:')\n",
        "    print(confusion_mat)\n",
        "    print('Diagonal values:')\n",
        "    print(confusion_mat.flatten()[0::11])"
      ],
      "execution_count": null,
      "outputs": [
        {
          "output_type": "stream",
          "text": [
            "Reading fashion MNIST data...\n",
            "Epoch 1/100\n",
            "79/79 - 0s - loss: 0.1731 - accuracy: 0.6172 - val_loss: 0.1237 - val_accuracy: 0.7420\n",
            "Epoch 2/100\n",
            "79/79 - 0s - loss: 0.1067 - accuracy: 0.7740 - val_loss: 0.1160 - val_accuracy: 0.7520\n",
            "Epoch 3/100\n",
            "79/79 - 0s - loss: 0.0970 - accuracy: 0.8020 - val_loss: 0.1064 - val_accuracy: 0.7680\n",
            "Epoch 4/100\n",
            "79/79 - 0s - loss: 0.0867 - accuracy: 0.8240 - val_loss: 0.1085 - val_accuracy: 0.7700\n",
            "Epoch 5/100\n",
            "79/79 - 0s - loss: 0.0809 - accuracy: 0.8400 - val_loss: 0.1018 - val_accuracy: 0.7900\n",
            "Epoch 6/100\n",
            "79/79 - 0s - loss: 0.0783 - accuracy: 0.8496 - val_loss: 0.0983 - val_accuracy: 0.7840\n",
            "Epoch 7/100\n",
            "79/79 - 0s - loss: 0.0726 - accuracy: 0.8608 - val_loss: 0.0982 - val_accuracy: 0.7980\n",
            "Epoch 8/100\n",
            "79/79 - 0s - loss: 0.0694 - accuracy: 0.8580 - val_loss: 0.0960 - val_accuracy: 0.7900\n",
            "Epoch 9/100\n",
            "79/79 - 0s - loss: 0.0669 - accuracy: 0.8664 - val_loss: 0.1016 - val_accuracy: 0.7820\n",
            "Epoch 10/100\n",
            "79/79 - 0s - loss: 0.0641 - accuracy: 0.8716 - val_loss: 0.0974 - val_accuracy: 0.7760\n",
            "Epoch 11/100\n",
            "79/79 - 0s - loss: 0.0623 - accuracy: 0.8824 - val_loss: 0.0961 - val_accuracy: 0.8080\n",
            "Epoch 12/100\n",
            "79/79 - 0s - loss: 0.0604 - accuracy: 0.8920 - val_loss: 0.0982 - val_accuracy: 0.7960\n",
            "Epoch 13/100\n",
            "79/79 - 0s - loss: 0.0596 - accuracy: 0.8868 - val_loss: 0.0981 - val_accuracy: 0.8020\n",
            "Epoch 14/100\n",
            "79/79 - 0s - loss: 0.0577 - accuracy: 0.8892 - val_loss: 0.0980 - val_accuracy: 0.8040\n",
            "Epoch 15/100\n",
            "79/79 - 0s - loss: 0.0562 - accuracy: 0.8900 - val_loss: 0.0992 - val_accuracy: 0.8040\n",
            "Epoch 16/100\n",
            "79/79 - 0s - loss: 0.0589 - accuracy: 0.8872 - val_loss: 0.0988 - val_accuracy: 0.7900\n",
            "Epoch 17/100\n",
            "79/79 - 0s - loss: 0.0530 - accuracy: 0.9032 - val_loss: 0.1003 - val_accuracy: 0.7880\n",
            "Epoch 18/100\n",
            "79/79 - 0s - loss: 0.0521 - accuracy: 0.9016 - val_loss: 0.1018 - val_accuracy: 0.7900\n",
            "Epoch 19/100\n",
            "79/79 - 0s - loss: 0.0499 - accuracy: 0.9088 - val_loss: 0.0980 - val_accuracy: 0.8060\n",
            "Epoch 20/100\n",
            "79/79 - 0s - loss: 0.0486 - accuracy: 0.9096 - val_loss: 0.0983 - val_accuracy: 0.8040\n",
            "Epoch 21/100\n",
            "79/79 - 0s - loss: 0.0514 - accuracy: 0.9088 - val_loss: 0.1009 - val_accuracy: 0.7880\n",
            "Epoch 22/100\n",
            "79/79 - 0s - loss: 0.0471 - accuracy: 0.9184 - val_loss: 0.0975 - val_accuracy: 0.8100\n",
            "Epoch 23/100\n",
            "79/79 - 0s - loss: 0.0472 - accuracy: 0.9172 - val_loss: 0.0999 - val_accuracy: 0.8100\n",
            "Epoch 24/100\n",
            "79/79 - 0s - loss: 0.0452 - accuracy: 0.9244 - val_loss: 0.0998 - val_accuracy: 0.8040\n",
            "Epoch 25/100\n",
            "79/79 - 0s - loss: 0.0450 - accuracy: 0.9232 - val_loss: 0.0990 - val_accuracy: 0.8020\n",
            "Epoch 26/100\n",
            "79/79 - 0s - loss: 0.0434 - accuracy: 0.9240 - val_loss: 0.0990 - val_accuracy: 0.8040\n",
            "Epoch 27/100\n",
            "79/79 - 0s - loss: 0.0426 - accuracy: 0.9252 - val_loss: 0.1005 - val_accuracy: 0.7960\n",
            "Epoch 28/100\n",
            "79/79 - 0s - loss: 0.0440 - accuracy: 0.9232 - val_loss: 0.0995 - val_accuracy: 0.7960\n",
            "Epoch 29/100\n",
            "79/79 - 0s - loss: 0.0421 - accuracy: 0.9332 - val_loss: 0.1015 - val_accuracy: 0.8020\n",
            "Epoch 30/100\n",
            "79/79 - 0s - loss: 0.0417 - accuracy: 0.9256 - val_loss: 0.1000 - val_accuracy: 0.8060\n",
            "Epoch 31/100\n",
            "79/79 - 0s - loss: 0.0408 - accuracy: 0.9304 - val_loss: 0.1042 - val_accuracy: 0.8020\n",
            "Epoch 32/100\n",
            "79/79 - 0s - loss: 0.0412 - accuracy: 0.9324 - val_loss: 0.1049 - val_accuracy: 0.8000\n",
            "Epoch 33/100\n",
            "79/79 - 0s - loss: 0.0388 - accuracy: 0.9332 - val_loss: 0.1035 - val_accuracy: 0.7960\n",
            "Epoch 34/100\n",
            "79/79 - 0s - loss: 0.0401 - accuracy: 0.9260 - val_loss: 0.1010 - val_accuracy: 0.8060\n",
            "Epoch 35/100\n",
            "79/79 - 0s - loss: 0.0380 - accuracy: 0.9388 - val_loss: 0.1019 - val_accuracy: 0.8060\n",
            "Epoch 36/100\n",
            "79/79 - 0s - loss: 0.0366 - accuracy: 0.9416 - val_loss: 0.1032 - val_accuracy: 0.7960\n",
            "Epoch 37/100\n",
            "79/79 - 0s - loss: 0.0358 - accuracy: 0.9396 - val_loss: 0.1119 - val_accuracy: 0.7960\n",
            "Epoch 38/100\n",
            "79/79 - 0s - loss: 0.0366 - accuracy: 0.9420 - val_loss: 0.1023 - val_accuracy: 0.7960\n",
            "Epoch 39/100\n",
            "79/79 - 0s - loss: 0.0347 - accuracy: 0.9408 - val_loss: 0.1061 - val_accuracy: 0.8000\n",
            "Epoch 40/100\n",
            "79/79 - 0s - loss: 0.0351 - accuracy: 0.9436 - val_loss: 0.1065 - val_accuracy: 0.7960\n",
            "Epoch 41/100\n",
            "79/79 - 0s - loss: 0.0365 - accuracy: 0.9364 - val_loss: 0.1096 - val_accuracy: 0.8020\n",
            "Epoch 42/100\n",
            "79/79 - 0s - loss: 0.0341 - accuracy: 0.9460 - val_loss: 0.1070 - val_accuracy: 0.8040\n",
            "Epoch 43/100\n",
            "79/79 - 0s - loss: 0.0345 - accuracy: 0.9424 - val_loss: 0.1050 - val_accuracy: 0.8020\n",
            "Epoch 44/100\n",
            "79/79 - 0s - loss: 0.0340 - accuracy: 0.9440 - val_loss: 0.1110 - val_accuracy: 0.7920\n",
            "Epoch 45/100\n",
            "79/79 - 0s - loss: 0.0325 - accuracy: 0.9500 - val_loss: 0.1062 - val_accuracy: 0.8000\n",
            "Epoch 46/100\n",
            "79/79 - 0s - loss: 0.0325 - accuracy: 0.9444 - val_loss: 0.1102 - val_accuracy: 0.7900\n",
            "Epoch 47/100\n",
            "79/79 - 0s - loss: 0.0348 - accuracy: 0.9436 - val_loss: 0.1108 - val_accuracy: 0.7920\n",
            "Epoch 48/100\n",
            "79/79 - 0s - loss: 0.0336 - accuracy: 0.9456 - val_loss: 0.1125 - val_accuracy: 0.7920\n",
            "Epoch 49/100\n",
            "79/79 - 0s - loss: 0.0325 - accuracy: 0.9440 - val_loss: 0.1084 - val_accuracy: 0.7880\n",
            "Epoch 50/100\n",
            "79/79 - 0s - loss: 0.0315 - accuracy: 0.9480 - val_loss: 0.1107 - val_accuracy: 0.8040\n",
            "Epoch 51/100\n",
            "79/79 - 0s - loss: 0.0308 - accuracy: 0.9516 - val_loss: 0.1087 - val_accuracy: 0.7900\n",
            "Epoch 52/100\n",
            "79/79 - 0s - loss: 0.0300 - accuracy: 0.9516 - val_loss: 0.1132 - val_accuracy: 0.7780\n",
            "Epoch 53/100\n",
            "79/79 - 0s - loss: 0.0298 - accuracy: 0.9512 - val_loss: 0.1086 - val_accuracy: 0.8000\n",
            "Epoch 54/100\n",
            "79/79 - 0s - loss: 0.0287 - accuracy: 0.9544 - val_loss: 0.1095 - val_accuracy: 0.7980\n",
            "Epoch 55/100\n",
            "79/79 - 0s - loss: 0.0282 - accuracy: 0.9548 - val_loss: 0.1147 - val_accuracy: 0.7860\n",
            "Epoch 56/100\n",
            "79/79 - 0s - loss: 0.0290 - accuracy: 0.9560 - val_loss: 0.1133 - val_accuracy: 0.7940\n",
            "Epoch 57/100\n",
            "79/79 - 0s - loss: 0.0294 - accuracy: 0.9528 - val_loss: 0.1194 - val_accuracy: 0.7800\n",
            "Epoch 58/100\n",
            "79/79 - 0s - loss: 0.0288 - accuracy: 0.9520 - val_loss: 0.1109 - val_accuracy: 0.7980\n",
            "Epoch 59/100\n",
            "79/79 - 0s - loss: 0.0270 - accuracy: 0.9576 - val_loss: 0.1118 - val_accuracy: 0.7960\n",
            "Epoch 60/100\n",
            "79/79 - 0s - loss: 0.0280 - accuracy: 0.9540 - val_loss: 0.1165 - val_accuracy: 0.7900\n",
            "Epoch 61/100\n",
            "79/79 - 0s - loss: 0.0271 - accuracy: 0.9592 - val_loss: 0.1177 - val_accuracy: 0.7780\n",
            "Epoch 62/100\n",
            "79/79 - 0s - loss: 0.0266 - accuracy: 0.9584 - val_loss: 0.1172 - val_accuracy: 0.7940\n",
            "Epoch 63/100\n",
            "79/79 - 0s - loss: 0.0254 - accuracy: 0.9616 - val_loss: 0.1168 - val_accuracy: 0.7960\n",
            "Epoch 64/100\n",
            "79/79 - 0s - loss: 0.0256 - accuracy: 0.9648 - val_loss: 0.1150 - val_accuracy: 0.7980\n",
            "Epoch 65/100\n",
            "79/79 - 0s - loss: 0.0251 - accuracy: 0.9616 - val_loss: 0.1185 - val_accuracy: 0.7960\n",
            "Epoch 66/100\n",
            "79/79 - 0s - loss: 0.0258 - accuracy: 0.9600 - val_loss: 0.1189 - val_accuracy: 0.7960\n",
            "Epoch 67/100\n",
            "79/79 - 0s - loss: 0.0277 - accuracy: 0.9560 - val_loss: 0.1223 - val_accuracy: 0.7760\n",
            "Epoch 68/100\n",
            "79/79 - 0s - loss: 0.0258 - accuracy: 0.9576 - val_loss: 0.1250 - val_accuracy: 0.7900\n",
            "Epoch 69/100\n",
            "79/79 - 0s - loss: 0.0239 - accuracy: 0.9660 - val_loss: 0.1168 - val_accuracy: 0.7940\n",
            "Epoch 70/100\n",
            "79/79 - 0s - loss: 0.0268 - accuracy: 0.9576 - val_loss: 0.1173 - val_accuracy: 0.7920\n",
            "Epoch 71/100\n",
            "79/79 - 0s - loss: 0.0233 - accuracy: 0.9696 - val_loss: 0.1189 - val_accuracy: 0.7820\n",
            "Epoch 72/100\n",
            "79/79 - 0s - loss: 0.0238 - accuracy: 0.9676 - val_loss: 0.1178 - val_accuracy: 0.7980\n",
            "Epoch 73/100\n",
            "79/79 - 0s - loss: 0.0235 - accuracy: 0.9664 - val_loss: 0.1212 - val_accuracy: 0.7820\n",
            "Epoch 74/100\n",
            "79/79 - 0s - loss: 0.0236 - accuracy: 0.9636 - val_loss: 0.1182 - val_accuracy: 0.8020\n",
            "Epoch 75/100\n",
            "79/79 - 0s - loss: 0.0234 - accuracy: 0.9636 - val_loss: 0.1206 - val_accuracy: 0.7960\n",
            "Epoch 76/100\n",
            "79/79 - 0s - loss: 0.0230 - accuracy: 0.9648 - val_loss: 0.1214 - val_accuracy: 0.7880\n",
            "Epoch 77/100\n",
            "79/79 - 0s - loss: 0.0233 - accuracy: 0.9628 - val_loss: 0.1214 - val_accuracy: 0.7860\n",
            "Epoch 78/100\n",
            "79/79 - 0s - loss: 0.0232 - accuracy: 0.9644 - val_loss: 0.1257 - val_accuracy: 0.7920\n",
            "Epoch 79/100\n",
            "79/79 - 0s - loss: 0.0223 - accuracy: 0.9660 - val_loss: 0.1274 - val_accuracy: 0.7840\n",
            "Epoch 80/100\n",
            "79/79 - 0s - loss: 0.0217 - accuracy: 0.9672 - val_loss: 0.1219 - val_accuracy: 0.7960\n",
            "Epoch 81/100\n",
            "79/79 - 0s - loss: 0.0209 - accuracy: 0.9696 - val_loss: 0.1231 - val_accuracy: 0.7880\n",
            "Epoch 82/100\n",
            "79/79 - 0s - loss: 0.0207 - accuracy: 0.9724 - val_loss: 0.1269 - val_accuracy: 0.7820\n",
            "Epoch 83/100\n",
            "79/79 - 0s - loss: 0.0207 - accuracy: 0.9688 - val_loss: 0.1248 - val_accuracy: 0.7920\n",
            "Epoch 84/100\n",
            "79/79 - 0s - loss: 0.0213 - accuracy: 0.9692 - val_loss: 0.1234 - val_accuracy: 0.7940\n",
            "Epoch 85/100\n",
            "79/79 - 0s - loss: 0.0216 - accuracy: 0.9668 - val_loss: 0.1233 - val_accuracy: 0.8000\n",
            "Epoch 86/100\n",
            "79/79 - 0s - loss: 0.0205 - accuracy: 0.9716 - val_loss: 0.1281 - val_accuracy: 0.7960\n",
            "Epoch 87/100\n",
            "79/79 - 0s - loss: 0.0209 - accuracy: 0.9696 - val_loss: 0.1247 - val_accuracy: 0.7820\n",
            "Epoch 88/100\n",
            "79/79 - 0s - loss: 0.0197 - accuracy: 0.9736 - val_loss: 0.1275 - val_accuracy: 0.8000\n",
            "Epoch 89/100\n",
            "79/79 - 0s - loss: 0.0192 - accuracy: 0.9740 - val_loss: 0.1258 - val_accuracy: 0.7920\n",
            "Epoch 90/100\n",
            "79/79 - 0s - loss: 0.0209 - accuracy: 0.9700 - val_loss: 0.1311 - val_accuracy: 0.7720\n",
            "Epoch 91/100\n",
            "79/79 - 0s - loss: 0.0190 - accuracy: 0.9768 - val_loss: 0.1309 - val_accuracy: 0.7940\n",
            "Epoch 92/100\n",
            "79/79 - 0s - loss: 0.0216 - accuracy: 0.9684 - val_loss: 0.1287 - val_accuracy: 0.7820\n",
            "Epoch 93/100\n",
            "79/79 - 0s - loss: 0.0199 - accuracy: 0.9732 - val_loss: 0.1329 - val_accuracy: 0.7840\n",
            "Epoch 94/100\n",
            "79/79 - 0s - loss: 0.0187 - accuracy: 0.9784 - val_loss: 0.1282 - val_accuracy: 0.7900\n",
            "Epoch 95/100\n",
            "79/79 - 0s - loss: 0.0189 - accuracy: 0.9756 - val_loss: 0.1334 - val_accuracy: 0.7860\n",
            "Epoch 96/100\n",
            "79/79 - 0s - loss: 0.0199 - accuracy: 0.9708 - val_loss: 0.1271 - val_accuracy: 0.7940\n",
            "Epoch 97/100\n",
            "79/79 - 0s - loss: 0.0180 - accuracy: 0.9764 - val_loss: 0.1300 - val_accuracy: 0.7960\n",
            "Epoch 98/100\n",
            "79/79 - 0s - loss: 0.0183 - accuracy: 0.9756 - val_loss: 0.1299 - val_accuracy: 0.7900\n",
            "Epoch 99/100\n",
            "79/79 - 0s - loss: 0.0176 - accuracy: 0.9796 - val_loss: 0.1355 - val_accuracy: 0.7860\n",
            "Epoch 100/100\n",
            "79/79 - 0s - loss: 0.0178 - accuracy: 0.9752 - val_loss: 0.1312 - val_accuracy: 0.7840\n",
            "16/16 - 0s - loss: 0.1120 - accuracy: 0.8160\n",
            "Confusion matrix:\n",
            "[[0.82 0.02 0.   0.05 0.   0.   0.09 0.   0.02 0.  ]\n",
            " [0.   0.97 0.   0.03 0.   0.   0.   0.   0.   0.  ]\n",
            " [0.02 0.02 0.52 0.02 0.24 0.   0.17 0.   0.   0.  ]\n",
            " [0.05 0.03 0.03 0.85 0.   0.   0.05 0.   0.   0.  ]\n",
            " [0.   0.   0.07 0.05 0.72 0.   0.16 0.   0.   0.  ]\n",
            " [0.   0.   0.   0.   0.   0.92 0.   0.08 0.   0.  ]\n",
            " [0.17 0.   0.02 0.02 0.11 0.   0.64 0.   0.04 0.  ]\n",
            " [0.   0.   0.   0.   0.   0.12 0.   0.8  0.   0.08]\n",
            " [0.   0.   0.   0.02 0.02 0.04 0.02 0.   0.89 0.02]\n",
            " [0.   0.   0.   0.   0.   0.02 0.   0.   0.   0.98]]\n",
            "Diagonal values:\n",
            "[0.82 0.97 0.52 0.85 0.72 0.92 0.64 0.8  0.89 0.98]\n"
          ],
          "name": "stdout"
        }
      ]
    },
    {
      "cell_type": "code",
      "metadata": {
        "id": "B8Ea0c_Udpz-",
        "colab_type": "code",
        "colab": {}
      },
      "source": [
        ""
      ],
      "execution_count": null,
      "outputs": []
    }
  ]
}