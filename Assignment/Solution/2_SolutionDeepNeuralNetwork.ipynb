{
 "cells": [
  {
   "cell_type": "markdown",
   "metadata": {
    "colab_type": "text",
    "id": "8aubCX1FWU6R"
   },
   "source": [
    "## Assignment 2: Deep Neural Network \n"
   ]
  },
  {
   "cell_type": "markdown",
   "metadata": {
    "colab_type": "text",
    "id": "7TJT9yeVWU6R"
   },
   "source": [
    "### Giới thiệu\n",
    "\n",
    "Để có thể hoàn tất bài tập này, các bạn cần nắm rõ những kiến thức sau:\n",
    "\n",
    "    - Neural Networks - Fully connected networks là gì, nguyên tắc hoạt động ra sao.\n",
    "\t- Giải thuật Feedforward và BackPropagation trong bài toán NN.\n",
    "\t- Giải thuật gradient descent - Batch and Mini-batch.\n",
    "\t- Regularization để tránh overfitting trong NN.\n",
    "\n",
    "Các bạn có thể tham khảo lại bài giảng của lớp để nắm vững các nội dung này. Ngoài ra, các bạn có thể đặt câu hỏi cho đội ngũ giảng dạy nếu có thắc mắc. \n",
    "\n",
    "Trong bài tập này các bạn sẽ sử dụng Neural Networks để giải quyết 2 bài toán:\n",
    "\n",
    "\t- Bài 1: phân loại dữ liệu BAT, gồm 3 lớp.\n",
    "![Dữ liệu 3 class BAT](https://i.imgur.com/d1Pd1XT.png)\n",
    "\t- Bài 2: phân loại tập fashion MNIST, gồm 10 lớp.\n",
    "![Dữ liệu Fashion MNIST](https://i.imgur.com/O9dqdId.png)\n",
    "Yêu cầu dành cho các bạn trong là giải quyết hai bài trên bằng Numpy và TensorFlow.\n",
    "\n",
    "Mục tiêu của bài tập lần này là hiện thực Neural Networks mạng Fully Connected một cách cơ bản trên Numpy và Tensorflow. Một mạng cơ bản sẽ gồm nhiều hidden layers và một lớp softmax tại layer cuối cùng phù hợp cho việc phân loại dữ liệu. \n",
    "\n",
    "![Mạng neural network. Nguồn: graphicsminer.com/neuralnetwork](https://i.imgur.com/K3Yvt20.png)\n",
    "\n",
    "Khi thiết kế một mạng cơ bản thì người dùng có thể quyết định số input feature cho tầng input. Số output sẽ là số lớp mà người đó muốn phân loại. Ví dụ như bài toán fashion MNIST thì số feature đầu vào chính bằng số pixel của mỗi ảnh, số nút đầu ra sẽ bằng số lớp cần phân loại (10). Đối với số lượng hidden layer và số lượng nodes tương ứng, ta có thể tùy chọn.\n",
    "\n",
    "Một chú ý rất quan trọng là số nodes đầu ra của layer trước sẽ là số inputs đầu vào của layers sau đó.\n"
   ]
  },
  {
   "cell_type": "markdown",
   "metadata": {
    "colab_type": "text",
    "id": "PoOck2DCWU6S"
   },
   "source": [
    "## I/ Thực hiện Deep Neural Network với Numpy\n",
    "### Những công việc bạn phải thực hiện \n",
    "\n",
    "1. Các hàm activation `sigmoid`, `tanh`, `relu`, `softmax` và đạo hàm của nó `sigmoid_grad`, `tanh_grad`, `relu_grad`.\n",
    "2. Hàm `forward` và `backward` ở class `HiddenLayer`\n",
    "```python\n",
    "    class HiddenLayer:\n",
    "    \n",
    "        def forward(self, X):\n",
    "            ...\n",
    "    \n",
    "        def backward(self, X, delta_prev):\n",
    "            ...\n",
    "```\n",
    "3. Hàm `forward`, `backward`, `compute_loss` ở class `NeuralNetwork`\n",
    "```python\n",
    "    class NeuralNetwork:\n",
    "        \n",
    "        def forward(self, X):\n",
    "            ...\n",
    "            \n",
    "        def backward(self, X, Y, layers):\n",
    "            ...\n",
    "            \n",
    "        def compute_loss(self, Y, Y_hat):\n",
    "            ...\n",
    "```"
   ]
  },
  {
   "cell_type": "markdown",
   "metadata": {
    "colab_type": "text",
    "id": "sR1nh0HmWU6S"
   },
   "source": [
    "### Ký hiệu:\n",
    "\n",
    "- $L$: số layers trong mạng neural network. \n",
    "- $l = 0,1,..,L$ với $0$ là layer input và $L$ layer output.\n",
    "- $n^{[l]}$ là số neurons tại layer $l$\n",
    "- $l-1$: layer trước theo chiều forward của $l$.\n",
    "- $l+1$: layer trước theo chiều backward của $l$.\n",
    "- $\\sigma'(x)$: đạo hàm hàm activation theo x (general case cho cả đạo hàm sigmoid, tanh, relu).\n",
    "- $Z^{[l]}$: linear function values tại layer $l$.\n",
    "- $A^{[l]}$: activation function values tại layer $l$."
   ]
  },
  {
   "cell_type": "markdown",
   "metadata": {
    "colab_type": "text",
    "id": "yaHjKk8NWU6T"
   },
   "source": [
    "### Import các thư viện cần thiết cho bài assignment"
   ]
  },
  {
   "cell_type": "markdown",
   "metadata": {
    "colab_type": "text",
    "id": "XcPK2dtVMQ75"
   },
   "source": [
    "**Chú ý:** Nếu bạn chạy trên Google Colab thì các thư viện này đã được tích hợp sẵn. Nếu bạn chạy trên máy cá nhân, bạn cần install các thư viện *numpy*, *matplotlib*, *googledrivedownloader*, *sklearn*."
   ]
  },
  {
   "cell_type": "code",
   "execution_count": 1,
   "metadata": {
    "colab": {},
    "colab_type": "code",
    "id": "VfJTsubxWU6U"
   },
   "outputs": [],
   "source": [
    "%matplotlib inline\n",
    "import numpy as np\n",
    "import matplotlib.pyplot as plt\n",
    "from IPython import display\n",
    "from google_drive_downloader import GoogleDriveDownloader as gdd\n",
    "import os\n",
    "import sys\n",
    "from sklearn.metrics import confusion_matrix"
   ]
  },
  {
   "cell_type": "markdown",
   "metadata": {
    "colab_type": "text",
    "id": "3py26bW_WU6W"
   },
   "source": [
    "### Download files dữ liệu về từ google drive"
   ]
  },
  {
   "cell_type": "code",
   "execution_count": 2,
   "metadata": {
    "colab": {
     "base_uri": "https://localhost:8080/",
     "height": 69
    },
    "colab_type": "code",
    "id": "yrtam5dxWU6W",
    "outputId": "208ded1b-31fd-4f99-94bc-1f274c117bb9"
   },
   "outputs": [
    {
     "name": "stdout",
     "output_type": "stream",
     "text": [
      "Downloading 1EXSdvCLlcXvl1Gi6sNSJCu6psICoLNNc into /media/thieu/captain/vietAI/assignment2/solution/Assignment2.zip... Done.\n",
      "Unzipping...Done.\n",
      "2_SolutionDeepNeuralNetwork.ipynb  data  test  utils\n"
     ]
    }
   ],
   "source": [
    "# DOWNLOAD DATA\n",
    "gdd.download_file_from_google_drive(file_id='1EXSdvCLlcXvl1Gi6sNSJCu6psICoLNNc', \n",
    "                                    dest_path=os.path.join(os.getcwd(), 'Assignment2.zip'), unzip=True)\n",
    "\n",
    "if sys.platform.startswith(\"win\"):\n",
    "    !move \"./Assignment2/data\" \".\"\n",
    "    !move \"./Assignment2/test\" \".\"\n",
    "    !move \"./Assignment2/utils\" \".\"\n",
    "    !del \"Assignment2.zip\"\n",
    "    !rd /s /q \"Assignment2\" \"__MACOSX\"\n",
    "    !dir\n",
    "else:\n",
    "    !mv Assignment2/* .\n",
    "    !rm Assignment2.zip\n",
    "    !rm -rf Assignment2 __MACOSX\n",
    "    # SHOW THE ITEMS OF CURRENT DIRRECTORY\n",
    "    !ls"
   ]
  },
  {
   "cell_type": "code",
   "execution_count": null,
   "metadata": {
    "colab": {},
    "colab_type": "code",
    "id": "o9-jw8LMP7tn"
   },
   "outputs": [],
   "source": []
  },
  {
   "cell_type": "markdown",
   "metadata": {
    "colab_type": "text",
    "id": "XM2C8VBIZpJ-"
   },
   "source": [
    "### Import utility functions"
   ]
  },
  {
   "cell_type": "code",
   "execution_count": 3,
   "metadata": {
    "colab": {},
    "colab_type": "code",
    "id": "FW8Bh97nZttw"
   },
   "outputs": [],
   "source": [
    "from utils.util import *"
   ]
  },
  {
   "cell_type": "markdown",
   "metadata": {
    "colab_type": "text",
    "id": "1JFz8ZfBWU6Y"
   },
   "source": [
    "### Các hàm activation\n",
    "\n",
    "$$sigmoid(x) = \\frac{1}{1+e^{-x}}$$\n",
    "\n",
    "$$tanh(x) = \\frac{e^{x} - e^{-x}}{e^{x} + e^{-x}} $$\n",
    "\n",
    "$$relu(x) = \\begin{cases} x, & \\mbox{if } x > 0 \\\\ 0, & \\mbox{if } x <= 0 \\end{cases}$$\n",
    "\n",
    "$$sigmoid'(x) = sigmoid(x)(1 - sigmoid(x)) $$\n",
    "\n",
    "$$tanh'(x) = 1 - tanh^2(x)$$\n",
    "\n",
    "$$relu'(x) = \\begin{cases} 1, & \\mbox{if } x > 0 \\\\ 0, & \\mbox{if } x <= 0 \\end{cases}$$"
   ]
  },
  {
   "cell_type": "markdown",
   "metadata": {
    "colab_type": "text",
    "id": "R0XRJ8Pkqfrk"
   },
   "source": [
    "#### \\[TODO 1\\] Các hàm activation\n",
    "Định nghĩa các hàm activation ở cell bên dưới. (1đ)"
   ]
  },
  {
   "cell_type": "code",
   "execution_count": 4,
   "metadata": {
    "colab": {},
    "colab_type": "code",
    "id": "vaRr075NWU6Y"
   },
   "outputs": [],
   "source": [
    "def sigmoid(x):\n",
    "    \"\"\"\n",
    "    Sigmoid function. Output = 1 / (1 + exp(-1)).\n",
    "    :param x: input\n",
    "    \"\"\"\n",
    "    #### [TODO 1] START CODE HERE #### \n",
    "    x = 1/(1+np.exp(-x))\n",
    "    #### END CODE HERE ####\n",
    "    return x\n",
    "\n",
    "\n",
    "def sigmoid_grad(x):\n",
    "    \"\"\"\n",
    "    Compute gradient of sigmoid.\n",
    "    :param x: input\n",
    "    \"\"\"\n",
    "    \n",
    "    #### [TODO 1] START CODE HERE #### \n",
    "    da = (sigmoid(x))*(1-sigmoid(x))\n",
    "    #### END CODE HERE ####\n",
    "    return da\n",
    "\n",
    "\n",
    "def relu(x):\n",
    "    \"\"\"\n",
    "    Rectified linear unit function. Output = max(0,x).\n",
    "    :param x: input\n",
    "    \"\"\"\n",
    "    \n",
    "    #### [TODO 1] START CODE HERE #### \n",
    "    x = np.maximum(0,x)\n",
    "    #### END CODE HERE ####\n",
    "    return x\n",
    "\n",
    "\n",
    "def relu_grad(x):\n",
    "    \"\"\"\n",
    "    Compute gradient of ReLU.\n",
    "    :param x: input\n",
    "    \"\"\"\n",
    "    \n",
    "    #### [TODO 1] START CODE HERE #### \n",
    "    da = relu(x)\n",
    "    da[da > 0] = 1\n",
    "    #### END CODE HERE ####\n",
    "    return da\n",
    "\n",
    "\n",
    "def tanh(x):\n",
    "    \"\"\"\n",
    "    Tanh function.\n",
    "    :param x: input\n",
    "    \"\"\"\n",
    "   \n",
    "    #### [TODO 1] START CODE HERE #### \n",
    "    x = (np.exp(x) - np.exp(-x))/(np.exp(x) + np.exp(-x))\n",
    "    #### END CODE HERE ####\n",
    "    return x\n",
    "\n",
    "\n",
    "def tanh_grad(x):\n",
    "    \"\"\"\n",
    "    Compute gradient for tanh.\n",
    "    :param x: input\n",
    "    \"\"\"\n",
    "\n",
    "    #### [TODO 1] START CODE HERE #### \n",
    "    da =  1 - tanh(x)**2\n",
    "    #### END CODE HERE ####\n",
    "    return da\n",
    "\n",
    "def softmax(x):\n",
    "    \"\"\"\n",
    "    Stable softmax function.\n",
    "    :param x: input\n",
    "    \"\"\"\n",
    "    #### [TODO 1] START CODE HERE #### \n",
    "    exp_scores = np.exp(x - np.max(x, axis = 1, keepdims = True))\n",
    "    probs = exp_scores/np.sum(exp_scores, axis = 1, keepdims = True)\n",
    "    #### END CODE HERE ####\n",
    "    return probs "
   ]
  },
  {
   "cell_type": "markdown",
   "metadata": {
    "colab_type": "text",
    "id": "xt_ai6WdWU6a"
   },
   "source": [
    "#### Kiểm tra lại lại các hàm activation đã cài đặt\n",
    "\n",
    "Bạn có thể kiểm tra cái hàm bạn đã cài đặt bằng đoạn code bên dưới."
   ]
  },
  {
   "cell_type": "code",
   "execution_count": 5,
   "metadata": {
    "colab": {
     "base_uri": "https://localhost:8080/",
     "height": 34
    },
    "colab_type": "code",
    "id": "E2lOqDOIWU6a",
    "outputId": "7d704fc3-3d9c-43c1-ab90-4562cf2284bc"
   },
   "outputs": [
    {
     "name": "stdout",
     "output_type": "stream",
     "text": [
      "Test PASS!\n"
     ]
    }
   ],
   "source": [
    "import pickle\n",
    "\n",
    "np.random.seed(2019)\n",
    "func_test = [\"sigmoid\", \"relu\", \"tanh\", \"sigmoid_grad\", \"relu_grad\", \"tanh_grad\", \"softmax\"]\n",
    "test_activation = dict()\n",
    "results = []\n",
    "with open(\"test/activation.pkl\", \"rb\") as f:\n",
    "    test_activation = pickle.load(f)\n",
    "\n",
    "test_x = test_activation[\"test_x\"]\n",
    "sample = test_activation[\"sample\"]\n",
    "\n",
    "for i, func_str in enumerate(func_test):\n",
    "    func = eval(func_str)\n",
    "    sample.append(func(test_x))\n",
    "    if not np.allclose(func(test_x), sample[i]):\n",
    "        results.append(func_str)\n",
    "\n",
    "if len(results) == 0:\n",
    "    print(\"Test PASS!\")\n",
    "else:\n",
    "    print(\"Test FAILED: \" + \", \".join(results))"
   ]
  },
  {
   "cell_type": "markdown",
   "metadata": {
    "colab_type": "text",
    "id": "GAXiX8q6WU6d"
   },
   "source": [
    "### Class `HiddenLayer` \n",
    "\n",
    "#### Hướng dẫn:\n",
    "\n",
    "1. Hàm `forward`:\n",
    "- Hàm nhận vào tham số input $X$ (là output của hidden layer trước theo chiều forward, layer $l-1$).\n",
    "- Tính linear transformation của $X$ ($A^{[l-1]}$): $Z^{[l]} = XW$.\n",
    "- Sau đó tính nonlinear transformation: $A^{[l]} = \\sigma(Z^{[l]})$ với $\\sigma$ là hàm activation.\n",
    "    \n",
    "2. Hàm `backward`:\n",
    "- Hàm nhận vào 2 tham số input `X`(là output của hidden layer trước đó theo chiều forward) với `delta_prev` (delta trước đó theo chiều backward).\n",
    "- Tính delta tại layer $l$: \n",
    "    \n",
    "    $$\\delta^{[l]} = \\frac{\\partial J}{\\partial A^{[l]}}\\frac{\\partial A^{[l]}}{\\partial Z^{[l]}} =  \\delta^{[l+1]} * \\sigma'(Z^{[l]})$$ \n",
    "\n",
    "Chú ý: $*$ operation là element-wise multiplication.\n",
    "- Tính W_grad (without regularization): $\\nabla W^{[l]} = (A^{[l-1]})^T\\delta^{[l]} $\n",
    "- With regularization:  $\\nabla W^{[l]} = (A^{[l-1]})^T\\delta^{[l]} + \\frac{\\lambda}{m} W^{[l]}$ với $\\lambda$ là hệ số regularization (hyperparameter mình sẽ chọn)."
   ]
  },
  {
   "cell_type": "markdown",
   "metadata": {
    "colab_type": "text",
    "id": "lvz4a9OVvWbP"
   },
   "source": [
    "#### \\[TODO 2\\] Hàm `forward`\n",
    "Định nghĩa hàm `forward` trong class `HiddenLayer` (1đ)"
   ]
  },
  {
   "cell_type": "markdown",
   "metadata": {
    "colab_type": "text",
    "id": "k36DABvNvmXW"
   },
   "source": [
    "#### \\[TODO 3\\] Hàm `backward` \n",
    "Định nghĩa hàm `backward` trong class `HiddenLayer` (2đ)\n",
    "  + Tính W_grad (without regularization) (1đ)\n",
    "  + Tính W_grad (with L2 regularization) (1đ)"
   ]
  },
  {
   "cell_type": "code",
   "execution_count": 6,
   "metadata": {
    "colab": {},
    "colab_type": "code",
    "id": "tcKvwjzIWU6d"
   },
   "outputs": [],
   "source": [
    "class HiddenLayer:\n",
    "    \"\"\"\n",
    "    Abstract hidden layer use in Neural Network.\n",
    "    \"\"\"\n",
    "    \n",
    "    def __init__(self, num_neurons, activation, reg = 0):\n",
    "        \"\"\"\n",
    "        Constructor for abstract hidden layer.\n",
    "        \n",
    "        Parameters\n",
    "        ----------\n",
    "        num_neurons: (integer) specify number of neurons in this layer.\n",
    "        activation: (string) indicating which activation function to be used.  \n",
    "                        the string must be in [\"sigmoid\", \"relu\", \"tanh\", \"softmax\"]\n",
    "        reg: (float) regularization coefficient to help with overfitting.\n",
    "        \"\"\"\n",
    "        assert activation in [\"sigmoid\", \"relu\", \"tanh\", \"softmax\"], \"Activation must be in [sigmoid, relu, tanh, softmax]\"\n",
    "        self.num_neurons = num_neurons\n",
    "        self.W = None \n",
    "        self.activation = activation\n",
    "        self.reg = reg\n",
    "\n",
    "    def forward(self, X):\n",
    "        \"\"\"\n",
    "        Compute nonlinear function of input X.\n",
    "            X -> LINEAR -> ACTIVATION.\n",
    "            \n",
    "        `activation_function` variable below is equal to this piece of code:\n",
    "        \n",
    "            if (self.activation == 'sigmoid'):\n",
    "                activation_function = sigmoid\n",
    "            elif (self.activation == 'relu'):\n",
    "                activation_function = reLU\n",
    "            elif (self.activation == 'tanh'):\n",
    "                activation_function = tanh\n",
    "            elif (self.activation == 'softmax'):\n",
    "                activation_function = softmax\n",
    "        \n",
    "        Parameters\n",
    "        ----------\n",
    "        X: output of the previous layer (input for the current layer).\n",
    "        \n",
    "        Returns\n",
    "        -------\n",
    "        A: output of the current layer.\n",
    "        \"\"\"\n",
    "        if self.W is None:\n",
    "            W_shape = (X.shape[1], self.num_neurons)\n",
    "            self.W = np.random.normal(0, np.sqrt(2/(X.shape[1]+self.num_neurons)), W_shape)\n",
    "        \n",
    "        activation_function = eval(self.activation) # this returns function variable\n",
    "        \n",
    "        #### [TODO 2] START CODE HERE ####\n",
    "        self.Z = np.dot(X, self.W)\n",
    "        A = activation_function(self.Z) # use `activation_function` function above apply to `Z`\n",
    "        #### END CODE HERE ####\n",
    "        return A\n",
    "\n",
    "    def backward(self, X, delta_prev):\n",
    "        \"\"\"\n",
    "        Compute gradient w.r.t X and W at the current layer.\n",
    "            X <- LINEAR <- ACTIVATION.\n",
    "            W <- LINEAR <- ACTIVATION.\n",
    "        \n",
    "        Parameters\n",
    "        ----------\n",
    "        X: output of the previous layer (input for the current layer).\n",
    "        delta_prev: delta dot product with W computed from the next layer (in feedforward direction) \n",
    "                                or previous layer (in backpropagation direction)\n",
    "        \"\"\"\n",
    "        activation_grad_function = eval(self.activation + \"_grad\")\n",
    "        z = self.Z\n",
    "\n",
    "        #### [TODO 3] START CODE HERE ####\n",
    "        delta = delta_prev * activation_grad_function(z)\n",
    "        W_grad = X.T.dot(delta)\n",
    "        #### END CODE HERE ####\n",
    "\n",
    "        #### [TODO 3] START CODE HERE ####\n",
    "        W_grad += self.reg*self.W/X.shape[0]\n",
    "        #### END CODE HERE ####\n",
    "        \n",
    "        return W_grad, delta"
   ]
  },
  {
   "cell_type": "markdown",
   "metadata": {
    "colab_type": "text",
    "id": "LxBEnVcqWU6f"
   },
   "source": [
    "#### Kiểm tra class `HiddenLayer` được cài đặt\n",
    "\n",
    "Bạn có thể kiểm tra class `HiddenLayer` bạn đã cài đặt bằng cách chạy cell bên dưới:"
   ]
  },
  {
   "cell_type": "code",
   "execution_count": 7,
   "metadata": {
    "colab": {
     "base_uri": "https://localhost:8080/",
     "height": 52
    },
    "colab_type": "code",
    "id": "Udcfv7EbaMsI",
    "outputId": "055dea69-4cb7-4589-b37f-f58179378caa"
   },
   "outputs": [
    {
     "name": "stdout",
     "output_type": "stream",
     "text": [
      "TEST HiddenLayer WITHOUT REGULARIZATION\n",
      "Test PASS!\n"
     ]
    }
   ],
   "source": [
    "np.random.seed(2019)\n",
    "case_1 = HiddenLayer(10, \"sigmoid\", reg=0)\n",
    "case_2 = HiddenLayer(14, \"tanh\", reg=0)\n",
    "case_3 = HiddenLayer(17, \"relu\", reg=0)\n",
    "\n",
    "case_mapping = {0: \"(foward)\", 1: \"(backward W_grad)\", 2: \"(backward delta)\"}\n",
    "\n",
    "with open(\"test/hidden.pkl\", \"rb\") as f:\n",
    "    test_hidden = pickle.load(f)\n",
    "\n",
    "test_x = test_hidden[\"test_x\"]\n",
    "sample = test_hidden[\"sample\"]\n",
    "test_delta = test_hidden[\"test_delta\"]\n",
    "results = []\n",
    "for ind, cl_str in enumerate([\"case_1\", \"case_2\", \"case_3\"]):\n",
    "    hidden_layer = eval(cl_str)\n",
    "    case = (hidden_layer.forward(test_x), ) + hidden_layer.backward(test_x, test_delta[ind])\n",
    "    for i in range(3):\n",
    "        if not np.allclose(sample[ind][i], case[i]):\n",
    "            results.append(cl_str + case_mapping[i])\n",
    "\n",
    "print(\"TEST HiddenLayer WITHOUT REGULARIZATION\")\n",
    "if len(results) == 0:\n",
    "    print(\"Test PASS!\")\n",
    "else:\n",
    "    print(\"Test FAILED: \" + \", \".join(results))"
   ]
  },
  {
   "cell_type": "markdown",
   "metadata": {
    "colab_type": "text",
    "id": "xfYPF3NIaMsK"
   },
   "source": [
    "Các bạn nên chắc chắn rằng mình đã pass hết các test cases để làm tiếp."
   ]
  },
  {
   "cell_type": "markdown",
   "metadata": {
    "colab_type": "text",
    "id": "T4londbBaMsL"
   },
   "source": [
    "#### Đoạn code kiểm tra Hidden Layer với Regularization\n",
    "\n",
    "Các bạn có thể skip phần test case này nếu chưa làm với Regularization."
   ]
  },
  {
   "cell_type": "code",
   "execution_count": 8,
   "metadata": {
    "colab": {
     "base_uri": "https://localhost:8080/",
     "height": 52
    },
    "colab_type": "code",
    "id": "XYQnbqK-aMsL",
    "outputId": "8acda840-fe56-46c4-8eb1-6e847845e22a",
    "scrolled": true
   },
   "outputs": [
    {
     "name": "stdout",
     "output_type": "stream",
     "text": [
      "TEST HiddenLayer WITH REGULARIZATION\n",
      "Test PASS!\n"
     ]
    }
   ],
   "source": [
    "np.random.seed(2019)\n",
    "case_1 = HiddenLayer(10, \"sigmoid\", reg=0.9)\n",
    "case_2 = HiddenLayer(14, \"tanh\", reg=0.9)\n",
    "case_3 = HiddenLayer(17, \"relu\", reg=0.9)\n",
    "\n",
    "case_mapping = {0: \"(foward)\", 1: \"(backward W_grad)\", 2: \"(backward delta)\"}\n",
    "\n",
    "with open(\"test/hidden_reg.pkl\", \"rb\") as f:\n",
    "    test_hidden = pickle.load(f)\n",
    "\n",
    "test_x = test_hidden[\"test_x\"]\n",
    "sample = test_hidden[\"sample\"]\n",
    "test_delta = test_hidden[\"test_delta\"]\n",
    "results = []\n",
    "for ind, cl_str in enumerate([\"case_1\", \"case_2\", \"case_3\"]):\n",
    "    hidden_layer = eval(cl_str)\n",
    "    case = (hidden_layer.forward(test_x), ) + hidden_layer.backward(test_x, test_delta[ind])\n",
    "    for i in range(3):\n",
    "        if not np.allclose(sample[ind][i], case[i]):\n",
    "            results.append(cl_str + case_mapping[i])\n",
    "\n",
    "print(\"TEST HiddenLayer WITH REGULARIZATION\")\n",
    "if len(results) == 0:\n",
    "    print(\"Test PASS!\")\n",
    "else:\n",
    "    print(\"Test FAILED: \" + \", \".join(results))"
   ]
  },
  {
   "cell_type": "markdown",
   "metadata": {
    "colab_type": "text",
    "id": "lBM_ewnfWU6h"
   },
   "source": [
    "### Class `NeuralNetwork`\n",
    "\n",
    "#### Hướng dẫn:\n",
    "\n",
    "1. Hàm `forward`:\n",
    "- Sử dụng hàm `forward` class `HiddenLayer`. Output của layer này [$l$] sẽ là input của layer sau [$l+1$]. Thêm output của layer [$l$] vào list `all_X` \n",
    "\n",
    "\n",
    "2. Hàm `compute_loss`:\n",
    "- Cross-entropy, không regularization: $$J = -\\frac{1}{m}\\sum_{i=1}^m\\sum_{k=1}^C y_{ik}\\log(a_{ik}^{[L]})$$\n",
    "- Cross-entropy, L2 regularization: $$J = -\\frac{1}{m}\\sum_{i=1}^m\\sum_{k=1}^C y_{ik}\\log(a_{ik}^{[L]}) + \\frac{\\lambda}{2m}\\sum_{l=1}^L\\|\\mathbf{W}^{[l]} \\|_2^2$$\n",
    "    \n",
    "    \n",
    "3. Hàm `backward`:\n",
    "\n",
    "- Tính `delta_last` $\\delta^{[L]} $ và `grad_last` $\\nabla W^{[L]}$ theo hàm softmax (để ý superscript [L]): \n",
    "    \n",
    "    $$\\delta^{[L]} = \\frac{\\partial J}{\\partial \\mathbf{A}^{[L]}}\\frac{\\partial \\mathbf{A}^{[L]}}{\\partial \\mathbf{Z}^{[L]}} = \\frac{1}{m} (\\mathbf{A}^{[L]} - \\mathbf{Y})$$\n",
    "\n",
    "    - **Without regularization:**\n",
    "        \n",
    "        $$\\nabla W^{[L]} = \\frac{\\partial J}{\\partial \\mathbf{A}^{[L]}}\\frac{\\partial \\mathbf{A}^{[L]}}{\\partial \\mathbf{Z}^{[L]}}\\frac{\\partial \\mathbf{Z}^{[L]}}{\\partial \\mathbf{W}^{[L]}} = \\delta^{[L]} \\frac{\\partial \\mathbf{Z}^{[L]}}{\\partial \\mathbf{W}^{[L]}} = (\\mathbf{A}^{[L-1]})^T \\delta^{[L]} $$\n",
    "\n",
    "    - **With L2 regularization:**\n",
    "\n",
    "        $$\\nabla \\mathbf{W}^{[L]} = (\\mathbf{A}^{[L-1]})^T \\delta^{[L]} + \\frac{\\lambda}{m} W^{[l]}$$\n",
    "\n",
    "- Tính `delta_prev` $\\delta^{[l]}$ và `grad_W` $\\nabla \\mathbf{W}^{[l]}$ ở các tầng ở giữa:\n",
    "    \n",
    "    $$\\delta^{[l]} = \\left(\\delta^{[l+1]}(\\mathbf{W}^{[l+1]})^T\\right) * \\sigma'(\\mathbf{Z^{[l]}})$$\n",
    "    \n",
    "    - **Without regularization**\n",
    "        \n",
    "        $$\\nabla \\mathbf{W}^{[l]} = (\\mathbf{A}^{[l-1]})^T \\delta^{[l]}$$\n",
    "\n",
    "    - **With L2 regularization**\n",
    "\n",
    "        $$\\nabla \\mathbf{W}^{[l]} = (\\mathbf{A}^{[l-1]})^T \\delta^{[l]} + \\frac{\\lambda}{m} W^{[l]}$$\n",
    "        \n",
    "Mục đích tính `delta` để tính gradient của `W` ở các tầng trước theo chiều forward."
   ]
  },
  {
   "cell_type": "markdown",
   "metadata": {
    "colab_type": "text",
    "id": "Z9PVWSh6wxVN"
   },
   "source": [
    "#### \\[TODO 4\\] Hàm `forward`\n",
    "Định nghĩa hàm `forward` trong class `NeuralNetwork` (0.5đ)"
   ]
  },
  {
   "cell_type": "markdown",
   "metadata": {
    "colab_type": "text",
    "id": "lYuwmMEFw1hr"
   },
   "source": [
    "#### \\[TODO 5\\] Hàm `compute_loss`\n",
    "Định nghĩa hàm `compute_loss` trong class `NeuralNetwork` (1.5đ)\n",
    "  + Loss without regularization (1đ)\n",
    "  + Loss of L2 regularization (0.5đ)"
   ]
  },
  {
   "cell_type": "markdown",
   "metadata": {
    "colab_type": "text",
    "id": "Xo0blEFKw5Pg"
   },
   "source": [
    "#### \\[TODO 6\\] Hàm `compute_delta_grad_last`\n",
    "Định nghĩa hàm `compute_delta_grad_last` trong class `NeuralNetwork` (1đ)\n",
    "  + Without regularization (0.5đ)\n",
    "  + With L2 regularization (0.5đ)"
   ]
  },
  {
   "cell_type": "markdown",
   "metadata": {
    "colab_type": "text",
    "id": "BNjzFiDUw8kI"
   },
   "source": [
    "#### [TODO 7] Hàm `backward`\n",
    "Định nghĩa hàm `backward` trong class `NeuralNetwork` (1đ)"
   ]
  },
  {
   "cell_type": "markdown",
   "metadata": {
    "colab_type": "text",
    "id": "Dxrf3fgWxAVa"
   },
   "source": [
    "#### \\[TODO 8\\] Hàm `update_weight_momentum`\n",
    "Định nghĩa hàm `update_weight_momentum` trong class `NeuralNetwork`. (1đ)"
   ]
  },
  {
   "cell_type": "code",
   "execution_count": 9,
   "metadata": {
    "colab": {},
    "colab_type": "code",
    "id": "jfwaEowzWU6h"
   },
   "outputs": [],
   "source": [
    "class NeuralNetwork:\n",
    "    \n",
    "    def __init__(self, learning_rate, num_class=2, reg = 1e-5):\n",
    "        self.layers = []\n",
    "        self.reg = reg\n",
    "        self.num_class = num_class\n",
    "        self.learning_rate = learning_rate\n",
    "        \n",
    "    def add_layer(self, num_neurons, activation):\n",
    "        \"\"\"\n",
    "        Function to add a hidden layer to neural network.\n",
    "        \n",
    "        Parameters\n",
    "        ----------\n",
    "        num_neurons: hyperparameter that specify nuber of neurons new hidden layer have/\n",
    "        activation: string, indicating which activation function to be used\n",
    "        \"\"\"\n",
    "        assert activation in [\"sigmoid\", \"relu\", \"tanh\", \"softmax\"], \"Activation must be in [sigmoid, relu, tanh, softmax]\"\n",
    "        self.layers.append(HiddenLayer(num_neurons, activation, self.reg))\n",
    "\n",
    "    def forward(self, X):\n",
    "        \"\"\"\n",
    "        Do forward propagation in the neural network\n",
    "        \n",
    "        Parameters\n",
    "        ----------\n",
    "        X: raw input X.\n",
    "        \n",
    "        Returns\n",
    "        -------\n",
    "        all_X: list of all X computed at each layer. \n",
    "        \"\"\"\n",
    "        all_X = [X]\n",
    "        #### [TODO 4] START CODE HERE ####\n",
    "        for layer in self.layers:\n",
    "            all_X.append(layer.forward(all_X[-1]))\n",
    "        #### END CODE HERE ####\n",
    "        return all_X\n",
    "    \n",
    "    def compute_loss(self, Y, Y_hat):\n",
    "        \"\"\"\n",
    "        Compute the average cross entropy loss using Y (label) and Y_hat (predicted class)\n",
    "                    and plus with regularization loss.\n",
    "        Parameters\n",
    "        ----------\n",
    "        Y:  the label, the actual class of the samples. This is one-hot encoding vector.\n",
    "                E.g: [0, 1, 2, 1] => [[1, 0, 0],\n",
    "                                      [0, 1, 0],\n",
    "                                      [0, 0, 1],\n",
    "                                      [0, 1, 0]]\n",
    "        Y_hat: the propabilities of classes (output of softmax).\n",
    "        \n",
    "        Returns\n",
    "        -------\n",
    "        \n",
    "        \"\"\"\n",
    "        #estimating cross entropy loss from y_hat and y\n",
    "        #### [TODO 5] START CODE HERE ####\n",
    "        correct_log_probs = Y*np.log(Y_hat)\n",
    "        data_loss = np.mean(-np.sum(correct_log_probs, axis=1), axis=0)\n",
    "        #### END CODE HERE ####\n",
    "\n",
    "        #estimating regularization loss from all layers\n",
    "        reg_loss = 0.0\n",
    "        #### [TODO 5] START CODE HERE ####\n",
    "        # compute reg_loss\n",
    "        for i in range(len(self.layers)):\n",
    "            reg_loss += 0.5*self.reg*np.sum(self.layers[i].W**2)\n",
    "        #### END CODE HERE ####\n",
    "\n",
    "        data_loss += reg_loss/Y.shape[0]\n",
    "\n",
    "        return data_loss\n",
    "\n",
    "    def compute_delta_grad_last(self, Y, all_X):\n",
    "        \"\"\"\n",
    "        Special formula to compute delta last and gradient last.\n",
    "        \n",
    "        Parameters\n",
    "        ----------\n",
    "        Y:  the label, the actual class of the samples. This is one-hot encoding vector.\n",
    "                E.g: [0, 1, 2, 1] => [[1, 0, 0],\n",
    "                                      [0, 1, 0],\n",
    "                                      [0, 0, 1],\n",
    "                                      [0, 1, 0]]\n",
    "                                      \n",
    "        all_X: raw input data and activation output from every layer\n",
    "        \"\"\"\n",
    "        n = Y.shape[0]\n",
    "        #### [TODO 6] START CODE HERE ####\n",
    "        delta_last = (all_X[-1] - Y)/n\n",
    "        grad_last = all_X[-2].T.dot(delta_last) + self.reg*self.layers[-1].W/n\n",
    "        #### END CODE HERE ####\n",
    "        return delta_last, grad_last\n",
    "\n",
    "    def backward(self, Y, all_X):\n",
    "        \"\"\"\n",
    "        Backpropagation algorithm to compute gradient at each layer.\n",
    "\n",
    "        Parameters\n",
    "        ----------\n",
    "        Y:  the label, the actual class of the samples. This is one-hot encoding vector.\n",
    "                E.g: [0, 1, 2, 1] => [[1, 0, 0],\n",
    "                                      [0, 1, 0],\n",
    "                                      [0, 0, 1],\n",
    "                                      [0, 1, 0]]\n",
    "        all_X: raw input data and activation output from every layer\n",
    "        \n",
    "        Returns\n",
    "        -------\n",
    "        grad_list: list of gradients we've just computed at each layer.\n",
    "        \"\"\"\n",
    "        \n",
    "        # Compute delta_last factor from the output\n",
    "        delta_prev, grad_last = self.compute_delta_grad_last(Y, all_X)\n",
    "\n",
    "        grad_list = [grad_last]\n",
    "\n",
    "        for i in range(len(self.layers) - 1)[::-1]:\n",
    "            prev_layer = self.layers[i+1] # previous layer as backward direction\n",
    "            layer = self.layers[i]\n",
    "            X = all_X[i]\n",
    "            #### [TODO 7] START CODE HERE ####\n",
    "            delta_prev = delta_prev.dot(prev_layer.W.T)\n",
    "            grad_W, delta_prev = layer.backward(X, delta_prev)\n",
    "            #### END CODE HERE ####\n",
    "            grad_list.append(grad_W)\n",
    "\n",
    "        grad_list = grad_list[::-1]\n",
    "        return grad_list\n",
    "\n",
    "    def update_weight(self, grad_list):\n",
    "        \"\"\"\n",
    "        Update W by gradient descent using the computed gradient.\n",
    "        \n",
    "        Parameters\n",
    "        ----------\n",
    "        grad_list: (list) list of gradients from all layers that computed from backward function above\n",
    "        learning_rate: (float) learning rate for gradient descent.\n",
    "        \"\"\"\n",
    "        for i, layer in enumerate(self.layers):\n",
    "            grad = grad_list[i]\n",
    "            layer.W = layer.W - self.learning_rate * grad\n",
    "    \n",
    "    def update_weight_momentum(self, grad_list, momentum_rate):\n",
    "        \"\"\"\n",
    "        Update W using gradient descent with momentum\n",
    "\n",
    "        Parameters\n",
    "        ----------\n",
    "        grad_list: (list) list of gradients from all layers that computed from backward function above\n",
    "        learning_rate: (float) learning rate.\n",
    "        momentum_rate: (float) momentum rate.\n",
    "        \"\"\"\n",
    "        if not hasattr(self, \"momentum\"):\n",
    "            self.momentum = [np.zeros_like(grad) for grad in grad_list]\n",
    "           \n",
    "        #### [TODO 8] START CODE HERE ####\n",
    "        for i, layer in enumerate(self.layers):\n",
    "            self.momentum[i] = self.momentum[i]*momentum_rate + self.learning_rate*grad_list[i]\n",
    "            layer.W = layer.W - self.momentum[i]\n",
    "        #### END CODE HERE ####\n",
    "            \n",
    "    def predict(self, X_test):\n",
    "        Y_hat = self.forward(X_test)[-1]\n",
    "        return np.argmax(Y_hat, axis=1)"
   ]
  },
  {
   "cell_type": "markdown",
   "metadata": {
    "colab_type": "text",
    "id": "-Bgw-Oh_ybyY"
   },
   "source": [
    "### Training\n",
    "\n",
    "Sau khi định nghĩa các classes HiddenLayer và NeuralNetwork, chúng ta thực hiện huấn luyện (training) mô hình. Trong bài tập này, 2 kỹ thuật training được giới thiệu:\n",
    "  \n",
    "  + Batch train\n",
    "  + Mini-batch train"
   ]
  },
  {
   "cell_type": "markdown",
   "metadata": {
    "colab_type": "text",
    "id": "Tbgwx4t_zG-F"
   },
   "source": [
    "#### Batch train"
   ]
  },
  {
   "cell_type": "markdown",
   "metadata": {
    "colab_type": "text",
    "id": "L2l8z9nmWU6j"
   },
   "source": [
    "Định nghĩa hàm `batch_train` để  train trên toàn dữ liệu. Có nghĩa là weights `W` trên mạng neural network sẽ được update trên toàn điểm dữ liệu, thay vì ở mỗi batch điểm dữ liệu như là `mini_batch_train`"
   ]
  },
  {
   "cell_type": "code",
   "execution_count": 10,
   "metadata": {
    "colab": {},
    "colab_type": "code",
    "id": "YgryBOGbWU6j"
   },
   "outputs": [],
   "source": [
    " def batch_train(X_train, Y_train, epochs, neural_network, bat=False):\n",
    "    \"\"\"\n",
    "    Using batch train.\n",
    "    \n",
    "    Parameters\n",
    "    ----------\n",
    "    X_train: training data X.\n",
    "    Y_train: training data Y.\n",
    "    epochs: number of iterations that we should use to train.\n",
    "    neural_network: NeuralNetwork object instance above.\n",
    "    \"\"\"\n",
    "    all_loss = []\n",
    "    display_step = 100 if bat else 10\n",
    "    \n",
    "    for e in range(epochs):\n",
    "        all_X = neural_network.forward(X_train)\n",
    "        loss = neural_network.compute_loss(Y_train, all_X[-1])\n",
    "        grad_list = neural_network.backward(Y_train, all_X)\n",
    "        neural_network.update_weight(grad_list)\n",
    "        \n",
    "        all_loss.append(loss)\n",
    "        \n",
    "        if (e+1) % display_step == 0:\n",
    "            display.clear_output(wait=True)\n",
    "            \n",
    "            if bat:\n",
    "                y_hat = neural_network.forward(X_train)[-1]\n",
    "                visualize_point(X_train, np.argmax(Y_train,axis=1), y_hat)\n",
    "            plot_loss(all_loss, title=\"Loss epoch %s: %.4f\" % (e+1, loss), color=2)\n",
    "            plt.show()\n",
    "            plt.pause(0.01)"
   ]
  },
  {
   "cell_type": "markdown",
   "metadata": {
    "colab_type": "text",
    "id": "gUd2QWbYWU6l"
   },
   "source": [
    "#### \\[TODO 9\\] Mini-batch train\n",
    "Định nghĩa hàm `mini_batch_train` (2đ)\n",
    "\n",
    "**Pseudocode:**\n",
    "\n",
    "```\n",
    "-> For each epoch do:\n",
    "    -> Shuffle data\n",
    "    -> Set initial loss at that epoch equal to 0\n",
    "    -> Calculate number of batches based on batch size and total number of data points\n",
    "    -> For each batch do:\n",
    "        -> all_X := nn.forward() at that batch, Y_hat is equal all_X[-1]\n",
    "        -> compute loss at that batch\n",
    "        -> initial loss += computed loss at that batch\n",
    "        -> grad_list := nn.backward()\n",
    "        -> update weights.\n",
    "```"
   ]
  },
  {
   "cell_type": "code",
   "execution_count": 11,
   "metadata": {
    "colab": {},
    "colab_type": "code",
    "id": "_mxAl4-lWU6m"
   },
   "outputs": [],
   "source": [
    " def minibatch_train(X_train, Y_train, epochs, batch_size, num_class, neural_network):\n",
    "    \"\"\"\n",
    "    Using batch train.\n",
    "    \n",
    "    Parameters\n",
    "    ----------\n",
    "    X_train: training data X.\n",
    "    Y_train: training data Y.\n",
    "    epochs: number of iterations that we should use to train.\n",
    "    batch_size: number of batch at each update.\n",
    "    neural_network: NeuralNetwork object instance above.\n",
    "    \n",
    "    \"\"\"\n",
    "    #### [TODO 9] START CODE HERE ####\n",
    "    data = np.concatenate((X_train, Y_train), axis=1)\n",
    "    n = data.shape[0]\n",
    "    for e in range(epochs):\n",
    "        np.random.shuffle(data)\n",
    "        X_train, Y_train = data[:, :-num_class], data[:, -num_class:]\n",
    "        num_batches = n // batch_size if n % batch_size == 0 else n // batch_size + 1\n",
    "        all_loss = 0.0\n",
    "        for b in range(num_batches):\n",
    "            all_X = neural_network.forward(X_train[b:b+batch_size])\n",
    "            loss = neural_network.compute_loss(Y_train[b:b+batch_size], all_X[-1])\n",
    "            grad_list = neural_network.backward(Y_train[b:b+batch_size], all_X)\n",
    "            neural_network.update_weight(grad_list)\n",
    "            all_loss += loss\n",
    "        print(\"Loss epoch %s: %.4f\" % (e, all_loss/num_batches))\n",
    "    #### END CODE HERE ####"
   ]
  },
  {
   "cell_type": "markdown",
   "metadata": {
    "colab_type": "text",
    "id": "4qwKm1md29Do"
   },
   "source": [
    "### Bat classification"
   ]
  },
  {
   "cell_type": "markdown",
   "metadata": {
    "colab_type": "text",
    "id": "ulg41hJv3BVa"
   },
   "source": [
    "#### Hyperparameters"
   ]
  },
  {
   "cell_type": "code",
   "execution_count": 12,
   "metadata": {
    "colab": {},
    "colab_type": "code",
    "id": "1DpNCieI3FHt"
   },
   "outputs": [],
   "source": [
    "EPOCHS = 3000\n",
    "LEARNING_RATE = 0.02\n",
    "REG= 1e-5\n",
    "BATCH_SIZE = 64"
   ]
  },
  {
   "cell_type": "code",
   "execution_count": 13,
   "metadata": {
    "colab": {},
    "colab_type": "code",
    "id": "pB01QyBYWU6o"
   },
   "outputs": [],
   "source": [
    "def bat_classification(use_batch_train=True):\n",
    "    # Load data from file\n",
    "    # Make sure that bat.dat is in data/\n",
    "    train_X, train_Y, test_X, test_Y = get_bat_data()\n",
    "    train_X, _, test_X = normalize(train_X, train_X, test_X)    \n",
    "\n",
    "    test_Y  = test_Y.flatten()\n",
    "    train_Y = train_Y.flatten()\n",
    "    num_class = (np.unique(train_Y)).shape[0]\n",
    "\n",
    "    # Pad 1 as the third feature of train_x and test_x\n",
    "    train_X = add_one(train_X) \n",
    "    test_X = add_one(test_X)\n",
    "    \n",
    "    train_Y = create_one_hot(train_Y, num_class)\n",
    "\n",
    "    # Create NN classifier\n",
    "    # Bạn có thể biến đổi thêm/bớt hidden layer, thay đổi hàm activation cho mỗi layer\n",
    "    # và quan sát sự khác biệt trong quá trình train.\n",
    "    net = NeuralNetwork(learning_rate=LEARNING_RATE, num_class=num_class, reg=REG)\n",
    "    net.add_layer(100, 'relu')\n",
    "    net.add_layer(100, 'relu')\n",
    "    net.add_layer(100, 'relu')\n",
    "    net.add_layer(num_class, 'softmax')\n",
    "\n",
    "    if use_batch_train:\n",
    "        #Batch training - train all dataset\n",
    "        batch_train(train_X, train_Y, EPOCHS, net, bat=True)\n",
    "    else:\n",
    "        #Minibatch training - training dataset using Minibatch approach\n",
    "        minibatch_train(train_X, train_Y, EPOCHS, BATCH_SIZE, num_class, net)\n",
    "    metrics = confusion_matrix(test_Y, net.predict(test_X))\n",
    "    print(\"Confusion metrix: \")\n",
    "    print(metrics)\n",
    "    \n",
    "    print(\"Accuracy: \")\n",
    "    print(metrics.trace()/test_Y.shape[0])"
   ]
  },
  {
   "cell_type": "markdown",
   "metadata": {
    "colab_type": "text",
    "id": "TexzWSA134rp"
   },
   "source": [
    "#### Training"
   ]
  },
  {
   "cell_type": "code",
   "execution_count": null,
   "metadata": {
    "colab": {
     "base_uri": "https://localhost:8080/",
     "height": 759
    },
    "colab_type": "code",
    "id": "q-pC5wwi36nK",
    "outputId": "6506018f-c1ad-4f25-9d39-4f9314c04f3b"
   },
   "outputs": [
    {
     "data": {
      "image/png": "[encoded data removed]",
      "text/plain": [
       "<Figure size 864x432 with 2 Axes>"
      ]
     },
     "metadata": {
      "needs_background": "light"
     },
     "output_type": "display_data"
    },
    {
     "data": {
      "image/png": "[encoded data removed]",
      "text/plain": [
       "<Figure size 432x288 with 1 Axes>"
      ]
     },
     "metadata": {
      "needs_background": "light"
     },
     "output_type": "display_data"
    }
   ],
   "source": [
    "bat_classification(use_batch_train=True)"
   ]
  },
  {
   "cell_type": "markdown",
   "metadata": {
    "colab_type": "text",
    "id": "Ou2UARc_4-WQ"
   },
   "source": [
    "### MNIST Classification"
   ]
  },
  {
   "cell_type": "markdown",
   "metadata": {
    "colab_type": "text",
    "id": "qEtTnNI15S3-"
   },
   "source": [
    "#### Hyperparameters"
   ]
  },
  {
   "cell_type": "code",
   "execution_count": null,
   "metadata": {
    "colab": {},
    "colab_type": "code",
    "id": "TVIWAF_85W3d"
   },
   "outputs": [],
   "source": [
    "# Thay đổi giá trị của các hyperparameter bên dưới và\n",
    "# quan sát sự thay đổi của loss và quá trình training\n",
    "EPOCHS = 300\n",
    "LEARNING_RATE = 0.01\n",
    "REG= 1e-5\n",
    "BATCH_SIZE = 64"
   ]
  },
  {
   "cell_type": "markdown",
   "metadata": {
    "colab_type": "text",
    "id": "OnBkMY4M5afF"
   },
   "source": [
    "#### Định nghĩa hàm `mnist_classification`"
   ]
  },
  {
   "cell_type": "code",
   "execution_count": null,
   "metadata": {
    "colab": {},
    "colab_type": "code",
    "id": "yFxeQSW9WU6p"
   },
   "outputs": [],
   "source": [
    "def mnist_classification(use_batch_train=True):\n",
    "    # Load data from file\n",
    "    # Make sure that fashion-mnist/*.gz is in data/\n",
    "    train_X, train_Y, val_X, val_Y, test_X, test_Y = get_mnist_data(1)\n",
    "    train_X, val_X, test_X = normalize(train_X, val_X, test_X)    \n",
    "    \n",
    "    num_class = (np.unique(train_Y)).shape[0]\n",
    "\n",
    "    # Pad 1 as the third feature of train_x and test_x\n",
    "    train_X = add_one(train_X)\n",
    "    val_X = add_one(val_X)\n",
    "    test_X = add_one(test_X)\n",
    "    \n",
    "    train_Y = create_one_hot(train_Y, num_class)\n",
    "    val_Y = create_one_hot(val_Y, num_class)\n",
    "\n",
    "    # Create NN classifier\n",
    "    net = NeuralNetwork(learning_rate=LEARNING_RATE, num_class=num_class, reg=REG)\n",
    "    net.add_layer(128, 'relu')\n",
    "    net.add_layer(256, 'relu')\n",
    "    net.add_layer(100, 'relu')\n",
    "    net.add_layer(64, 'relu')\n",
    "    net.add_layer(num_class, 'softmax')\n",
    "     \n",
    "    if use_batch_train:\n",
    "        #Batch training - train all dataset\n",
    "        batch_train(train_X, train_Y, EPOCHS, net)\n",
    "    else:\n",
    "        #Minibatch training - training dataset using Minibatch approach\n",
    "        minibatch_train(train_X, train_Y, EPOCHS, BATCH_SIZE, num_class, net)\n",
    "    metrics = confusion_matrix(test_Y, net.predict(test_X))\n",
    "    print(\"Confusion metrix: \")\n",
    "    print(metrics)\n",
    "\n",
    "    print(\"Accuracy: \")\n",
    "    print(metrics.trace()/test_Y.shape[0])"
   ]
  },
  {
   "cell_type": "code",
   "execution_count": null,
   "metadata": {
    "colab": {
     "base_uri": "https://localhost:8080/",
     "height": 508
    },
    "colab_type": "code",
    "id": "xbVkCOajWU6t",
    "outputId": "1eaa6df5-0781-4bf9-8edf-e2e26d36b1da"
   },
   "outputs": [],
   "source": [
    "mnist_classification(use_batch_train=True)"
   ]
  },
  {
   "cell_type": "markdown",
   "metadata": {
    "colab_type": "text",
    "id": "ENZ_priJWU6v"
   },
   "source": [
    "### II/Thực hiện Deep Neural Network với Tensorflow"
   ]
  },
  {
   "cell_type": "markdown",
   "metadata": {
    "colab_type": "text",
    "id": "UhQk2HiCwQjt"
   },
   "source": [
    "### Import các thư viện cần thiết"
   ]
  },
  {
   "cell_type": "code",
   "execution_count": null,
   "metadata": {
    "colab": {},
    "colab_type": "code",
    "id": "45er7c5AWU6v"
   },
   "outputs": [],
   "source": [
    "import tensorflow as tf\n",
    "L = tf.keras.layers"
   ]
  },
  {
   "cell_type": "code",
   "execution_count": null,
   "metadata": {
    "colab": {},
    "colab_type": "code",
    "id": "-DtdFOdFWU6x"
   },
   "outputs": [],
   "source": [
    "tf.keras.backend.clear_session()"
   ]
  },
  {
   "cell_type": "markdown",
   "metadata": {
    "colab_type": "text",
    "id": "8yYS3SJzwVP-"
   },
   "source": [
    "### Cài đặt class `DNNModel`\n",
    "\n",
    "Trong phần này bạn có các TODO sau:"
   ]
  },
  {
   "cell_type": "markdown",
   "metadata": {
    "colab_type": "text",
    "id": "viMp39N6wYxi"
   },
   "source": [
    "#### \\[TODO 10] Cài đặt kiến trúc mô hình\n",
    "\n",
    "Yêu cầu: xây dựng kiến trúc mạng với `tf.keras.Sequential()` để chồng các hidden layers và output layer với nhau. (1đ)"
   ]
  },
  {
   "cell_type": "markdown",
   "metadata": {
    "colab_type": "text",
    "id": "SswRaNBUwcez"
   },
   "source": [
    "#### [TODO 11] Cài đặt hàm tính accuracy\n",
    "\n",
    "Cài đặt hàm tính accuracy. (1đ)"
   ]
  },
  {
   "cell_type": "markdown",
   "metadata": {
    "colab_type": "text",
    "id": "-AuWz1knwfxQ"
   },
   "source": [
    "#### \\[TODO 12\\] Cài đặt hàm train\n",
    "Cài đặt các bước để train mô hình trong class `DNNModel`. (2đ)"
   ]
  },
  {
   "cell_type": "code",
   "execution_count": null,
   "metadata": {
    "colab": {},
    "colab_type": "code",
    "id": "xOrRAyEiWU6y"
   },
   "outputs": [],
   "source": [
    "class DNNModel:\n",
    "    def __init__(self, hidden_layers, num_classes, activation, epochs, optimizer):\n",
    "        self.hidden_layers = hidden_layers\n",
    "        self.num_classes = num_classes\n",
    "        self.activation = activation\n",
    "        self.epochs = epochs\n",
    "        self.optimizer = optimizer\n",
    "        #Hidden layers and output layers are stacked to form a model\n",
    "        self.model = tf.keras.Sequential()\n",
    "        #### [TODO 10] START CODE HERE ####\n",
    "        for num_nodes in self.hidden_layers: #Add hidden layers\n",
    "            self.model.add(L.Dense(units=num_nodes, activation=self.activation))\n",
    "        self.model.add(L.Dense(units=self.num_classes, activation=tf.nn.softmax)) #Add output layer\n",
    "        #### END CODE HERE ####\n",
    "\n",
    "    def loss(self, y_hat, y):\n",
    "        \"\"\"\n",
    "        Compute loss function.\n",
    "        \n",
    "        Parameters\n",
    "        ----------\n",
    "        y_hat: output of the last layer (softmax layer).\n",
    "        y: labels/targets in our data.\n",
    "        \n",
    "        Returns\n",
    "        -------\n",
    "        Loss w.r.t y_hat and y. Should be a scalar.\n",
    "        \"\"\"\n",
    "        return tf.reduce_mean(-tf.reduce_sum(y*tf.math.log(y_hat), axis=1), axis=0)\n",
    "\n",
    "    def accuracy(self, y_hat, y):\n",
    "        \"\"\"\n",
    "        Compute accuracy score.\n",
    "        \n",
    "        Parameters\n",
    "        ----------\n",
    "        y_hat: output of the last layer (softmax layer).\n",
    "        y: labels/targets in our data.\n",
    "        \n",
    "        Returns\n",
    "        -------\n",
    "        Accuracy w.r.t y_hat and y. Should be a scalar.\n",
    "        \n",
    "        \"\"\"\n",
    "        #### [TODO 11] START CODE HERE ####\n",
    "        correct_result = tf.equal(tf.argmax(y_hat, 1), tf.argmax(y, 1))\n",
    "        acc = tf.reduce_mean(tf.cast(correct_result, tf.float32))\n",
    "            \n",
    "        #### END CODE HERE ####\n",
    "        return acc\n",
    "\n",
    "    def train(self, x_train, y_train):\n",
    "        all_loss = []\n",
    "        all_acc = []\n",
    "        for e in range(self.epochs):\n",
    "            #### [TODO 12] START CODE HERE ####\n",
    "            with tf.GradientTape() as tape:\n",
    "                y_hat = self.model(x_train)\n",
    "                loss = self.loss(y_hat, y_train)\n",
    "                accuracy = self.accuracy(y_hat, y_train)\n",
    "            \n",
    "            variables = self.model.variables\n",
    "            \n",
    "            gradients = tape.gradient(loss, variables)\n",
    "\n",
    "            self.optimizer.apply_gradients(zip(gradients, variables))\n",
    "            \n",
    "            all_loss.append(loss)\n",
    "            \n",
    "            all_acc.append(accuracy)\n",
    "            \n",
    "            #### END CODE HERE ####\n",
    "            \n",
    "            print(f\"\\rEpoch: {e}... Training loss: {loss}... Accuracy: {accuracy}\")\n",
    "\n",
    "    def predict(self, inputs):\n",
    "        Y_hat = self.model(inputs)\n",
    "        return tf.argmax(Y_hat, axis=1)"
   ]
  },
  {
   "cell_type": "markdown",
   "metadata": {
    "colab_type": "text",
    "id": "vw1e7NV6w_H8"
   },
   "source": [
    "### Bat classification"
   ]
  },
  {
   "cell_type": "code",
   "execution_count": null,
   "metadata": {
    "colab": {},
    "colab_type": "code",
    "id": "oX6kx8LRWU62"
   },
   "outputs": [],
   "source": [
    "def tf_bat_classification():\n",
    "     # Load data from file\n",
    "    # Make sure that bat.dat is in data/\n",
    "    train_X, train_Y, test_X, test_Y = get_bat_data()\n",
    "    train_X, _, test_X = normalize(train_X, train_X, test_X)    \n",
    "\n",
    "    test_Y  = test_Y.flatten()\n",
    "    train_Y = train_Y.flatten()\n",
    "    num_class = (np.unique(train_Y)).shape[0]\n",
    "\n",
    "    # Pad 1 as the third feature of train_x and test_x\n",
    "    train_X = add_one(train_X) \n",
    "    test_X = add_one(test_X)\n",
    "    \n",
    "    train_Y = create_one_hot(train_Y, num_class)\n",
    "    \n",
    "    # DNN parameters\n",
    "    hidden_layers = [100, 100, 100]\n",
    "    learning_rate = 0.001\n",
    "    epochs = 200\n",
    "    activation = tf.nn.relu\n",
    "    # optimizer = tf.compat.v1.train.AdamOptimizer(learning_rate=learning_rate)\n",
    "    optimizer = tf.keras.optimizers.Adam(learning_rate= learning_rate)\n",
    "\n",
    "    #Initialize model\n",
    "    dnn = DNNModel(hidden_layers=hidden_layers, num_classes=num_class,\n",
    "                   activation=activation, epochs=epochs, optimizer=optimizer)\n",
    "    #Train\n",
    "    dnn.train(train_X, train_Y)\n",
    "\n",
    "    # TEST\n",
    "    # Confusion matrix\n",
    "    metrics = confusion_matrix(test_Y, dnn.predict(test_X))\n",
    "    print('Confusion matrix:')\n",
    "    print(metrics)\n",
    "    \n",
    "    print(\"Accuracy: \")\n",
    "    print(metrics.trace()/test_Y.shape[0])"
   ]
  },
  {
   "cell_type": "code",
   "execution_count": null,
   "metadata": {
    "colab": {
     "base_uri": "https://localhost:8080/",
     "height": 1000
    },
    "colab_type": "code",
    "id": "XIDdnQ3SWU65",
    "outputId": "b69e73ac-5006-4dea-a2e2-33572a2ca839"
   },
   "outputs": [],
   "source": [
    "tf_bat_classification()"
   ]
  },
  {
   "cell_type": "markdown",
   "metadata": {
    "colab_type": "text",
    "id": "zs6IMFGYxC8H"
   },
   "source": [
    "### MNIST Classification"
   ]
  },
  {
   "cell_type": "code",
   "execution_count": null,
   "metadata": {
    "colab": {},
    "colab_type": "code",
    "id": "SBYDUF49WU67"
   },
   "outputs": [],
   "source": [
    "def tf_mnist_classification():\n",
    "    # Load data from file\n",
    "    # Make sure that fashion-mnist/*.gz is in data/\n",
    "    train_X, train_Y, val_X, val_Y, test_X, test_Y = get_mnist_data(1)\n",
    "    train_X, val_X, test_X = normalize(train_X, val_X, test_X)    \n",
    "    \n",
    "    num_class = (np.unique(train_Y)).shape[0]\n",
    "\n",
    "    # Pad 1 as the third feature of train_x and test_x\n",
    "    train_X = add_one(train_X)\n",
    "    val_X = add_one(val_X)\n",
    "    test_X = add_one(test_X)\n",
    "    \n",
    "    train_Y = create_one_hot(train_Y, num_class)\n",
    "    val_Y = create_one_hot(val_Y, num_class)\n",
    "\n",
    "    # Define hyper-parameters and train-related parameters\n",
    "    hidden_layers = [128, 256, 100, 64]\n",
    "    learning_rate = 0.01\n",
    "    epochs = 100\n",
    "    activation = tf.nn.relu\n",
    "    # optimizer = tf.compat.v1.train.AdamOptimizer(learning_rate=learning_rate)\n",
    "    optimizer = tf.keras.optimizers.Adam(learning_rate=learning_rate)\n",
    "    \n",
    "\n",
    "    #Initialize model\n",
    "    dnn = DNNModel(hidden_layers=hidden_layers, num_classes=num_class,\n",
    "                   activation=activation, epochs=epochs, optimizer=optimizer)\n",
    "    #Train\n",
    "    dnn.train(train_X, train_Y)\n",
    "\n",
    "    # TEST\n",
    "    # Confusion matrix\n",
    "    metrics = confusion_matrix(test_Y, dnn.predict(test_X))\n",
    "    print('Confusion matrix:')\n",
    "    print(metrics)\n",
    "    print(\"Accuracy: \")\n",
    "    print(metrics.trace()/test_Y.shape[0])"
   ]
  },
  {
   "cell_type": "code",
   "execution_count": null,
   "metadata": {
    "colab": {
     "base_uri": "https://localhost:8080/",
     "height": 1000
    },
    "colab_type": "code",
    "id": "Qv1dUpGLWU68",
    "outputId": "775a5c61-37c3-4181-c4bc-22ab4ea40167"
   },
   "outputs": [],
   "source": [
    "tf_mnist_classification()"
   ]
  },
  {
   "cell_type": "markdown",
   "metadata": {
    "colab_type": "text",
    "id": "leXWHS7Y1P63"
   },
   "source": [
    "## III. Thang điểm"
   ]
  },
  {
   "cell_type": "markdown",
   "metadata": {
    "colab_type": "text",
    "id": "ZbE0byhD1Tab"
   },
   "source": [
    "| TODO  | Điểm  |   |   |   |\n",
    "|---|---|---|---|---|\n",
    "|\\[TODO 1\\] Cài đặt các hàm activation   |  1 |   |   |   |\n",
    "|\\[TODO 2\\] Hàm `forward`/`HiddenLayer` | 1  |   |   |   |\n",
    "|\\[TODO 3\\] Hàm `backward`/`HiddenLayer`  | 2  |   |   |   |\n",
    "|\\[TODO 4\\] Hàm `forward`/`NeuralNetwork`  | 0.5  |   |   |   |\n",
    "|\\[TODO 5\\] Hàm `compute_loss`/`NeuralNetwork`  | 1.5  |   |   |   |\n",
    "|\\[TODO 6\\] Hàm `compute_delta_grad_last`/`NeuralNetwork`  | 1  |   |   |   |\n",
    "|\\[TODO 7\\] Hàm `backward`/`NeuralNetwork`  | 1  |   |   |   |\n",
    "|\\[TODO 8\\] Hàm `update_weight_momentum`/`NeuralNetwork`  | 1  |   |   |   |\n",
    "|\\[TODO 9\\] Hàm `minibatch_train`  | 2  |   |   |   |\n",
    "|\\[TODO 10\\] Cài đặt kiến trúc Neural network sử dụng tensorflow  | 1  |   |   |   |\n",
    "|\\[TODO 11\\] Cài đặt hàm tính accuracy  | 1  |   |   |   |\n",
    "|\\[TODO 12\\] Cài đặt hàm train trong class `DNNModel`  | 2  |   |   |   |\n",
    "|**Tổng**| **15**  |   |   |   |"
   ]
  },
  {
   "cell_type": "markdown",
   "metadata": {
    "colab_type": "text",
    "id": "lZhNMhztBiQk"
   },
   "source": [
    "## Author: Giang Tran, Hoa Nguyen"
   ]
  },
  {
   "cell_type": "code",
   "execution_count": null,
   "metadata": {
    "colab": {},
    "colab_type": "code",
    "id": "PK7QqUOyBvBL"
   },
   "outputs": [],
   "source": []
  }
 ],
 "metadata": {
  "accelerator": "GPU",
  "colab": {
   "collapsed_sections": [],
   "name": "2.SolutionDeepNeuralNetwork.ipynb",
   "provenance": [],
   "toc_visible": true
  },
  "kernelspec": {
   "display_name": "Python 3",
   "language": "python",
   "name": "python3"
  },
  "language_info": {
   "codemirror_mode": {
    "name": "ipython",
    "version": 3
   },
   "file_extension": ".py",
   "mimetype": "text/x-python",
   "name": "python",
   "nbconvert_exporter": "python",
   "pygments_lexer": "ipython3",
   "version": "3.8.2"
  }
 },
 "nbformat": 4,
 "nbformat_minor": 4
}
