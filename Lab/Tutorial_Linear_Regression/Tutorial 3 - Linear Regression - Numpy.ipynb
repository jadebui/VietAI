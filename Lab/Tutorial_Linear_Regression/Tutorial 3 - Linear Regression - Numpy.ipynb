{
 "cells": [
  {
   "cell_type": "markdown",
   "metadata": {},
   "source": [
    "# Giới thiệu\n",
    "\n",
    "### Tổng quan\n",
    "\n",
    "Chào mừng đã đến bài lab đầu tiên trong Khóa học VietAI. Lần này bạn sẽ học cách tương tác với hai thư viện được biết đến nhiều nhất - Numpy và TensorFlow. Bài toán chúng ta sẽ giải quyết trong buổi hôm nay là linear regression.\n",
    " \n",
    "### Mục tiêu học tập\n",
    "\n",
    "* Hiểu thêm về cách hoạt động của Numpy và Tensorflow \n",
    "* Có thể viết một thuật toán đơn giản (và debug) với `Tensorflow` và `Numpy` qua ví dụ về hồi quy tuyến tính.\n",
    "* Hiểu thêm về hồi quy tuyến tính.\n",
    "\n",
    "# Giới thiệu\n",
    "\n",
    "Bài toán lần này, chúng ta sẽ cùng nhau dự đoán giá nhà tại một thành phố Boston ở Mỹ với kích thước mẫu với 506 giá trị với 13 thuộc tính như sau\n",
    "\n",
    "```\n",
    "- CRIM per capita crime rate by town\n",
    "- ZN proportion of residential land zoned for lots over 25,000 sq.ft.\n",
    "- INDUS proportion of non-retail business acres per town\n",
    "- CHAS Charles River dummy variable (= 1 if tract bounds river; 0 otherwise)\n",
    "- NOX nitric oxides concentration (parts per 10 million)\n",
    "- RM average number of rooms per dwelling\n",
    "- AGE proportion of owner-occupied units built prior to 1940\n",
    "- DIS weighted distances to five Boston employment centres\n",
    "- RAD index of accessibility to radial highways\n",
    "- TAX full-value property-tax rate per $10,000\n",
    "- PTRATIO pupil-teacher ratio by town\n",
    "- B 1000(Bk - 0.63)ˆ2 where Bk is the proportion of blacks by town\n",
    "- LSTAT % lower status of the population\n",
    "- MEDV Median value of owner-occupied homes in $1000's\n",
    "```\n",
    "\n",
    "Với thông tin này, ta sẽ cùng nhau tiến hành xây dựng một hàm giả thuyết theo mô hình hồi quy tuyến tính dựa trên `numpy` và `tensorflow` để đưa ra giá nhà dựa trên ít nhất là 2 thuộc tính."
   ]
  },
  {
   "cell_type": "markdown",
   "metadata": {},
   "source": [
    "### I/ Tìm nghiệm bài toán Linear Regression bằng `Numpy`"
   ]
  },
  {
   "cell_type": "markdown",
   "metadata": {},
   "source": [
    "#### Nhập thư viện"
   ]
  },
  {
   "cell_type": "code",
   "execution_count": 2,
   "metadata": {},
   "outputs": [],
   "source": [
    "import numpy as np\n",
    "import pandas as pd\n",
    "import matplotlib.pyplot as plt\n",
    "%matplotlib inline"
   ]
  },
  {
   "cell_type": "markdown",
   "metadata": {},
   "source": [
    "#### Đọc dữ liệu"
   ]
  },
  {
   "cell_type": "code",
   "execution_count": 3,
   "metadata": {},
   "outputs": [
    {
     "name": "stdout",
     "output_type": "stream",
     "text": [
      "Selected original features are ['INDUS' 'RM']\n"
     ]
    }
   ],
   "source": [
    "from utils_function import load_Boston_housing_data\n",
    "\n",
    "train_X, test_X, train_Y, test_Y = load_Boston_housing_data(feature_ind = [2,5])"
   ]
  },
  {
   "cell_type": "markdown",
   "metadata": {},
   "source": [
    "Vừa rồi, ta vừa mới tải tập dữ liệu xuống và chiết ra thành 4 tập. \n",
    "\n",
    "Trong đó, `train_X` và `train_Y` được dùng để xây dựng mô hình. Còn `test_X`, `test_Y` được giữ lại và chỉ được dùng để đánh giá độ tốt của mô hình ở phút cuối. \n",
    "\n",
    "Tỉ lệ được chia ra giữa các phần xây dựng và kiểm chứng là 1:4 Sau này, chúng ta sẽ học kỹ hơn về phần này nên phần đánh giá độ tốt của mô hình mình chỉ dừng lại ở mức là thực thi câu hàm đánh giá.\n",
    "\n",
    "Để đơn giản, dữ liệu được lấy vào chỉ gồm 2 đặc tính\n",
    "\n",
    "```\n",
    "    - INDUS proportion of non-retail business acres per town\n",
    "    - RM average number of rooms per dwelling\n",
    "```\n",
    "\n",
    "Tạm dịch\n",
    "\n",
    "```\n",
    "    - INDUS: tỷ lệ diện tích không dùng cho kinh doanh bán lẻ mỗi thị trấn\n",
    "    - RM: số phòng trung bình mỗi căn hộ/ nhà\n",
    "```"
   ]
  },
  {
   "cell_type": "markdown",
   "metadata": {},
   "source": [
    "Bạn có thể lấy thêm các đặc tính khác qua việc thiết lập lại hàm `load_data` như sau"
   ]
  },
  {
   "cell_type": "code",
   "execution_count": 4,
   "metadata": {},
   "outputs": [
    {
     "data": {
      "text/plain": [
       "\u001b[0;31mSignature:\u001b[0m\n",
       "\u001b[0mload_Boston_housing_data\u001b[0m\u001b[0;34m(\u001b[0m\u001b[0;34m\u001b[0m\n",
       "\u001b[0;34m\u001b[0m    \u001b[0mtest_ratio\u001b[0m\u001b[0;34m=\u001b[0m\u001b[0;36m0.2\u001b[0m\u001b[0;34m,\u001b[0m\u001b[0;34m\u001b[0m\n",
       "\u001b[0;34m\u001b[0m    \u001b[0mfeature_ind\u001b[0m\u001b[0;34m=\u001b[0m\u001b[0;32mNone\u001b[0m\u001b[0;34m,\u001b[0m\u001b[0;34m\u001b[0m\n",
       "\u001b[0;34m\u001b[0m    \u001b[0mrandom_state\u001b[0m\u001b[0;34m=\u001b[0m\u001b[0;36m0\u001b[0m\u001b[0;34m,\u001b[0m\u001b[0;34m\u001b[0m\n",
       "\u001b[0;34m\u001b[0m    \u001b[0mprint_info\u001b[0m\u001b[0;34m=\u001b[0m\u001b[0;32mFalse\u001b[0m\u001b[0;34m,\u001b[0m\u001b[0;34m\u001b[0m\n",
       "\u001b[0;34m\u001b[0m\u001b[0;34m)\u001b[0m\u001b[0;34m\u001b[0m\u001b[0;34m\u001b[0m\u001b[0m\n",
       "\u001b[0;31mDocstring:\u001b[0m\n",
       "Load Boston Dataset from Sklearn.\n",
       "\n",
       "Args:\n",
       "  test_ratio(float)       : a proportion between train set and test set. Default = 0.2\n",
       "  feature_ind(list(int))  : a list of index feature to be extracted from the original data set. No indication\n",
       "                            means that all feature is chosen.\n",
       "  random_state(int)       : a seed value for shuffling between values\n",
       "  print_info(boolean)     : True if print the information of data set. Default: False\n",
       "  \n",
       "Returns:\n",
       "  a tuple of four np.array data sets train_data, test_data, train_targets, test_targets\n",
       "  \n",
       "\u001b[0;31mFile:\u001b[0m      /media/prime/PRIME/Emage/vietAI/Tutotial_Linear_Regression/utils_function.py\n",
       "\u001b[0;31mType:\u001b[0m      function\n"
      ]
     },
     "metadata": {},
     "output_type": "display_data"
    }
   ],
   "source": [
    "load_Boston_housing_data?"
   ]
  },
  {
   "cell_type": "markdown",
   "metadata": {},
   "source": [
    "Để hiểu thêm về tập dữ liệu ta có thể làm thêm một số minh họa như sau"
   ]
  },
  {
   "cell_type": "markdown",
   "metadata": {},
   "source": [
    "#### Minh họa dữ liệu"
   ]
  },
  {
   "cell_type": "code",
   "execution_count": null,
   "metadata": {},
   "outputs": [],
   "source": [
    "from utils_function import scatter_plot\n",
    "\n",
    "scatter_plot(train_X[:, 0], train_Y,\\\n",
    "            title=\"Industrialness vs Med House Price\",\\\n",
    "            x_label = \"Industrialness\",\\\n",
    "            y_label = \"Med House Price\")\n",
    "\n",
    "\n",
    "scatter_plot(train_X[:, 1], train_Y,\\\n",
    "            title=\"Avg Num Rooms vs Med House Price\",\\\n",
    "            x_label = \"Avg Num Rooms\",\\\n",
    "            y_label = \"Med House Price\")"
   ]
  },
  {
   "cell_type": "markdown",
   "metadata": {},
   "source": [
    "Hiên thời, vecto của ta đang có dạng như sau:"
   ]
  },
  {
   "cell_type": "code",
   "execution_count": null,
   "metadata": {},
   "outputs": [],
   "source": [
    "print(\"Size of data X train matrix %s\"  % str(train_X.shape))\n",
    "print(\"Size of data Y train array %s\"  % str(train_Y.shape))\n",
    "print(\"Size of data X test matrix %s\"  % str(test_X.shape))\n",
    "print(\"Size of data Y test array %s\"  % str(test_Y.shape))"
   ]
  },
  {
   "cell_type": "markdown",
   "metadata": {},
   "source": [
    "#### Bài 1. Viết hàm cost function\n",
    "Nhắc lại, từ công thức tính **mean squared error**, ta có:\n",
    "$$\\mathcal{E}(\\hat{y}, y) = \\frac{1}{2M} \\sum_{i=1}^M (\\hat{y}^{(i)}-y^{(i)})^2 $$\n",
    "Khai triển, kết quả có là\n",
    "$$\\mathcal{E}(\\hat{y}, y) = \\frac{1}{2M} \\sum_{i=1}^M (w_1 x_1^{(i)} + w_2 x_2^{(i)} + b - y^{(i)})^2 $$"
   ]
  },
  {
   "cell_type": "markdown",
   "metadata": {},
   "source": [
    "#### 1.1. Viết chương trình"
   ]
  },
  {
   "cell_type": "code",
   "execution_count": 12,
   "metadata": {},
   "outputs": [],
   "source": [
    "def np_cost(w, b, X, y):\n",
    "    '''\n",
    "    Evaluate the cost function in a non-vectorized manner for \n",
    "    inputs `X` and targets `y`, at weights `w` and `b`.\n",
    "    \n",
    "    X: 2D array dataset that has (M, n) dimension. \n",
    "    y: list of targets that has (M, 1) dimension.\n",
    "    w: list of weights that has (n, 1) dimension\n",
    "    b: a scalar bias.\n",
    "    \n",
    "    Return a scalar cost value of `w`, `b`.\n",
    "    '''\n",
    "    \n",
    "    costs = 0\n",
    "    M = len(y)\n",
    "    for i in range(len(y)):\n",
    "        \n",
    "        # TODO: complete below expression to calculate cost function\n",
    "        y_hat = None # hypothesis\n",
    "        costs += None # sum cost of each data point.\n",
    "        \n",
    "    return costs / (2 * M)"
   ]
  },
  {
   "cell_type": "markdown",
   "metadata": {},
   "source": [
    "#### 1.2 Chạy thử chương trình "
   ]
  },
  {
   "cell_type": "code",
   "execution_count": null,
   "metadata": {},
   "outputs": [],
   "source": [
    "np_cost([3, 5], 20, train_X, train_Y) # 2256.1627893564355"
   ]
  },
  {
   "cell_type": "code",
   "execution_count": null,
   "metadata": {},
   "outputs": [],
   "source": [
    "np_cost([3, 5], 0, train_X, train_Y) # 1210.8142745049508"
   ]
  },
  {
   "cell_type": "markdown",
   "metadata": {},
   "source": [
    "#### Bài 2. Vector hóa hàm cost\n",
    "\n",
    "Ngoài ra, ta còn có thể viết lại công thức trên như sau:\n",
    "\n",
    "$$\\mathcal{E}(\\hat{y}, y) = \\frac{1}{2M} \\| \\bf{X} \\bf{w} + b  - \\bf{y} \\| ^2$$ "
   ]
  },
  {
   "cell_type": "markdown",
   "metadata": {},
   "source": [
    "#### 2.1 Viết chương trình"
   ]
  },
  {
   "cell_type": "code",
   "execution_count": 13,
   "metadata": {},
   "outputs": [],
   "source": [
    "def np_cost_vectorized(w, b, X, y):\n",
    "    '''\n",
    "    Evaluate the cost function in a vectorized manner for \n",
    "    inputs `X` and targets `t`, at weights `w` and `b`.\n",
    "    \n",
    "    X: dataset matrix has (M, n) dimension. \n",
    "    y: targets vector has (M, 1) dimension.\n",
    "    w: weights vector has (n, 1) dimension\n",
    "    b: a scalar bias.\n",
    "    \n",
    "    Return a scalar cost value of `w`, `b`.\n",
    "    '''\n",
    "    \n",
    "    #TODO: Complete the following expression\n",
    "    M = None # number of dataset\n",
    "    w = None # convert to numpy array\n",
    "    y_hat = None # hypothesis\n",
    "    \n",
    "    return np.sum((y_hat - y)**2) / (2.0 * M)"
   ]
  },
  {
   "cell_type": "markdown",
   "metadata": {},
   "source": [
    "#### 2.2 Chạy thử chương trình"
   ]
  },
  {
   "cell_type": "code",
   "execution_count": null,
   "metadata": {},
   "outputs": [],
   "source": [
    "np_cost_vectorized([3, 5], 20, train_X, train_Y) # 2256.1627893564355"
   ]
  },
  {
   "cell_type": "code",
   "execution_count": null,
   "metadata": {},
   "outputs": [],
   "source": [
    "np_cost_vectorized([3, 5], 0, train_X, train_Y) # 1210.8142745049508"
   ]
  },
  {
   "cell_type": "markdown",
   "metadata": {},
   "source": [
    "### Tìm nghiệm chính xác"
   ]
  },
  {
   "cell_type": "markdown",
   "metadata": {},
   "source": [
    "#### Bài 3. Tính nghiệm chính xác"
   ]
  },
  {
   "cell_type": "markdown",
   "metadata": {},
   "source": [
    "Để chuyển qua phép tính ma trận có dạng như sau $X *w + b$ ta cần bổ sung thêm một chiều cho hệ số tự do ở phần cuối của mỗi dòng trong ma trận. \n",
    "\n",
    "**Ví dụ** Lấy dòng đầu tiên của ma trận hiện thời, ta có: `array([ 6.2  ,  6.951 ])`   $\\,\\to\\,$  `array([ 6.2  ,  6.951,  1.   ])`"
   ]
  },
  {
   "cell_type": "markdown",
   "metadata": {},
   "source": [
    "#### 3. 1 Tái tạo vecto cho tập train"
   ]
  },
  {
   "cell_type": "code",
   "execution_count": null,
   "metadata": {},
   "outputs": [],
   "source": [
    "# TODO: Add one at the end of each row in train_X by np.concatenate\n",
    "train_X_new = None"
   ]
  },
  {
   "cell_type": "code",
   "execution_count": null,
   "metadata": {},
   "outputs": [],
   "source": [
    "train_X_new[0]"
   ]
  },
  {
   "cell_type": "markdown",
   "metadata": {},
   "source": [
    "#### 3.2 Viết chương trình tính nghiệm\n",
    " \n",
    "$$W = \\left(X^{\\rm T}X\\right)^{-1} \\left(X^{\\rm T}y \\right) =  A * c $$"
   ]
  },
  {
   "cell_type": "code",
   "execution_count": 15,
   "metadata": {},
   "outputs": [],
   "source": [
    "def np_solve_exactly(X, y):\n",
    "    '''\n",
    "    Solve linear regression exactly. (fully vectorized)\n",
    "    \n",
    "    Given `X` - Mxn matrix of inputs\n",
    "          `t` - target outputs\n",
    "    Return the optimal weights as a n-dimensional vector\n",
    "\n",
    "    '''\n",
    "    \n",
    "    #TODO: Complete the below followed the above expressions\n",
    "    A = None\n",
    "    c = None\n",
    "    \n",
    "    return np.dot(np.linalg.inv(A), c)"
   ]
  },
  {
   "cell_type": "markdown",
   "metadata": {},
   "source": [
    "#### 3.3 Chạy thử chương trình"
   ]
  },
  {
   "cell_type": "code",
   "execution_count": null,
   "metadata": {},
   "outputs": [],
   "source": [
    "opt_w_exactly = np_solve_exactly(train_X_new, train_Y)\n",
    "print(\"W:\",opt_w_exactly) # [ -0.37785864   7.83254633 -22.54414787]\n",
    "print(\"Cost:\", np_cost_vectorized(opt_w_exactly[:2], opt_w_exactly[2], train_X, train_Y)) # 18.501517485624333"
   ]
  },
  {
   "cell_type": "markdown",
   "metadata": {},
   "source": [
    "### Tìm nghiệm xấp xỉ bằng `Numpy`\n"
   ]
  },
  {
   "cell_type": "markdown",
   "metadata": {},
   "source": [
    "#### Bài 4. Véc-tơ hóa hàm tính grad\n",
    "\n",
    "Với $i = 1...m $ và $j = 1...n$ xét\n",
    "\n",
    "$$ \\frac{\\partial \\mathcal{E}}{\\partial w_j} = \\frac{1}{M}\\sum_i x_j^{(i)}(\\hat{y}^{(i)}-y^{(i)}) $$\n",
    "\n",
    "\n",
    "\n",
    "#### 4.1 Viết chương trình"
   ]
  },
  {
   "cell_type": "code",
   "execution_count": 18,
   "metadata": {},
   "outputs": [],
   "source": [
    "def np_grad_fn(weights, X, y):\n",
    "    '''\n",
    "    Given `weights` - a current \"Guess\" of what our weights should be\n",
    "          `X` - matrix of shape (M,n) of input features\n",
    "          `t` - target y values\n",
    "    Return gradient of each weight evaluated at the current value\n",
    "    '''\n",
    "    \n",
    "    #TODO: Complete the below followed the above expressions\n",
    "    M, n = None\n",
    "    y_hat = None\n",
    "    error = None\n",
    "    \n",
    "    return np.dot(np.transpose(X), error) / float(M)"
   ]
  },
  {
   "cell_type": "markdown",
   "metadata": {},
   "source": [
    "#### Bài  5. Tính dựa trên Gradient Descent\n",
    "\n",
    "Xấp xỉ giá trị $W$ như sau\n",
    "\n",
    "$$ W := W - \\alpha * \\left( h_\\theta(x^{(i)}) - y^{(i)} \\right)x_j^{(i)}$$\n",
    "\n",
    "#### 5.1 Viết chương trình"
   ]
  },
  {
   "cell_type": "code",
   "execution_count": 17,
   "metadata": {},
   "outputs": [],
   "source": [
    "def np_solve_via_gradient_descent(X, y, print_every=5000,\n",
    "                               niter=100000, alpha=0.005):\n",
    "    '''\n",
    "    Given `X` - matrix of shape (M,n) of input features\n",
    "          `y` - target y values\n",
    "    Solves for linear regression weights.\n",
    "    Return weights after `niter` iterations.\n",
    "    '''\n",
    "    M, n = np.shape(X)\n",
    "    # initialize all the weights to zeros\n",
    "    w = np.zeros([n])\n",
    "    for k in range(niter):\n",
    "        \n",
    "        #TODO: Complete the below followed the above expressions\n",
    "        dw = None\n",
    "        w = None\n",
    "        \n",
    "        if k % print_every == 0:\n",
    "            print('Weight after %d iteration: %s' % (k, str(w)))\n",
    "    return w"
   ]
  },
  {
   "cell_type": "markdown",
   "metadata": {},
   "source": [
    "#### 5.2 Chạy thử chương trình"
   ]
  },
  {
   "cell_type": "code",
   "execution_count": null,
   "metadata": {},
   "outputs": [],
   "source": [
    "opt_w = np_solve_via_gradient_descent(train_X_new, train_Y)"
   ]
  },
  {
   "cell_type": "code",
   "execution_count": null,
   "metadata": {},
   "outputs": [],
   "source": [
    "print(\"Training cost:\", np_cost_vectorized(opt_w[:2], opt_w[2], train_X, train_Y)) # 18.502043170574055"
   ]
  },
  {
   "cell_type": "code",
   "execution_count": null,
   "metadata": {},
   "outputs": [],
   "source": [
    "print(\"Testing cost:\", np_cost_vectorized(opt_w[:2], opt_w[2], test_X, test_Y)) # 24.051240417619557"
   ]
  }
 ],
 "metadata": {
  "kernelspec": {
   "display_name": "Python 3",
   "language": "python",
   "name": "python3"
  },
  "language_info": {
   "codemirror_mode": {
    "name": "ipython",
    "version": 3
   },
   "file_extension": ".py",
   "mimetype": "text/x-python",
   "name": "python",
   "nbconvert_exporter": "python",
   "pygments_lexer": "ipython3",
   "version": "3.6.9"
  }
 },
 "nbformat": 4,
 "nbformat_minor": 4
}
